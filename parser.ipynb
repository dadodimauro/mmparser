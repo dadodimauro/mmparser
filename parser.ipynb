{
 "cells": [
  {
   "cell_type": "code",
   "execution_count": 3,
   "outputs": [],
   "source": [
    "from parsing.awr_parser import AWRParser, get_tables_from_json"
   ],
   "metadata": {
    "collapsed": false,
    "ExecuteTime": {
     "start_time": "2023-07-27T21:55:16.185143Z",
     "end_time": "2023-07-27T21:55:16.200802Z"
    }
   }
  },
  {
   "cell_type": "code",
   "execution_count": 4,
   "outputs": [
    {
     "name": "stdout",
     "output_type": "stream",
     "text": [
      "Processing data\\raw\\awr\\awrrpt_IDSA_2_202307010000_202307010100.html...\n",
      "Processing data\\raw\\awr\\awrrpt_IDSA_2_202307010100_202307010200.html...\n",
      "Processing data\\raw\\awr\\awrrpt_IDSA_2_202307010200_202307010300.html...\n",
      "Processing data\\raw\\awr\\awrrpt_IDSA_2_202307010300_202307010400.html...\n",
      "Processing data\\raw\\awr\\awrrpt_IDSA_2_202307010400_202307010500.html...\n",
      "Processing data\\raw\\awr\\awrrpt_IDSA_2_202307010500_202307010600.html...\n",
      "Processing data\\raw\\awr\\awrrpt_IDSA_2_202307010600_202307010700.html...\n",
      "Processing data\\raw\\awr\\awrrpt_IDSA_2_202307010700_202307010800.html...\n",
      "Processing data\\raw\\awr\\awrrpt_IDSA_2_202307010800_202307010900.html...\n",
      "Processing data\\raw\\awr\\awrrpt_IDSA_2_202307010900_202307011000.html...\n",
      "Processing data\\raw\\awr\\awrrpt_IDSA_2_202307011000_202307011100.html...\n",
      "Processing data\\raw\\awr\\awrrpt_IDSA_2_202307011100_202307011200.html...\n",
      "Processing data\\raw\\awr\\awrrpt_IDSA_2_202307011200_202307011300.html...\n",
      "Processing data\\raw\\awr\\awrrpt_IDSA_2_202307011300_202307011400.html...\n",
      "Processing data\\raw\\awr\\awrrpt_IDSA_2_202307011400_202307011500.html...\n",
      "Processing data\\raw\\awr\\awrrpt_IDSA_2_202307011500_202307011600.html...\n",
      "Processing data\\raw\\awr\\awrrpt_IDSA_2_202307011600_202307011700.html...\n",
      "Processing data\\raw\\awr\\awrrpt_IDSA_2_202307011700_202307011800.html...\n",
      "Processing data\\raw\\awr\\awrrpt_IDSA_2_202307011800_202307011900.html...\n",
      "Processing data\\raw\\awr\\awrrpt_IDSA_2_202307011900_202307012000.html...\n",
      "Processing data\\raw\\awr\\awrrpt_IDSA_2_202307012000_202307012100.html...\n",
      "Processing data\\raw\\awr\\awrrpt_IDSA_2_202307012100_202307012200.html...\n",
      "Processing data\\raw\\awr\\awrrpt_IDSA_2_202307012200_202307012300.html...\n",
      "Processing data\\raw\\awr\\awrrpt_IDSA_2_202307012300_202307020000.html...\n",
      "Processing data\\raw\\awr\\awrrpt_IDSA_2_202307020000_202307020100.html...\n",
      "Processing data\\raw\\awr\\awrrpt_IDSA_2_202307020100_202307020200.html...\n",
      "Processing data\\raw\\awr\\awrrpt_IDSA_2_202307020200_202307020300.html...\n",
      "Processing data\\raw\\awr\\awrrpt_IDSA_2_202307020300_202307020400.html...\n",
      "Processing data\\raw\\awr\\awrrpt_IDSA_2_202307020400_202307020500.html...\n",
      "Processing data\\raw\\awr\\awrrpt_IDSA_2_202307020500_202307020600.html...\n",
      "Processing data\\raw\\awr\\awrrpt_IDSA_2_202307020600_202307020700.html...\n",
      "Processing data\\raw\\awr\\awrrpt_IDSA_2_202307020700_202307020800.html...\n",
      "Processing data\\raw\\awr\\awrrpt_IDSA_2_202307020800_202307020900.html...\n",
      "Processing data\\raw\\awr\\awrrpt_IDSA_2_202307020900_202307021000.html...\n",
      "Processing data\\raw\\awr\\awrrpt_IDSA_2_202307021000_202307021100.html...\n",
      "Processing data\\raw\\awr\\awrrpt_IDSA_2_202307021100_202307021200.html...\n",
      "Processing data\\raw\\awr\\awrrpt_IDSA_2_202307021200_202307021300.html...\n",
      "Processing data\\raw\\awr\\awrrpt_IDSA_2_202307021300_202307021400.html...\n",
      "Processing data\\raw\\awr\\awrrpt_IDSA_2_202307021400_202307021500.html...\n",
      "Processing data\\raw\\awr\\awrrpt_IDSA_2_202307021500_202307021600.html...\n",
      "Processing data\\raw\\awr\\awrrpt_IDSA_2_202307021600_202307021700.html...\n",
      "Processing data\\raw\\awr\\awrrpt_IDSA_2_202307021700_202307021800.html...\n",
      "Processing data\\raw\\awr\\awrrpt_IDSA_2_202307021800_202307021900.html...\n",
      "Processing data\\raw\\awr\\awrrpt_IDSA_2_202307021900_202307022000.html...\n",
      "Processing data\\raw\\awr\\awrrpt_IDSA_2_202307022000_202307022100.html...\n",
      "Processing data\\raw\\awr\\awrrpt_IDSA_2_202307022100_202307022200.html...\n",
      "Processing data\\raw\\awr\\awrrpt_IDSA_2_202307022200_202307022300.html...\n",
      "Processing data\\raw\\awr\\awrrpt_IDSA_2_202307022300_202307030000.html...\n",
      "Processing data\\raw\\awr\\awrrpt_IDSA_2_202307030000_202307030100.html...\n",
      "Processing data\\raw\\awr\\awrrpt_IDSA_2_202307030100_202307030200.html...\n",
      "Processing data\\raw\\awr\\awrrpt_IDSA_2_202307030200_202307030300.html...\n",
      "Processing data\\raw\\awr\\awrrpt_IDSA_2_202307030300_202307030400.html...\n",
      "Processing data\\raw\\awr\\awrrpt_IDSA_2_202307030400_202307030500.html...\n",
      "Processing data\\raw\\awr\\awrrpt_IDSA_2_202307030500_202307030600.html...\n",
      "Processing data\\raw\\awr\\awrrpt_IDSA_2_202307030600_202307030700.html...\n",
      "Processing data\\raw\\awr\\awrrpt_IDSA_2_202307030700_202307030800.html...\n",
      "Processing data\\raw\\awr\\awrrpt_IDSA_2_202307030800_202307030900.html...\n",
      "Processing data\\raw\\awr\\awrrpt_IDSA_2_202307030900_202307031000.html...\n",
      "Processing data\\raw\\awr\\awrrpt_IDSA_2_202307031000_202307031100.html...\n",
      "  Created: load_profile.csv\n",
      "  Created: foreground_events_wait.csv\n",
      "  Created: wait_classes.csv\n",
      "  Created: sql_elapsed.csv\n",
      "  Created: sql_cpu.csv\n",
      "  Created: sql_user_io.csv\n",
      "  Created: io_filetype.csv\n",
      "  Created: tablespace_io.csv\n"
     ]
    }
   ],
   "source": [
    "data = get_tables_from_json('tables.json')\n",
    "p = AWRParser(data)\n",
    "p.make_csv(input_dir='data/raw/awr', output_dir='data/parsed/awr')"
   ],
   "metadata": {
    "collapsed": false,
    "ExecuteTime": {
     "start_time": "2023-07-27T21:55:17.419555Z",
     "end_time": "2023-07-27T21:56:14.845400Z"
    }
   }
  }
 ],
 "metadata": {
  "kernelspec": {
   "display_name": "Python 3",
   "language": "python",
   "name": "python3"
  },
  "language_info": {
   "codemirror_mode": {
    "name": "ipython",
    "version": 2
   },
   "file_extension": ".py",
   "mimetype": "text/x-python",
   "name": "python",
   "nbconvert_exporter": "python",
   "pygments_lexer": "ipython2",
   "version": "2.7.6"
  }
 },
 "nbformat": 4,
 "nbformat_minor": 0
}
