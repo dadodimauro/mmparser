{
 "cells": [
  {
   "cell_type": "code",
   "execution_count": 5,
   "metadata": {
    "ExecuteTime": {
     "end_time": "2023-08-11T12:57:39.957241Z",
     "start_time": "2023-08-11T12:57:39.768083Z"
    },
    "collapsed": false
   },
   "outputs": [],
   "source": [
    "from parsing.awr_parser import AWRParser, get_tables_from_json"
   ]
  },
  {
   "cell_type": "code",
   "execution_count": 6,
   "metadata": {
    "ExecuteTime": {
     "end_time": "2023-08-11T13:13:01.109574Z",
     "start_time": "2023-08-11T12:57:39.957241Z"
    },
    "collapsed": false
   },
   "outputs": [
    {
     "name": "stdout",
     "output_type": "stream",
     "text": [
      "Processing C:\\Users\\david\\Downloads\\awr-test\\report_1_THSHAREX_77222_77223.html...\n",
      "Processing C:\\Users\\david\\Downloads\\awr-test\\report_1_THSHAREX_77223_77224.html...\n",
      "Processing C:\\Users\\david\\Downloads\\awr-test\\report_1_THSHAREX_77232_77233.html...\n",
      "Processing C:\\Users\\david\\Downloads\\awr-test\\report_1_THSHAREX_77233_77234.html...\n",
      "Processing C:\\Users\\david\\Downloads\\awr-test\\report_1_THSHAREX_77234_77235.html...\n",
      "  Created: load_profile.csv\n",
      "  Created: foreground_events_wait.csv\n",
      "  Created: wait_classes.csv\n",
      "  Created: sql_elapsed.csv\n",
      "  Created: sql_cpu.csv\n",
      "  Created: sql_user_io.csv\n",
      "  Created: tablespace_io.csv\n",
      "  Created: blocking_sessions.csv\n",
      "  Created: host_info.csv\n"
     ]
    }
   ],
   "source": [
    "data = get_tables_from_json('tables.json')\n",
    "p = AWRParser(data)\n",
    "p.make_csv(mode='new', input_dir='C:/Users/david/Downloads/awr-test', \n",
    "                        output_dir='C:/Users/david/Downloads/awr-test/parsed', \n",
    "                        recursive=True)"
   ]
  }
 ],
 "metadata": {
  "kernelspec": {
   "display_name": "Python 3",
   "language": "python",
   "name": "python3"
  },
  "language_info": {
   "codemirror_mode": {
    "name": "ipython",
    "version": 3
   },
   "file_extension": ".py",
   "mimetype": "text/x-python",
   "name": "python",
   "nbconvert_exporter": "python",
   "pygments_lexer": "ipython3",
   "version": "3.9.13"
  }
 },
 "nbformat": 4,
 "nbformat_minor": 0
}
