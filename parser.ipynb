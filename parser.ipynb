{
 "cells": [
  {
   "cell_type": "code",
   "execution_count": 1,
   "metadata": {
    "ExecuteTime": {
     "end_time": "2023-08-11T12:57:39.957241Z",
     "start_time": "2023-08-11T12:57:39.768083Z"
    },
    "collapsed": false
   },
   "outputs": [],
   "source": [
    "from parsing.awr_parser import AWRParser, get_tables_from_json"
   ]
  },
  {
   "cell_type": "code",
   "execution_count": 2,
   "metadata": {
    "ExecuteTime": {
     "end_time": "2023-08-11T13:13:01.109574Z",
     "start_time": "2023-08-11T12:57:39.957241Z"
    },
    "collapsed": false
   },
   "outputs": [
    {
     "name": "stderr",
     "output_type": "stream",
     "text": [
      "  0%|          | 0/670 [00:00<?, ?it/s]"
     ]
    },
    {
     "name": "stdout",
     "output_type": "stream",
     "text": [
      "Processing C:\\Users\\david\\Downloads\\THSHAREX-19c-1\\THSHAREX-19c-1\\20231023-20231029-inst1-dumpdir\\report_1_THSHAREX_77620_77621.html...\n"
     ]
    },
    {
     "name": "stderr",
     "output_type": "stream",
     "text": [
      "  0%|          | 1/670 [00:02<31:27,  2.82s/it]"
     ]
    },
    {
     "name": "stdout",
     "output_type": "stream",
     "text": [
      "Processing C:\\Users\\david\\Downloads\\THSHAREX-19c-1\\THSHAREX-19c-1\\20231023-20231029-inst1-dumpdir\\report_1_THSHAREX_77621_77622.html...\n"
     ]
    },
    {
     "name": "stderr",
     "output_type": "stream",
     "text": [
      "  0%|          | 2/670 [00:05<28:51,  2.59s/it]"
     ]
    },
    {
     "name": "stdout",
     "output_type": "stream",
     "text": [
      "Processing C:\\Users\\david\\Downloads\\THSHAREX-19c-1\\THSHAREX-19c-1\\20231023-20231029-inst1-dumpdir\\report_1_THSHAREX_77622_77623.html...\n"
     ]
    },
    {
     "name": "stderr",
     "output_type": "stream",
     "text": [
      "  0%|          | 3/670 [00:07<24:32,  2.21s/it]"
     ]
    },
    {
     "name": "stdout",
     "output_type": "stream",
     "text": [
      "Processing C:\\Users\\david\\Downloads\\THSHAREX-19c-1\\THSHAREX-19c-1\\20231023-20231029-inst1-dumpdir\\report_1_THSHAREX_77623_77624.html...\n"
     ]
    },
    {
     "name": "stderr",
     "output_type": "stream",
     "text": [
      "  1%|          | 4/670 [00:09<27:16,  2.46s/it]"
     ]
    },
    {
     "name": "stdout",
     "output_type": "stream",
     "text": [
      "Processing C:\\Users\\david\\Downloads\\THSHAREX-19c-1\\THSHAREX-19c-1\\20231023-20231029-inst1-dumpdir\\report_1_THSHAREX_77624_77625.html...\n"
     ]
    },
    {
     "name": "stderr",
     "output_type": "stream",
     "text": [
      "  1%|          | 5/670 [00:12<26:54,  2.43s/it]"
     ]
    },
    {
     "name": "stdout",
     "output_type": "stream",
     "text": [
      "Processing C:\\Users\\david\\Downloads\\THSHAREX-19c-1\\THSHAREX-19c-1\\20231023-20231029-inst1-dumpdir\\report_1_THSHAREX_77625_77626.html...\n"
     ]
    },
    {
     "name": "stderr",
     "output_type": "stream",
     "text": [
      "  1%|          | 6/670 [00:13<24:23,  2.20s/it]"
     ]
    },
    {
     "name": "stdout",
     "output_type": "stream",
     "text": [
      "Processing C:\\Users\\david\\Downloads\\THSHAREX-19c-1\\THSHAREX-19c-1\\20231023-20231029-inst1-dumpdir\\report_1_THSHAREX_77626_77627.html...\n"
     ]
    },
    {
     "name": "stderr",
     "output_type": "stream",
     "text": [
      "  1%|          | 7/670 [00:16<24:36,  2.23s/it]"
     ]
    },
    {
     "name": "stdout",
     "output_type": "stream",
     "text": [
      "Processing C:\\Users\\david\\Downloads\\THSHAREX-19c-1\\THSHAREX-19c-1\\20231023-20231029-inst1-dumpdir\\report_1_THSHAREX_77627_77628.html...\n"
     ]
    },
    {
     "name": "stderr",
     "output_type": "stream",
     "text": [
      "  1%|          | 8/670 [00:17<22:50,  2.07s/it]"
     ]
    },
    {
     "name": "stdout",
     "output_type": "stream",
     "text": [
      "Processing C:\\Users\\david\\Downloads\\THSHAREX-19c-1\\THSHAREX-19c-1\\20231023-20231029-inst1-dumpdir\\report_1_THSHAREX_77628_77629.html...\n"
     ]
    },
    {
     "name": "stderr",
     "output_type": "stream",
     "text": [
      "  1%|▏         | 9/670 [00:20<24:49,  2.25s/it]"
     ]
    },
    {
     "name": "stdout",
     "output_type": "stream",
     "text": [
      "Processing C:\\Users\\david\\Downloads\\THSHAREX-19c-1\\THSHAREX-19c-1\\20231023-20231029-inst1-dumpdir\\report_1_THSHAREX_77629_77630.html...\n"
     ]
    },
    {
     "name": "stderr",
     "output_type": "stream",
     "text": [
      "  1%|▏         | 10/670 [00:22<22:21,  2.03s/it]"
     ]
    },
    {
     "name": "stdout",
     "output_type": "stream",
     "text": [
      "Processing C:\\Users\\david\\Downloads\\THSHAREX-19c-1\\THSHAREX-19c-1\\20231023-20231029-inst1-dumpdir\\report_1_THSHAREX_77630_77631.html...\n"
     ]
    },
    {
     "name": "stderr",
     "output_type": "stream",
     "text": [
      "  2%|▏         | 11/670 [00:24<23:24,  2.13s/it]"
     ]
    },
    {
     "name": "stdout",
     "output_type": "stream",
     "text": [
      "Processing C:\\Users\\david\\Downloads\\THSHAREX-19c-1\\THSHAREX-19c-1\\20231023-20231029-inst1-dumpdir\\report_1_THSHAREX_77631_77632.html...\n"
     ]
    },
    {
     "name": "stderr",
     "output_type": "stream",
     "text": [
      "  2%|▏         | 12/670 [00:25<20:59,  1.91s/it]"
     ]
    },
    {
     "name": "stdout",
     "output_type": "stream",
     "text": [
      "Processing C:\\Users\\david\\Downloads\\THSHAREX-19c-1\\THSHAREX-19c-1\\20231023-20231029-inst1-dumpdir\\report_1_THSHAREX_77632_77633.html...\n"
     ]
    },
    {
     "name": "stderr",
     "output_type": "stream",
     "text": [
      "  2%|▏         | 13/670 [00:27<20:29,  1.87s/it]"
     ]
    },
    {
     "name": "stdout",
     "output_type": "stream",
     "text": [
      "Processing C:\\Users\\david\\Downloads\\THSHAREX-19c-1\\THSHAREX-19c-1\\20231023-20231029-inst1-dumpdir\\report_1_THSHAREX_77633_77634.html...\n"
     ]
    },
    {
     "name": "stderr",
     "output_type": "stream",
     "text": [
      "  2%|▏         | 14/670 [00:30<22:37,  2.07s/it]"
     ]
    },
    {
     "name": "stdout",
     "output_type": "stream",
     "text": [
      "Processing C:\\Users\\david\\Downloads\\THSHAREX-19c-1\\THSHAREX-19c-1\\20231023-20231029-inst1-dumpdir\\report_1_THSHAREX_77634_77635.html...\n"
     ]
    },
    {
     "name": "stderr",
     "output_type": "stream",
     "text": [
      "  2%|▏         | 15/670 [00:32<24:03,  2.20s/it]"
     ]
    },
    {
     "name": "stdout",
     "output_type": "stream",
     "text": [
      "Processing C:\\Users\\david\\Downloads\\THSHAREX-19c-1\\THSHAREX-19c-1\\20231023-20231029-inst1-dumpdir\\report_1_THSHAREX_77635_77636.html...\n"
     ]
    },
    {
     "name": "stderr",
     "output_type": "stream",
     "text": [
      "  2%|▏         | 16/670 [00:34<22:51,  2.10s/it]"
     ]
    },
    {
     "name": "stdout",
     "output_type": "stream",
     "text": [
      "Processing C:\\Users\\david\\Downloads\\THSHAREX-19c-1\\THSHAREX-19c-1\\20231023-20231029-inst1-dumpdir\\report_1_THSHAREX_77636_77637.html...\n"
     ]
    },
    {
     "name": "stderr",
     "output_type": "stream",
     "text": [
      "  3%|▎         | 17/670 [00:37<24:44,  2.27s/it]"
     ]
    },
    {
     "name": "stdout",
     "output_type": "stream",
     "text": [
      "Processing C:\\Users\\david\\Downloads\\THSHAREX-19c-1\\THSHAREX-19c-1\\20231023-20231029-inst1-dumpdir\\report_1_THSHAREX_77637_77638.html...\n"
     ]
    },
    {
     "name": "stderr",
     "output_type": "stream",
     "text": [
      "  3%|▎         | 18/670 [00:39<25:45,  2.37s/it]"
     ]
    },
    {
     "name": "stdout",
     "output_type": "stream",
     "text": [
      "Processing C:\\Users\\david\\Downloads\\THSHAREX-19c-1\\THSHAREX-19c-1\\20231023-20231029-inst1-dumpdir\\report_1_THSHAREX_77638_77639.html...\n"
     ]
    },
    {
     "name": "stderr",
     "output_type": "stream",
     "text": [
      "  3%|▎         | 19/670 [00:42<27:52,  2.57s/it]"
     ]
    },
    {
     "name": "stdout",
     "output_type": "stream",
     "text": [
      "Processing C:\\Users\\david\\Downloads\\THSHAREX-19c-1\\THSHAREX-19c-1\\20231023-20231029-inst1-dumpdir\\report_1_THSHAREX_77639_77640.html...\n"
     ]
    },
    {
     "name": "stderr",
     "output_type": "stream",
     "text": [
      "  3%|▎         | 20/670 [00:45<27:16,  2.52s/it]"
     ]
    },
    {
     "name": "stdout",
     "output_type": "stream",
     "text": [
      "Processing C:\\Users\\david\\Downloads\\THSHAREX-19c-1\\THSHAREX-19c-1\\20231023-20231029-inst1-dumpdir\\report_1_THSHAREX_77640_77641.html...\n"
     ]
    },
    {
     "name": "stderr",
     "output_type": "stream",
     "text": [
      "  3%|▎         | 21/670 [00:47<27:31,  2.54s/it]"
     ]
    },
    {
     "name": "stdout",
     "output_type": "stream",
     "text": [
      "Processing C:\\Users\\david\\Downloads\\THSHAREX-19c-1\\THSHAREX-19c-1\\20231023-20231029-inst1-dumpdir\\report_1_THSHAREX_77641_77642.html...\n"
     ]
    },
    {
     "name": "stderr",
     "output_type": "stream",
     "text": [
      "  3%|▎         | 22/670 [00:50<28:31,  2.64s/it]"
     ]
    },
    {
     "name": "stdout",
     "output_type": "stream",
     "text": [
      "Processing C:\\Users\\david\\Downloads\\THSHAREX-19c-1\\THSHAREX-19c-1\\20231023-20231029-inst1-dumpdir\\report_1_THSHAREX_77642_77643.html...\n"
     ]
    },
    {
     "name": "stderr",
     "output_type": "stream",
     "text": [
      "  3%|▎         | 23/670 [00:53<28:12,  2.62s/it]"
     ]
    },
    {
     "name": "stdout",
     "output_type": "stream",
     "text": [
      "Processing C:\\Users\\david\\Downloads\\THSHAREX-19c-1\\THSHAREX-19c-1\\20231023-20231029-inst1-dumpdir\\report_1_THSHAREX_77643_77644.html...\n"
     ]
    },
    {
     "name": "stderr",
     "output_type": "stream",
     "text": [
      "  4%|▎         | 24/670 [00:55<26:32,  2.46s/it]"
     ]
    },
    {
     "name": "stdout",
     "output_type": "stream",
     "text": [
      "Processing C:\\Users\\david\\Downloads\\THSHAREX-19c-1\\THSHAREX-19c-1\\20231023-20231029-inst1-dumpdir\\report_1_THSHAREX_77644_77645.html...\n"
     ]
    },
    {
     "name": "stderr",
     "output_type": "stream",
     "text": [
      "  4%|▎         | 25/670 [00:58<27:34,  2.57s/it]"
     ]
    },
    {
     "name": "stdout",
     "output_type": "stream",
     "text": [
      "Processing C:\\Users\\david\\Downloads\\THSHAREX-19c-1\\THSHAREX-19c-1\\20231023-20231029-inst1-dumpdir\\report_1_THSHAREX_77645_77646.html...\n"
     ]
    },
    {
     "name": "stderr",
     "output_type": "stream",
     "text": [
      "  4%|▍         | 26/670 [01:01<28:56,  2.70s/it]"
     ]
    },
    {
     "name": "stdout",
     "output_type": "stream",
     "text": [
      "Processing C:\\Users\\david\\Downloads\\THSHAREX-19c-1\\THSHAREX-19c-1\\20231023-20231029-inst1-dumpdir\\report_1_THSHAREX_77646_77647.html...\n"
     ]
    },
    {
     "name": "stderr",
     "output_type": "stream",
     "text": [
      "  4%|▍         | 27/670 [01:03<27:56,  2.61s/it]"
     ]
    },
    {
     "name": "stdout",
     "output_type": "stream",
     "text": [
      "Processing C:\\Users\\david\\Downloads\\THSHAREX-19c-1\\THSHAREX-19c-1\\20231023-20231029-inst1-dumpdir\\report_1_THSHAREX_77647_77648.html...\n"
     ]
    },
    {
     "name": "stderr",
     "output_type": "stream",
     "text": [
      "  4%|▍         | 28/670 [01:06<27:41,  2.59s/it]"
     ]
    },
    {
     "name": "stdout",
     "output_type": "stream",
     "text": [
      "Processing C:\\Users\\david\\Downloads\\THSHAREX-19c-1\\THSHAREX-19c-1\\20231023-20231029-inst1-dumpdir\\report_1_THSHAREX_77648_77649.html...\n"
     ]
    },
    {
     "name": "stderr",
     "output_type": "stream",
     "text": [
      "  4%|▍         | 29/670 [01:08<26:58,  2.52s/it]"
     ]
    },
    {
     "name": "stdout",
     "output_type": "stream",
     "text": [
      "Processing C:\\Users\\david\\Downloads\\THSHAREX-19c-1\\THSHAREX-19c-1\\20231023-20231029-inst1-dumpdir\\report_1_THSHAREX_77649_77650.html...\n"
     ]
    },
    {
     "name": "stderr",
     "output_type": "stream",
     "text": [
      "  4%|▍         | 30/670 [01:11<27:43,  2.60s/it]"
     ]
    },
    {
     "name": "stdout",
     "output_type": "stream",
     "text": [
      "Processing C:\\Users\\david\\Downloads\\THSHAREX-19c-1\\THSHAREX-19c-1\\20231023-20231029-inst1-dumpdir\\report_1_THSHAREX_77650_77651.html...\n"
     ]
    },
    {
     "name": "stderr",
     "output_type": "stream",
     "text": [
      "  5%|▍         | 31/670 [01:13<27:08,  2.55s/it]"
     ]
    },
    {
     "name": "stdout",
     "output_type": "stream",
     "text": [
      "Processing C:\\Users\\david\\Downloads\\THSHAREX-19c-1\\THSHAREX-19c-1\\20231023-20231029-inst1-dumpdir\\report_1_THSHAREX_77651_77652.html...\n"
     ]
    },
    {
     "name": "stderr",
     "output_type": "stream",
     "text": [
      "  5%|▍         | 32/670 [01:16<27:07,  2.55s/it]"
     ]
    },
    {
     "name": "stdout",
     "output_type": "stream",
     "text": [
      "Processing C:\\Users\\david\\Downloads\\THSHAREX-19c-1\\THSHAREX-19c-1\\20231023-20231029-inst1-dumpdir\\report_1_THSHAREX_77652_77653.html...\n"
     ]
    },
    {
     "name": "stderr",
     "output_type": "stream",
     "text": [
      "  5%|▍         | 33/670 [01:19<27:35,  2.60s/it]"
     ]
    },
    {
     "name": "stdout",
     "output_type": "stream",
     "text": [
      "Processing C:\\Users\\david\\Downloads\\THSHAREX-19c-1\\THSHAREX-19c-1\\20231023-20231029-inst1-dumpdir\\report_1_THSHAREX_77653_77654.html...\n"
     ]
    },
    {
     "name": "stderr",
     "output_type": "stream",
     "text": [
      "  5%|▌         | 34/670 [01:21<27:41,  2.61s/it]"
     ]
    },
    {
     "name": "stdout",
     "output_type": "stream",
     "text": [
      "Processing C:\\Users\\david\\Downloads\\THSHAREX-19c-1\\THSHAREX-19c-1\\20231023-20231029-inst1-dumpdir\\report_1_THSHAREX_77654_77655.html...\n"
     ]
    },
    {
     "name": "stderr",
     "output_type": "stream",
     "text": [
      "  5%|▌         | 35/670 [01:24<26:58,  2.55s/it]"
     ]
    },
    {
     "name": "stdout",
     "output_type": "stream",
     "text": [
      "Processing C:\\Users\\david\\Downloads\\THSHAREX-19c-1\\THSHAREX-19c-1\\20231023-20231029-inst1-dumpdir\\report_1_THSHAREX_77655_77656.html...\n"
     ]
    },
    {
     "name": "stderr",
     "output_type": "stream",
     "text": [
      "  5%|▌         | 36/670 [01:26<27:01,  2.56s/it]"
     ]
    },
    {
     "name": "stdout",
     "output_type": "stream",
     "text": [
      "Processing C:\\Users\\david\\Downloads\\THSHAREX-19c-1\\THSHAREX-19c-1\\20231023-20231029-inst1-dumpdir\\report_1_THSHAREX_77656_77657.html...\n"
     ]
    },
    {
     "name": "stderr",
     "output_type": "stream",
     "text": [
      "  6%|▌         | 37/670 [01:28<25:18,  2.40s/it]"
     ]
    },
    {
     "name": "stdout",
     "output_type": "stream",
     "text": [
      "Processing C:\\Users\\david\\Downloads\\THSHAREX-19c-1\\THSHAREX-19c-1\\20231023-20231029-inst1-dumpdir\\report_1_THSHAREX_77657_77658.html...\n"
     ]
    },
    {
     "name": "stderr",
     "output_type": "stream",
     "text": [
      "  6%|▌         | 38/670 [01:31<25:17,  2.40s/it]"
     ]
    },
    {
     "name": "stdout",
     "output_type": "stream",
     "text": [
      "Processing C:\\Users\\david\\Downloads\\THSHAREX-19c-1\\THSHAREX-19c-1\\20231023-20231029-inst1-dumpdir\\report_1_THSHAREX_77658_77659.html...\n"
     ]
    },
    {
     "name": "stderr",
     "output_type": "stream",
     "text": [
      "  6%|▌         | 39/670 [01:33<25:44,  2.45s/it]"
     ]
    },
    {
     "name": "stdout",
     "output_type": "stream",
     "text": [
      "Processing C:\\Users\\david\\Downloads\\THSHAREX-19c-1\\THSHAREX-19c-1\\20231023-20231029-inst1-dumpdir\\report_1_THSHAREX_77659_77660.html...\n"
     ]
    },
    {
     "name": "stderr",
     "output_type": "stream",
     "text": [
      "  6%|▌         | 40/670 [01:36<25:44,  2.45s/it]"
     ]
    },
    {
     "name": "stdout",
     "output_type": "stream",
     "text": [
      "Processing C:\\Users\\david\\Downloads\\THSHAREX-19c-1\\THSHAREX-19c-1\\20231023-20231029-inst1-dumpdir\\report_1_THSHAREX_77660_77661.html...\n"
     ]
    },
    {
     "name": "stderr",
     "output_type": "stream",
     "text": [
      "  6%|▌         | 41/670 [01:38<24:28,  2.33s/it]"
     ]
    },
    {
     "name": "stdout",
     "output_type": "stream",
     "text": [
      "Processing C:\\Users\\david\\Downloads\\THSHAREX-19c-1\\THSHAREX-19c-1\\20231023-20231029-inst1-dumpdir\\report_1_THSHAREX_77661_77662.html...\n"
     ]
    },
    {
     "name": "stderr",
     "output_type": "stream",
     "text": [
      "  6%|▋         | 42/670 [01:40<24:14,  2.32s/it]"
     ]
    },
    {
     "name": "stdout",
     "output_type": "stream",
     "text": [
      "Processing C:\\Users\\david\\Downloads\\THSHAREX-19c-1\\THSHAREX-19c-1\\20231023-20231029-inst1-dumpdir\\report_1_THSHAREX_77662_77663.html...\n"
     ]
    },
    {
     "name": "stderr",
     "output_type": "stream",
     "text": [
      "  6%|▋         | 43/670 [01:42<23:33,  2.25s/it]"
     ]
    },
    {
     "name": "stdout",
     "output_type": "stream",
     "text": [
      "Processing C:\\Users\\david\\Downloads\\THSHAREX-19c-1\\THSHAREX-19c-1\\20231023-20231029-inst1-dumpdir\\report_1_THSHAREX_77663_77664.html...\n"
     ]
    },
    {
     "name": "stderr",
     "output_type": "stream",
     "text": [
      "  7%|▋         | 44/670 [01:44<21:58,  2.11s/it]"
     ]
    },
    {
     "name": "stdout",
     "output_type": "stream",
     "text": [
      "Processing C:\\Users\\david\\Downloads\\THSHAREX-19c-1\\THSHAREX-19c-1\\20231023-20231029-inst1-dumpdir\\report_1_THSHAREX_77664_77665.html...\n"
     ]
    },
    {
     "name": "stderr",
     "output_type": "stream",
     "text": [
      "  7%|▋         | 45/670 [01:46<20:40,  1.98s/it]"
     ]
    },
    {
     "name": "stdout",
     "output_type": "stream",
     "text": [
      "Processing C:\\Users\\david\\Downloads\\THSHAREX-19c-1\\THSHAREX-19c-1\\20231023-20231029-inst1-dumpdir\\report_1_THSHAREX_77665_77666.html...\n"
     ]
    },
    {
     "name": "stderr",
     "output_type": "stream",
     "text": [
      "  7%|▋         | 46/670 [01:48<22:18,  2.14s/it]"
     ]
    },
    {
     "name": "stdout",
     "output_type": "stream",
     "text": [
      "Processing C:\\Users\\david\\Downloads\\THSHAREX-19c-1\\THSHAREX-19c-1\\20231023-20231029-inst1-dumpdir\\report_1_THSHAREX_77666_77667.html...\n"
     ]
    },
    {
     "name": "stderr",
     "output_type": "stream",
     "text": [
      "  7%|▋         | 47/670 [01:50<20:54,  2.01s/it]"
     ]
    },
    {
     "name": "stdout",
     "output_type": "stream",
     "text": [
      "Processing C:\\Users\\david\\Downloads\\THSHAREX-19c-1\\THSHAREX-19c-1\\20231023-20231029-inst1-dumpdir\\report_1_THSHAREX_77667_77668.html...\n"
     ]
    },
    {
     "name": "stderr",
     "output_type": "stream",
     "text": [
      "  7%|▋         | 48/670 [01:52<22:58,  2.22s/it]"
     ]
    },
    {
     "name": "stdout",
     "output_type": "stream",
     "text": [
      "Processing C:\\Users\\david\\Downloads\\THSHAREX-19c-1\\THSHAREX-19c-1\\20231023-20231029-inst1-dumpdir\\report_1_THSHAREX_77668_77669.html...\n"
     ]
    },
    {
     "name": "stderr",
     "output_type": "stream",
     "text": [
      "  7%|▋         | 49/670 [01:54<21:02,  2.03s/it]"
     ]
    },
    {
     "name": "stdout",
     "output_type": "stream",
     "text": [
      "Processing C:\\Users\\david\\Downloads\\THSHAREX-19c-1\\THSHAREX-19c-1\\20231023-20231029-inst1-dumpdir\\report_1_THSHAREX_77669_77670.html...\n"
     ]
    },
    {
     "name": "stderr",
     "output_type": "stream",
     "text": [
      "  7%|▋         | 50/670 [01:57<22:44,  2.20s/it]"
     ]
    },
    {
     "name": "stdout",
     "output_type": "stream",
     "text": [
      "Processing C:\\Users\\david\\Downloads\\THSHAREX-19c-1\\THSHAREX-19c-1\\20231023-20231029-inst1-dumpdir\\report_1_THSHAREX_77670_77671.html...\n"
     ]
    },
    {
     "name": "stderr",
     "output_type": "stream",
     "text": [
      "  8%|▊         | 51/670 [01:58<21:24,  2.07s/it]"
     ]
    },
    {
     "name": "stdout",
     "output_type": "stream",
     "text": [
      "Processing C:\\Users\\david\\Downloads\\THSHAREX-19c-1\\THSHAREX-19c-1\\20231023-20231029-inst1-dumpdir\\report_1_THSHAREX_77671_77672.html...\n"
     ]
    },
    {
     "name": "stderr",
     "output_type": "stream",
     "text": [
      "  8%|▊         | 52/670 [02:01<21:36,  2.10s/it]"
     ]
    },
    {
     "name": "stdout",
     "output_type": "stream",
     "text": [
      "Processing C:\\Users\\david\\Downloads\\THSHAREX-19c-1\\THSHAREX-19c-1\\20231023-20231029-inst1-dumpdir\\report_1_THSHAREX_77672_77673.html...\n"
     ]
    },
    {
     "name": "stderr",
     "output_type": "stream",
     "text": [
      "  8%|▊         | 53/670 [02:03<23:45,  2.31s/it]"
     ]
    },
    {
     "name": "stdout",
     "output_type": "stream",
     "text": [
      "Processing C:\\Users\\david\\Downloads\\THSHAREX-19c-1\\THSHAREX-19c-1\\20231023-20231029-inst1-dumpdir\\report_1_THSHAREX_77673_77674.html...\n"
     ]
    },
    {
     "name": "stderr",
     "output_type": "stream",
     "text": [
      "  8%|▊         | 54/670 [02:05<22:34,  2.20s/it]"
     ]
    },
    {
     "name": "stdout",
     "output_type": "stream",
     "text": [
      "Processing C:\\Users\\david\\Downloads\\THSHAREX-19c-1\\THSHAREX-19c-1\\20231023-20231029-inst1-dumpdir\\report_1_THSHAREX_77674_77675.html...\n"
     ]
    },
    {
     "name": "stderr",
     "output_type": "stream",
     "text": [
      "  8%|▊         | 55/670 [02:08<23:32,  2.30s/it]"
     ]
    },
    {
     "name": "stdout",
     "output_type": "stream",
     "text": [
      "Processing C:\\Users\\david\\Downloads\\THSHAREX-19c-1\\THSHAREX-19c-1\\20231023-20231029-inst1-dumpdir\\report_1_THSHAREX_77675_77676.html...\n"
     ]
    },
    {
     "name": "stderr",
     "output_type": "stream",
     "text": [
      "  8%|▊         | 56/670 [02:10<24:15,  2.37s/it]"
     ]
    },
    {
     "name": "stdout",
     "output_type": "stream",
     "text": [
      "Processing C:\\Users\\david\\Downloads\\THSHAREX-19c-1\\THSHAREX-19c-1\\20231023-20231029-inst1-dumpdir\\report_1_THSHAREX_77676_77677.html...\n"
     ]
    },
    {
     "name": "stderr",
     "output_type": "stream",
     "text": [
      "  9%|▊         | 57/670 [02:13<23:24,  2.29s/it]"
     ]
    },
    {
     "name": "stdout",
     "output_type": "stream",
     "text": [
      "Processing C:\\Users\\david\\Downloads\\THSHAREX-19c-1\\THSHAREX-19c-1\\20231023-20231029-inst1-dumpdir\\report_1_THSHAREX_77677_77678.html...\n"
     ]
    },
    {
     "name": "stderr",
     "output_type": "stream",
     "text": [
      "  9%|▊         | 58/670 [02:15<24:19,  2.39s/it]"
     ]
    },
    {
     "name": "stdout",
     "output_type": "stream",
     "text": [
      "Processing C:\\Users\\david\\Downloads\\THSHAREX-19c-1\\THSHAREX-19c-1\\20231023-20231029-inst1-dumpdir\\report_1_THSHAREX_77678_77679.html...\n"
     ]
    },
    {
     "name": "stderr",
     "output_type": "stream",
     "text": [
      "  9%|▉         | 59/670 [02:18<24:44,  2.43s/it]"
     ]
    },
    {
     "name": "stdout",
     "output_type": "stream",
     "text": [
      "Processing C:\\Users\\david\\Downloads\\THSHAREX-19c-1\\THSHAREX-19c-1\\20231023-20231029-inst1-dumpdir\\report_1_THSHAREX_77679_77680.html...\n"
     ]
    },
    {
     "name": "stderr",
     "output_type": "stream",
     "text": [
      "  9%|▉         | 60/670 [02:20<23:06,  2.27s/it]"
     ]
    },
    {
     "name": "stdout",
     "output_type": "stream",
     "text": [
      "Processing C:\\Users\\david\\Downloads\\THSHAREX-19c-1\\THSHAREX-19c-1\\20231023-20231029-inst1-dumpdir\\report_1_THSHAREX_77680_77681.html...\n"
     ]
    },
    {
     "name": "stderr",
     "output_type": "stream",
     "text": [
      "  9%|▉         | 61/670 [02:22<24:00,  2.37s/it]"
     ]
    },
    {
     "name": "stdout",
     "output_type": "stream",
     "text": [
      "Processing C:\\Users\\david\\Downloads\\THSHAREX-19c-1\\THSHAREX-19c-1\\20231023-20231029-inst1-dumpdir\\report_1_THSHAREX_77681_77682.html...\n"
     ]
    },
    {
     "name": "stderr",
     "output_type": "stream",
     "text": [
      "  9%|▉         | 62/670 [02:24<23:51,  2.36s/it]"
     ]
    },
    {
     "name": "stdout",
     "output_type": "stream",
     "text": [
      "Processing C:\\Users\\david\\Downloads\\THSHAREX-19c-1\\THSHAREX-19c-1\\20231023-20231029-inst1-dumpdir\\report_1_THSHAREX_77682_77683.html...\n"
     ]
    },
    {
     "name": "stderr",
     "output_type": "stream",
     "text": [
      "  9%|▉         | 63/670 [02:27<23:49,  2.36s/it]"
     ]
    },
    {
     "name": "stdout",
     "output_type": "stream",
     "text": [
      "Processing C:\\Users\\david\\Downloads\\THSHAREX-19c-1\\THSHAREX-19c-1\\20231023-20231029-inst1-dumpdir\\report_1_THSHAREX_77683_77684.html...\n"
     ]
    },
    {
     "name": "stderr",
     "output_type": "stream",
     "text": [
      " 10%|▉         | 64/670 [02:29<23:11,  2.30s/it]"
     ]
    },
    {
     "name": "stdout",
     "output_type": "stream",
     "text": [
      "Processing C:\\Users\\david\\Downloads\\THSHAREX-19c-1\\THSHAREX-19c-1\\20231023-20231029-inst1-dumpdir\\report_1_THSHAREX_77684_77685.html...\n"
     ]
    },
    {
     "name": "stderr",
     "output_type": "stream",
     "text": [
      " 10%|▉         | 65/670 [02:31<23:19,  2.31s/it]"
     ]
    },
    {
     "name": "stdout",
     "output_type": "stream",
     "text": [
      "Processing C:\\Users\\david\\Downloads\\THSHAREX-19c-1\\THSHAREX-19c-1\\20231023-20231029-inst1-dumpdir\\report_1_THSHAREX_77685_77686.html...\n"
     ]
    },
    {
     "name": "stderr",
     "output_type": "stream",
     "text": [
      " 10%|▉         | 66/670 [02:33<22:44,  2.26s/it]"
     ]
    },
    {
     "name": "stdout",
     "output_type": "stream",
     "text": [
      "Processing C:\\Users\\david\\Downloads\\THSHAREX-19c-1\\THSHAREX-19c-1\\20231023-20231029-inst1-dumpdir\\report_1_THSHAREX_77686_77687.html...\n"
     ]
    },
    {
     "name": "stderr",
     "output_type": "stream",
     "text": [
      " 10%|█         | 67/670 [02:37<25:18,  2.52s/it]"
     ]
    },
    {
     "name": "stdout",
     "output_type": "stream",
     "text": [
      "Processing C:\\Users\\david\\Downloads\\THSHAREX-19c-1\\THSHAREX-19c-1\\20231023-20231029-inst1-dumpdir\\report_1_THSHAREX_77687_77688.html...\n"
     ]
    },
    {
     "name": "stderr",
     "output_type": "stream",
     "text": [
      " 10%|█         | 68/670 [02:39<25:07,  2.50s/it]"
     ]
    },
    {
     "name": "stdout",
     "output_type": "stream",
     "text": [
      "Processing C:\\Users\\david\\Downloads\\THSHAREX-19c-1\\THSHAREX-19c-1\\20231023-20231029-inst1-dumpdir\\report_1_THSHAREX_77688_77689.html...\n"
     ]
    },
    {
     "name": "stderr",
     "output_type": "stream",
     "text": [
      " 10%|█         | 69/670 [02:42<26:07,  2.61s/it]"
     ]
    },
    {
     "name": "stdout",
     "output_type": "stream",
     "text": [
      "Processing C:\\Users\\david\\Downloads\\THSHAREX-19c-1\\THSHAREX-19c-1\\20231023-20231029-inst1-dumpdir\\report_1_THSHAREX_77689_77690.html...\n"
     ]
    },
    {
     "name": "stderr",
     "output_type": "stream",
     "text": [
      " 10%|█         | 70/670 [02:45<27:24,  2.74s/it]"
     ]
    },
    {
     "name": "stdout",
     "output_type": "stream",
     "text": [
      "Processing C:\\Users\\david\\Downloads\\THSHAREX-19c-1\\THSHAREX-19c-1\\20231023-20231029-inst1-dumpdir\\report_1_THSHAREX_77690_77691.html...\n"
     ]
    },
    {
     "name": "stderr",
     "output_type": "stream",
     "text": [
      " 11%|█         | 71/670 [02:47<26:19,  2.64s/it]"
     ]
    },
    {
     "name": "stdout",
     "output_type": "stream",
     "text": [
      "Processing C:\\Users\\david\\Downloads\\THSHAREX-19c-1\\THSHAREX-19c-1\\20231023-20231029-inst1-dumpdir\\report_1_THSHAREX_77691_77692.html...\n"
     ]
    },
    {
     "name": "stderr",
     "output_type": "stream",
     "text": [
      " 11%|█         | 72/670 [02:50<26:37,  2.67s/it]"
     ]
    },
    {
     "name": "stdout",
     "output_type": "stream",
     "text": [
      "Processing C:\\Users\\david\\Downloads\\THSHAREX-19c-1\\THSHAREX-19c-1\\20231023-20231029-inst1-dumpdir\\report_1_THSHAREX_77692_77693.html...\n"
     ]
    },
    {
     "name": "stderr",
     "output_type": "stream",
     "text": [
      " 11%|█         | 73/670 [02:53<26:40,  2.68s/it]"
     ]
    },
    {
     "name": "stdout",
     "output_type": "stream",
     "text": [
      "Processing C:\\Users\\david\\Downloads\\THSHAREX-19c-1\\THSHAREX-19c-1\\20231023-20231029-inst1-dumpdir\\report_1_THSHAREX_77693_77694.html...\n"
     ]
    },
    {
     "name": "stderr",
     "output_type": "stream",
     "text": [
      " 11%|█         | 74/670 [02:56<28:17,  2.85s/it]"
     ]
    },
    {
     "name": "stdout",
     "output_type": "stream",
     "text": [
      "Processing C:\\Users\\david\\Downloads\\THSHAREX-19c-1\\THSHAREX-19c-1\\20231023-20231029-inst1-dumpdir\\report_1_THSHAREX_77694_77695.html...\n"
     ]
    },
    {
     "name": "stderr",
     "output_type": "stream",
     "text": [
      " 11%|█         | 75/670 [03:00<31:01,  3.13s/it]"
     ]
    },
    {
     "name": "stdout",
     "output_type": "stream",
     "text": [
      "Processing C:\\Users\\david\\Downloads\\THSHAREX-19c-1\\THSHAREX-19c-1\\20231023-20231029-inst1-dumpdir\\report_1_THSHAREX_77695_77696.html...\n"
     ]
    },
    {
     "name": "stderr",
     "output_type": "stream",
     "text": [
      " 11%|█▏        | 76/670 [03:03<31:20,  3.17s/it]"
     ]
    },
    {
     "name": "stdout",
     "output_type": "stream",
     "text": [
      "Processing C:\\Users\\david\\Downloads\\THSHAREX-19c-1\\THSHAREX-19c-1\\20231023-20231029-inst1-dumpdir\\report_1_THSHAREX_77696_77697.html...\n"
     ]
    },
    {
     "name": "stderr",
     "output_type": "stream",
     "text": [
      " 11%|█▏        | 77/670 [03:06<31:31,  3.19s/it]"
     ]
    },
    {
     "name": "stdout",
     "output_type": "stream",
     "text": [
      "Processing C:\\Users\\david\\Downloads\\THSHAREX-19c-1\\THSHAREX-19c-1\\20231023-20231029-inst1-dumpdir\\report_1_THSHAREX_77697_77698.html...\n"
     ]
    },
    {
     "name": "stderr",
     "output_type": "stream",
     "text": [
      " 12%|█▏        | 78/670 [03:09<31:05,  3.15s/it]"
     ]
    },
    {
     "name": "stdout",
     "output_type": "stream",
     "text": [
      "Processing C:\\Users\\david\\Downloads\\THSHAREX-19c-1\\THSHAREX-19c-1\\20231023-20231029-inst1-dumpdir\\report_1_THSHAREX_77698_77699.html...\n"
     ]
    },
    {
     "name": "stderr",
     "output_type": "stream",
     "text": [
      " 12%|█▏        | 79/670 [03:13<31:00,  3.15s/it]"
     ]
    },
    {
     "name": "stdout",
     "output_type": "stream",
     "text": [
      "Processing C:\\Users\\david\\Downloads\\THSHAREX-19c-1\\THSHAREX-19c-1\\20231023-20231029-inst1-dumpdir\\report_1_THSHAREX_77699_77700.html...\n"
     ]
    },
    {
     "name": "stderr",
     "output_type": "stream",
     "text": [
      " 12%|█▏        | 80/670 [03:16<33:19,  3.39s/it]"
     ]
    },
    {
     "name": "stdout",
     "output_type": "stream",
     "text": [
      "Processing C:\\Users\\david\\Downloads\\THSHAREX-19c-1\\THSHAREX-19c-1\\20231023-20231029-inst1-dumpdir\\report_1_THSHAREX_77700_77701.html...\n"
     ]
    },
    {
     "name": "stderr",
     "output_type": "stream",
     "text": [
      " 12%|█▏        | 81/670 [03:20<34:26,  3.51s/it]"
     ]
    },
    {
     "name": "stdout",
     "output_type": "stream",
     "text": [
      "Processing C:\\Users\\david\\Downloads\\THSHAREX-19c-1\\THSHAREX-19c-1\\20231023-20231029-inst1-dumpdir\\report_1_THSHAREX_77701_77702.html...\n"
     ]
    },
    {
     "name": "stderr",
     "output_type": "stream",
     "text": [
      " 12%|█▏        | 82/670 [03:24<35:21,  3.61s/it]"
     ]
    },
    {
     "name": "stdout",
     "output_type": "stream",
     "text": [
      "Processing C:\\Users\\david\\Downloads\\THSHAREX-19c-1\\THSHAREX-19c-1\\20231023-20231029-inst1-dumpdir\\report_1_THSHAREX_77702_77703.html...\n"
     ]
    },
    {
     "name": "stderr",
     "output_type": "stream",
     "text": [
      " 12%|█▏        | 83/670 [03:28<36:23,  3.72s/it]"
     ]
    },
    {
     "name": "stdout",
     "output_type": "stream",
     "text": [
      "Processing C:\\Users\\david\\Downloads\\THSHAREX-19c-1\\THSHAREX-19c-1\\20231023-20231029-inst1-dumpdir\\report_1_THSHAREX_77703_77704.html...\n"
     ]
    },
    {
     "name": "stderr",
     "output_type": "stream",
     "text": [
      " 13%|█▎        | 84/670 [03:32<35:58,  3.68s/it]"
     ]
    },
    {
     "name": "stdout",
     "output_type": "stream",
     "text": [
      "Processing C:\\Users\\david\\Downloads\\THSHAREX-19c-1\\THSHAREX-19c-1\\20231023-20231029-inst1-dumpdir\\report_1_THSHAREX_77704_77705.html...\n"
     ]
    },
    {
     "name": "stderr",
     "output_type": "stream",
     "text": [
      " 13%|█▎        | 85/670 [03:35<35:18,  3.62s/it]"
     ]
    },
    {
     "name": "stdout",
     "output_type": "stream",
     "text": [
      "Processing C:\\Users\\david\\Downloads\\THSHAREX-19c-1\\THSHAREX-19c-1\\20231023-20231029-inst1-dumpdir\\report_1_THSHAREX_77705_77706.html...\n"
     ]
    },
    {
     "name": "stderr",
     "output_type": "stream",
     "text": [
      " 13%|█▎        | 86/670 [03:39<35:56,  3.69s/it]"
     ]
    },
    {
     "name": "stdout",
     "output_type": "stream",
     "text": [
      "Processing C:\\Users\\david\\Downloads\\THSHAREX-19c-1\\THSHAREX-19c-1\\20231023-20231029-inst1-dumpdir\\report_1_THSHAREX_77706_77707.html...\n"
     ]
    },
    {
     "name": "stderr",
     "output_type": "stream",
     "text": [
      " 13%|█▎        | 87/670 [03:44<39:48,  4.10s/it]"
     ]
    },
    {
     "name": "stdout",
     "output_type": "stream",
     "text": [
      "Processing C:\\Users\\david\\Downloads\\THSHAREX-19c-1\\THSHAREX-19c-1\\20231023-20231029-inst1-dumpdir\\report_1_THSHAREX_77707_77708.html...\n"
     ]
    },
    {
     "name": "stderr",
     "output_type": "stream",
     "text": [
      " 13%|█▎        | 88/670 [03:49<42:58,  4.43s/it]"
     ]
    },
    {
     "name": "stdout",
     "output_type": "stream",
     "text": [
      "Processing C:\\Users\\david\\Downloads\\THSHAREX-19c-1\\THSHAREX-19c-1\\20231023-20231029-inst1-dumpdir\\report_1_THSHAREX_77708_77709.html...\n"
     ]
    },
    {
     "name": "stderr",
     "output_type": "stream",
     "text": [
      " 13%|█▎        | 89/670 [03:51<36:14,  3.74s/it]"
     ]
    },
    {
     "name": "stdout",
     "output_type": "stream",
     "text": [
      "Processing C:\\Users\\david\\Downloads\\THSHAREX-19c-1\\THSHAREX-19c-1\\20231023-20231029-inst1-dumpdir\\report_1_THSHAREX_77709_77710.html...\n"
     ]
    },
    {
     "name": "stderr",
     "output_type": "stream",
     "text": [
      " 13%|█▎        | 90/670 [03:54<33:58,  3.51s/it]"
     ]
    },
    {
     "name": "stdout",
     "output_type": "stream",
     "text": [
      "Processing C:\\Users\\david\\Downloads\\THSHAREX-19c-1\\THSHAREX-19c-1\\20231023-20231029-inst1-dumpdir\\report_1_THSHAREX_77710_77711.html...\n"
     ]
    },
    {
     "name": "stderr",
     "output_type": "stream",
     "text": [
      " 14%|█▎        | 91/670 [03:58<33:39,  3.49s/it]"
     ]
    },
    {
     "name": "stdout",
     "output_type": "stream",
     "text": [
      "Processing C:\\Users\\david\\Downloads\\THSHAREX-19c-1\\THSHAREX-19c-1\\20231023-20231029-inst1-dumpdir\\report_1_THSHAREX_77711_77712.html...\n"
     ]
    },
    {
     "name": "stderr",
     "output_type": "stream",
     "text": [
      " 14%|█▎        | 92/670 [04:00<29:49,  3.10s/it]"
     ]
    },
    {
     "name": "stdout",
     "output_type": "stream",
     "text": [
      "Processing C:\\Users\\david\\Downloads\\THSHAREX-19c-1\\THSHAREX-19c-1\\20231023-20231029-inst1-dumpdir\\report_1_THSHAREX_77712_77713.html...\n"
     ]
    },
    {
     "name": "stderr",
     "output_type": "stream",
     "text": [
      " 14%|█▍        | 93/670 [04:03<30:51,  3.21s/it]"
     ]
    },
    {
     "name": "stdout",
     "output_type": "stream",
     "text": [
      "Processing C:\\Users\\david\\Downloads\\THSHAREX-19c-1\\THSHAREX-19c-1\\20231023-20231029-inst1-dumpdir\\report_1_THSHAREX_77713_77714.html...\n"
     ]
    },
    {
     "name": "stderr",
     "output_type": "stream",
     "text": [
      " 14%|█▍        | 94/670 [04:07<30:35,  3.19s/it]"
     ]
    },
    {
     "name": "stdout",
     "output_type": "stream",
     "text": [
      "Processing C:\\Users\\david\\Downloads\\THSHAREX-19c-1\\THSHAREX-19c-1\\20231023-20231029-inst1-dumpdir\\report_1_THSHAREX_77714_77715.html...\n"
     ]
    },
    {
     "name": "stderr",
     "output_type": "stream",
     "text": [
      " 14%|█▍        | 95/670 [04:09<28:25,  2.97s/it]"
     ]
    },
    {
     "name": "stdout",
     "output_type": "stream",
     "text": [
      "Processing C:\\Users\\david\\Downloads\\THSHAREX-19c-1\\THSHAREX-19c-1\\20231023-20231029-inst1-dumpdir\\report_1_THSHAREX_77715_77716.html...\n"
     ]
    },
    {
     "name": "stderr",
     "output_type": "stream",
     "text": [
      " 14%|█▍        | 96/670 [04:13<30:09,  3.15s/it]"
     ]
    },
    {
     "name": "stdout",
     "output_type": "stream",
     "text": [
      "Processing C:\\Users\\david\\Downloads\\THSHAREX-19c-1\\THSHAREX-19c-1\\20231023-20231029-inst1-dumpdir\\report_1_THSHAREX_77716_77717.html...\n"
     ]
    },
    {
     "name": "stderr",
     "output_type": "stream",
     "text": [
      " 14%|█▍        | 97/670 [04:15<26:32,  2.78s/it]"
     ]
    },
    {
     "name": "stdout",
     "output_type": "stream",
     "text": [
      "Processing C:\\Users\\david\\Downloads\\THSHAREX-19c-1\\THSHAREX-19c-1\\20231023-20231029-inst1-dumpdir\\report_1_THSHAREX_77717_77718.html...\n"
     ]
    },
    {
     "name": "stderr",
     "output_type": "stream",
     "text": [
      " 15%|█▍        | 98/670 [04:17<25:57,  2.72s/it]"
     ]
    },
    {
     "name": "stdout",
     "output_type": "stream",
     "text": [
      "Processing C:\\Users\\david\\Downloads\\THSHAREX-19c-1\\THSHAREX-19c-1\\20231023-20231029-inst1-dumpdir\\report_1_THSHAREX_77718_77719.html...\n"
     ]
    },
    {
     "name": "stderr",
     "output_type": "stream",
     "text": [
      " 15%|█▍        | 99/670 [04:20<24:58,  2.62s/it]"
     ]
    },
    {
     "name": "stdout",
     "output_type": "stream",
     "text": [
      "Processing C:\\Users\\david\\Downloads\\THSHAREX-19c-1\\THSHAREX-19c-1\\20231023-20231029-inst1-dumpdir\\report_1_THSHAREX_77719_77720.html...\n"
     ]
    },
    {
     "name": "stderr",
     "output_type": "stream",
     "text": [
      " 15%|█▍        | 100/670 [04:21<22:36,  2.38s/it]"
     ]
    },
    {
     "name": "stdout",
     "output_type": "stream",
     "text": [
      "Processing C:\\Users\\david\\Downloads\\THSHAREX-19c-1\\THSHAREX-19c-1\\20231023-20231029-inst1-dumpdir\\report_1_THSHAREX_77720_77721.html...\n"
     ]
    },
    {
     "name": "stderr",
     "output_type": "stream",
     "text": [
      " 15%|█▌        | 101/670 [04:24<22:19,  2.35s/it]"
     ]
    },
    {
     "name": "stdout",
     "output_type": "stream",
     "text": [
      "Processing C:\\Users\\david\\Downloads\\THSHAREX-19c-1\\THSHAREX-19c-1\\20231023-20231029-inst1-dumpdir\\report_1_THSHAREX_77721_77722.html...\n"
     ]
    },
    {
     "name": "stderr",
     "output_type": "stream",
     "text": [
      " 15%|█▌        | 102/670 [04:26<22:53,  2.42s/it]"
     ]
    },
    {
     "name": "stdout",
     "output_type": "stream",
     "text": [
      "Processing C:\\Users\\david\\Downloads\\THSHAREX-19c-1\\THSHAREX-19c-1\\20231023-20231029-inst1-dumpdir\\report_1_THSHAREX_77722_77723.html...\n"
     ]
    },
    {
     "name": "stderr",
     "output_type": "stream",
     "text": [
      " 15%|█▌        | 103/670 [04:29<23:17,  2.46s/it]"
     ]
    },
    {
     "name": "stdout",
     "output_type": "stream",
     "text": [
      "Processing C:\\Users\\david\\Downloads\\THSHAREX-19c-1\\THSHAREX-19c-1\\20231023-20231029-inst1-dumpdir\\report_1_THSHAREX_77723_77724.html...\n"
     ]
    },
    {
     "name": "stderr",
     "output_type": "stream",
     "text": [
      " 16%|█▌        | 104/670 [04:31<22:33,  2.39s/it]"
     ]
    },
    {
     "name": "stdout",
     "output_type": "stream",
     "text": [
      "Processing C:\\Users\\david\\Downloads\\THSHAREX-19c-1\\THSHAREX-19c-1\\20231023-20231029-inst1-dumpdir\\report_1_THSHAREX_77724_77725.html...\n"
     ]
    },
    {
     "name": "stderr",
     "output_type": "stream",
     "text": [
      " 16%|█▌        | 105/670 [04:33<21:24,  2.27s/it]"
     ]
    },
    {
     "name": "stdout",
     "output_type": "stream",
     "text": [
      "Processing C:\\Users\\david\\Downloads\\THSHAREX-19c-1\\THSHAREX-19c-1\\20231023-20231029-inst1-dumpdir\\report_1_THSHAREX_77725_77726.html...\n"
     ]
    },
    {
     "name": "stderr",
     "output_type": "stream",
     "text": [
      " 16%|█▌        | 106/670 [04:35<21:04,  2.24s/it]"
     ]
    },
    {
     "name": "stdout",
     "output_type": "stream",
     "text": [
      "Processing C:\\Users\\david\\Downloads\\THSHAREX-19c-1\\THSHAREX-19c-1\\20231023-20231029-inst1-dumpdir\\report_1_THSHAREX_77726_77727.html...\n"
     ]
    },
    {
     "name": "stderr",
     "output_type": "stream",
     "text": [
      " 16%|█▌        | 107/670 [04:37<20:45,  2.21s/it]"
     ]
    },
    {
     "name": "stdout",
     "output_type": "stream",
     "text": [
      "Processing C:\\Users\\david\\Downloads\\THSHAREX-19c-1\\THSHAREX-19c-1\\20231023-20231029-inst1-dumpdir\\report_1_THSHAREX_77727_77728.html...\n"
     ]
    },
    {
     "name": "stderr",
     "output_type": "stream",
     "text": [
      " 16%|█▌        | 108/670 [04:40<20:47,  2.22s/it]"
     ]
    },
    {
     "name": "stdout",
     "output_type": "stream",
     "text": [
      "Processing C:\\Users\\david\\Downloads\\THSHAREX-19c-1\\THSHAREX-19c-1\\20231023-20231029-inst1-dumpdir\\report_1_THSHAREX_77728_77729.html...\n"
     ]
    },
    {
     "name": "stderr",
     "output_type": "stream",
     "text": [
      " 16%|█▋        | 109/670 [04:41<18:58,  2.03s/it]"
     ]
    },
    {
     "name": "stdout",
     "output_type": "stream",
     "text": [
      "Processing C:\\Users\\david\\Downloads\\THSHAREX-19c-1\\THSHAREX-19c-1\\20231023-20231029-inst1-dumpdir\\report_1_THSHAREX_77729_77730.html...\n"
     ]
    },
    {
     "name": "stderr",
     "output_type": "stream",
     "text": [
      " 16%|█▋        | 110/670 [04:42<16:54,  1.81s/it]"
     ]
    },
    {
     "name": "stdout",
     "output_type": "stream",
     "text": [
      "Processing C:\\Users\\david\\Downloads\\THSHAREX-19c-1\\THSHAREX-19c-1\\20231023-20231029-inst1-dumpdir\\report_1_THSHAREX_77730_77731.html...\n"
     ]
    },
    {
     "name": "stderr",
     "output_type": "stream",
     "text": [
      " 17%|█▋        | 111/670 [04:44<16:39,  1.79s/it]"
     ]
    },
    {
     "name": "stdout",
     "output_type": "stream",
     "text": [
      "Processing C:\\Users\\david\\Downloads\\THSHAREX-19c-1\\THSHAREX-19c-1\\20231023-20231029-inst1-dumpdir\\report_1_THSHAREX_77731_77732.html...\n"
     ]
    },
    {
     "name": "stderr",
     "output_type": "stream",
     "text": [
      " 17%|█▋        | 112/670 [04:46<17:52,  1.92s/it]"
     ]
    },
    {
     "name": "stdout",
     "output_type": "stream",
     "text": [
      "Processing C:\\Users\\david\\Downloads\\THSHAREX-19c-1\\THSHAREX-19c-1\\20231023-20231029-inst1-dumpdir\\report_1_THSHAREX_77732_77733.html...\n"
     ]
    },
    {
     "name": "stderr",
     "output_type": "stream",
     "text": [
      " 17%|█▋        | 113/670 [04:48<16:18,  1.76s/it]"
     ]
    },
    {
     "name": "stdout",
     "output_type": "stream",
     "text": [
      "Processing C:\\Users\\david\\Downloads\\THSHAREX-19c-1\\THSHAREX-19c-1\\20231023-20231029-inst1-dumpdir\\report_1_THSHAREX_77733_77734.html...\n"
     ]
    },
    {
     "name": "stderr",
     "output_type": "stream",
     "text": [
      " 17%|█▋        | 114/670 [04:50<16:33,  1.79s/it]"
     ]
    },
    {
     "name": "stdout",
     "output_type": "stream",
     "text": [
      "Processing C:\\Users\\david\\Downloads\\THSHAREX-19c-1\\THSHAREX-19c-1\\20231023-20231029-inst1-dumpdir\\report_1_THSHAREX_77734_77735.html...\n"
     ]
    },
    {
     "name": "stderr",
     "output_type": "stream",
     "text": [
      " 17%|█▋        | 115/670 [04:51<15:36,  1.69s/it]"
     ]
    },
    {
     "name": "stdout",
     "output_type": "stream",
     "text": [
      "Processing C:\\Users\\david\\Downloads\\THSHAREX-19c-1\\THSHAREX-19c-1\\20231023-20231029-inst1-dumpdir\\report_1_THSHAREX_77735_77736.html...\n"
     ]
    },
    {
     "name": "stderr",
     "output_type": "stream",
     "text": [
      " 17%|█▋        | 116/670 [04:53<15:48,  1.71s/it]"
     ]
    },
    {
     "name": "stdout",
     "output_type": "stream",
     "text": [
      "Processing C:\\Users\\david\\Downloads\\THSHAREX-19c-1\\THSHAREX-19c-1\\20231023-20231029-inst1-dumpdir\\report_1_THSHAREX_77736_77737.html...\n"
     ]
    },
    {
     "name": "stderr",
     "output_type": "stream",
     "text": [
      " 17%|█▋        | 117/670 [04:55<16:53,  1.83s/it]"
     ]
    },
    {
     "name": "stdout",
     "output_type": "stream",
     "text": [
      "Processing C:\\Users\\david\\Downloads\\THSHAREX-19c-1\\THSHAREX-19c-1\\20231023-20231029-inst1-dumpdir\\report_1_THSHAREX_77737_77738.html...\n"
     ]
    },
    {
     "name": "stderr",
     "output_type": "stream",
     "text": [
      " 18%|█▊        | 118/670 [04:57<18:13,  1.98s/it]"
     ]
    },
    {
     "name": "stdout",
     "output_type": "stream",
     "text": [
      "Processing C:\\Users\\david\\Downloads\\THSHAREX-19c-1\\THSHAREX-19c-1\\20231023-20231029-inst1-dumpdir\\report_1_THSHAREX_77738_77739.html...\n"
     ]
    },
    {
     "name": "stderr",
     "output_type": "stream",
     "text": [
      " 18%|█▊        | 119/670 [05:00<19:17,  2.10s/it]"
     ]
    },
    {
     "name": "stdout",
     "output_type": "stream",
     "text": [
      "Processing C:\\Users\\david\\Downloads\\THSHAREX-19c-1\\THSHAREX-19c-1\\20231023-20231029-inst1-dumpdir\\report_1_THSHAREX_77739_77740.html...\n"
     ]
    },
    {
     "name": "stderr",
     "output_type": "stream",
     "text": [
      " 18%|█▊        | 120/670 [05:02<18:59,  2.07s/it]"
     ]
    },
    {
     "name": "stdout",
     "output_type": "stream",
     "text": [
      "Processing C:\\Users\\david\\Downloads\\THSHAREX-19c-1\\THSHAREX-19c-1\\20231023-20231029-inst1-dumpdir\\report_1_THSHAREX_77740_77741.html...\n"
     ]
    },
    {
     "name": "stderr",
     "output_type": "stream",
     "text": [
      " 18%|█▊        | 121/670 [05:04<20:32,  2.25s/it]"
     ]
    },
    {
     "name": "stdout",
     "output_type": "stream",
     "text": [
      "Processing C:\\Users\\david\\Downloads\\THSHAREX-19c-1\\THSHAREX-19c-1\\20231023-20231029-inst1-dumpdir\\report_1_THSHAREX_77741_77742.html...\n"
     ]
    },
    {
     "name": "stderr",
     "output_type": "stream",
     "text": [
      " 18%|█▊        | 122/670 [05:07<21:05,  2.31s/it]"
     ]
    },
    {
     "name": "stdout",
     "output_type": "stream",
     "text": [
      "Processing C:\\Users\\david\\Downloads\\THSHAREX-19c-1\\THSHAREX-19c-1\\20231023-20231029-inst1-dumpdir\\report_1_THSHAREX_77742_77743.html...\n"
     ]
    },
    {
     "name": "stderr",
     "output_type": "stream",
     "text": [
      " 18%|█▊        | 123/670 [05:09<21:09,  2.32s/it]"
     ]
    },
    {
     "name": "stdout",
     "output_type": "stream",
     "text": [
      "Processing C:\\Users\\david\\Downloads\\THSHAREX-19c-1\\THSHAREX-19c-1\\20231023-20231029-inst1-dumpdir\\report_1_THSHAREX_77743_77744.html...\n"
     ]
    },
    {
     "name": "stderr",
     "output_type": "stream",
     "text": [
      " 19%|█▊        | 124/670 [05:11<20:51,  2.29s/it]"
     ]
    },
    {
     "name": "stdout",
     "output_type": "stream",
     "text": [
      "Processing C:\\Users\\david\\Downloads\\THSHAREX-19c-1\\THSHAREX-19c-1\\20231023-20231029-inst1-dumpdir\\report_1_THSHAREX_77744_77745.html...\n"
     ]
    },
    {
     "name": "stderr",
     "output_type": "stream",
     "text": [
      " 19%|█▊        | 125/670 [05:14<20:58,  2.31s/it]"
     ]
    },
    {
     "name": "stdout",
     "output_type": "stream",
     "text": [
      "Processing C:\\Users\\david\\Downloads\\THSHAREX-19c-1\\THSHAREX-19c-1\\20231023-20231029-inst1-dumpdir\\report_1_THSHAREX_77745_77746.html...\n"
     ]
    },
    {
     "name": "stderr",
     "output_type": "stream",
     "text": [
      " 19%|█▉        | 126/670 [05:17<24:22,  2.69s/it]"
     ]
    },
    {
     "name": "stdout",
     "output_type": "stream",
     "text": [
      "Processing C:\\Users\\david\\Downloads\\THSHAREX-19c-1\\THSHAREX-19c-1\\20231023-20231029-inst1-dumpdir\\report_1_THSHAREX_77746_77747.html...\n"
     ]
    },
    {
     "name": "stderr",
     "output_type": "stream",
     "text": [
      " 19%|█▉        | 127/670 [05:20<23:33,  2.60s/it]"
     ]
    },
    {
     "name": "stdout",
     "output_type": "stream",
     "text": [
      "Processing C:\\Users\\david\\Downloads\\THSHAREX-19c-1\\THSHAREX-19c-1\\20231023-20231029-inst1-dumpdir\\report_1_THSHAREX_77747_77748.html...\n"
     ]
    },
    {
     "name": "stderr",
     "output_type": "stream",
     "text": [
      " 19%|█▉        | 128/670 [05:22<22:22,  2.48s/it]"
     ]
    },
    {
     "name": "stdout",
     "output_type": "stream",
     "text": [
      "Processing C:\\Users\\david\\Downloads\\THSHAREX-19c-1\\THSHAREX-19c-1\\20231023-20231029-inst1-dumpdir\\report_1_THSHAREX_77748_77749.html...\n"
     ]
    },
    {
     "name": "stderr",
     "output_type": "stream",
     "text": [
      " 19%|█▉        | 129/670 [05:24<21:37,  2.40s/it]"
     ]
    },
    {
     "name": "stdout",
     "output_type": "stream",
     "text": [
      "Processing C:\\Users\\david\\Downloads\\THSHAREX-19c-1\\THSHAREX-19c-1\\20231023-20231029-inst1-dumpdir\\report_1_THSHAREX_77749_77750.html...\n"
     ]
    },
    {
     "name": "stderr",
     "output_type": "stream",
     "text": [
      " 19%|█▉        | 130/670 [05:26<20:57,  2.33s/it]"
     ]
    },
    {
     "name": "stdout",
     "output_type": "stream",
     "text": [
      "Processing C:\\Users\\david\\Downloads\\THSHAREX-19c-1\\THSHAREX-19c-1\\20231023-20231029-inst1-dumpdir\\report_1_THSHAREX_77750_77751.html...\n"
     ]
    },
    {
     "name": "stderr",
     "output_type": "stream",
     "text": [
      " 20%|█▉        | 131/670 [05:29<21:04,  2.35s/it]"
     ]
    },
    {
     "name": "stdout",
     "output_type": "stream",
     "text": [
      "Processing C:\\Users\\david\\Downloads\\THSHAREX-19c-1\\THSHAREX-19c-1\\20231023-20231029-inst1-dumpdir\\report_1_THSHAREX_77751_77752.html...\n"
     ]
    },
    {
     "name": "stderr",
     "output_type": "stream",
     "text": [
      " 20%|█▉        | 132/670 [05:31<22:06,  2.47s/it]"
     ]
    },
    {
     "name": "stdout",
     "output_type": "stream",
     "text": [
      "Processing C:\\Users\\david\\Downloads\\THSHAREX-19c-1\\THSHAREX-19c-1\\20231023-20231029-inst1-dumpdir\\report_1_THSHAREX_77752_77753.html...\n"
     ]
    },
    {
     "name": "stderr",
     "output_type": "stream",
     "text": [
      " 20%|█▉        | 133/670 [05:34<21:33,  2.41s/it]"
     ]
    },
    {
     "name": "stdout",
     "output_type": "stream",
     "text": [
      "Processing C:\\Users\\david\\Downloads\\THSHAREX-19c-1\\THSHAREX-19c-1\\20231023-20231029-inst1-dumpdir\\report_1_THSHAREX_77753_77754.html...\n"
     ]
    },
    {
     "name": "stderr",
     "output_type": "stream",
     "text": [
      " 20%|██        | 134/670 [05:36<21:06,  2.36s/it]"
     ]
    },
    {
     "name": "stdout",
     "output_type": "stream",
     "text": [
      "Processing C:\\Users\\david\\Downloads\\THSHAREX-19c-1\\THSHAREX-19c-1\\20231023-20231029-inst1-dumpdir\\report_1_THSHAREX_77754_77755.html...\n"
     ]
    },
    {
     "name": "stderr",
     "output_type": "stream",
     "text": [
      " 20%|██        | 135/670 [05:38<20:28,  2.30s/it]"
     ]
    },
    {
     "name": "stdout",
     "output_type": "stream",
     "text": [
      "Processing C:\\Users\\david\\Downloads\\THSHAREX-19c-1\\THSHAREX-19c-1\\20231023-20231029-inst1-dumpdir\\report_1_THSHAREX_77755_77756.html...\n"
     ]
    },
    {
     "name": "stderr",
     "output_type": "stream",
     "text": [
      " 20%|██        | 136/670 [05:40<20:36,  2.31s/it]"
     ]
    },
    {
     "name": "stdout",
     "output_type": "stream",
     "text": [
      "Processing C:\\Users\\david\\Downloads\\THSHAREX-19c-1\\THSHAREX-19c-1\\20231023-20231029-inst1-dumpdir\\report_1_THSHAREX_77756_77757.html...\n"
     ]
    },
    {
     "name": "stderr",
     "output_type": "stream",
     "text": [
      " 20%|██        | 137/670 [05:43<20:03,  2.26s/it]"
     ]
    },
    {
     "name": "stdout",
     "output_type": "stream",
     "text": [
      "Processing C:\\Users\\david\\Downloads\\THSHAREX-19c-1\\THSHAREX-19c-1\\20231023-20231029-inst1-dumpdir\\report_1_THSHAREX_77757_77758.html...\n"
     ]
    },
    {
     "name": "stderr",
     "output_type": "stream",
     "text": [
      " 21%|██        | 138/670 [05:45<20:02,  2.26s/it]"
     ]
    },
    {
     "name": "stdout",
     "output_type": "stream",
     "text": [
      "Processing C:\\Users\\david\\Downloads\\THSHAREX-19c-1\\THSHAREX-19c-1\\20231023-20231029-inst1-dumpdir\\report_1_THSHAREX_77758_77759.html...\n"
     ]
    },
    {
     "name": "stderr",
     "output_type": "stream",
     "text": [
      " 21%|██        | 139/670 [05:47<20:21,  2.30s/it]"
     ]
    },
    {
     "name": "stdout",
     "output_type": "stream",
     "text": [
      "Processing C:\\Users\\david\\Downloads\\THSHAREX-19c-1\\THSHAREX-19c-1\\20231023-20231029-inst1-dumpdir\\report_1_THSHAREX_77759_77760.html...\n"
     ]
    },
    {
     "name": "stderr",
     "output_type": "stream",
     "text": [
      " 21%|██        | 140/670 [05:49<20:12,  2.29s/it]"
     ]
    },
    {
     "name": "stdout",
     "output_type": "stream",
     "text": [
      "Processing C:\\Users\\david\\Downloads\\THSHAREX-19c-1\\THSHAREX-19c-1\\20231023-20231029-inst1-dumpdir\\report_1_THSHAREX_77760_77761.html...\n"
     ]
    },
    {
     "name": "stderr",
     "output_type": "stream",
     "text": [
      " 21%|██        | 141/670 [05:52<19:37,  2.23s/it]"
     ]
    },
    {
     "name": "stdout",
     "output_type": "stream",
     "text": [
      "Processing C:\\Users\\david\\Downloads\\THSHAREX-19c-1\\THSHAREX-19c-1\\20231023-20231029-inst1-dumpdir\\report_1_THSHAREX_77761_77762.html...\n"
     ]
    },
    {
     "name": "stderr",
     "output_type": "stream",
     "text": [
      " 21%|██        | 142/670 [05:54<19:19,  2.20s/it]"
     ]
    },
    {
     "name": "stdout",
     "output_type": "stream",
     "text": [
      "Processing C:\\Users\\david\\Downloads\\THSHAREX-19c-1\\THSHAREX-19c-1\\20231023-20231029-inst1-dumpdir\\report_1_THSHAREX_77762_77763.html...\n"
     ]
    },
    {
     "name": "stderr",
     "output_type": "stream",
     "text": [
      " 21%|██▏       | 143/670 [05:56<19:11,  2.18s/it]"
     ]
    },
    {
     "name": "stdout",
     "output_type": "stream",
     "text": [
      "Processing C:\\Users\\david\\Downloads\\THSHAREX-19c-1\\THSHAREX-19c-1\\20231023-20231029-inst1-dumpdir\\report_1_THSHAREX_77763_77764.html...\n"
     ]
    },
    {
     "name": "stderr",
     "output_type": "stream",
     "text": [
      " 21%|██▏       | 144/670 [05:58<19:03,  2.17s/it]"
     ]
    },
    {
     "name": "stdout",
     "output_type": "stream",
     "text": [
      "Processing C:\\Users\\david\\Downloads\\THSHAREX-19c-1\\THSHAREX-19c-1\\20231023-20231029-inst1-dumpdir\\report_1_THSHAREX_77764_77765.html...\n"
     ]
    },
    {
     "name": "stderr",
     "output_type": "stream",
     "text": [
      " 22%|██▏       | 145/670 [06:01<20:04,  2.30s/it]"
     ]
    },
    {
     "name": "stdout",
     "output_type": "stream",
     "text": [
      "Processing C:\\Users\\david\\Downloads\\THSHAREX-19c-1\\THSHAREX-19c-1\\20231023-20231029-inst1-dumpdir\\report_1_THSHAREX_77765_77766.html...\n"
     ]
    },
    {
     "name": "stderr",
     "output_type": "stream",
     "text": [
      " 22%|██▏       | 146/670 [06:02<17:58,  2.06s/it]"
     ]
    },
    {
     "name": "stdout",
     "output_type": "stream",
     "text": [
      "Processing C:\\Users\\david\\Downloads\\THSHAREX-19c-1\\THSHAREX-19c-1\\20231023-20231029-inst1-dumpdir\\report_1_THSHAREX_77766_77767.html...\n"
     ]
    },
    {
     "name": "stderr",
     "output_type": "stream",
     "text": [
      " 22%|██▏       | 147/670 [06:04<17:12,  1.97s/it]"
     ]
    },
    {
     "name": "stdout",
     "output_type": "stream",
     "text": [
      "Processing C:\\Users\\david\\Downloads\\THSHAREX-19c-1\\THSHAREX-19c-1\\20231023-20231029-inst1-dumpdir\\report_1_THSHAREX_77767_77768.html...\n"
     ]
    },
    {
     "name": "stderr",
     "output_type": "stream",
     "text": [
      " 22%|██▏       | 148/670 [06:05<16:06,  1.85s/it]"
     ]
    },
    {
     "name": "stdout",
     "output_type": "stream",
     "text": [
      "Processing C:\\Users\\david\\Downloads\\THSHAREX-19c-1\\THSHAREX-19c-1\\20231023-20231029-inst1-dumpdir\\report_1_THSHAREX_77768_77769.html...\n"
     ]
    },
    {
     "name": "stderr",
     "output_type": "stream",
     "text": [
      " 22%|██▏       | 149/670 [06:07<15:30,  1.79s/it]"
     ]
    },
    {
     "name": "stdout",
     "output_type": "stream",
     "text": [
      "Processing C:\\Users\\david\\Downloads\\THSHAREX-19c-1\\THSHAREX-19c-1\\20231023-20231029-inst1-dumpdir\\report_1_THSHAREX_77769_77770.html...\n"
     ]
    },
    {
     "name": "stderr",
     "output_type": "stream",
     "text": [
      " 22%|██▏       | 150/670 [06:09<16:36,  1.92s/it]"
     ]
    },
    {
     "name": "stdout",
     "output_type": "stream",
     "text": [
      "Processing C:\\Users\\david\\Downloads\\THSHAREX-19c-1\\THSHAREX-19c-1\\20231023-20231029-inst1-dumpdir\\report_1_THSHAREX_77770_77771.html...\n"
     ]
    },
    {
     "name": "stderr",
     "output_type": "stream",
     "text": [
      " 23%|██▎       | 151/670 [06:12<18:23,  2.13s/it]"
     ]
    },
    {
     "name": "stdout",
     "output_type": "stream",
     "text": [
      "Processing C:\\Users\\david\\Downloads\\THSHAREX-19c-1\\THSHAREX-19c-1\\20231023-20231029-inst1-dumpdir\\report_1_THSHAREX_77771_77772.html...\n"
     ]
    },
    {
     "name": "stderr",
     "output_type": "stream",
     "text": [
      " 23%|██▎       | 152/670 [06:14<17:20,  2.01s/it]"
     ]
    },
    {
     "name": "stdout",
     "output_type": "stream",
     "text": [
      "Processing C:\\Users\\david\\Downloads\\THSHAREX-19c-1\\THSHAREX-19c-1\\20231023-20231029-inst1-dumpdir\\report_1_THSHAREX_77772_77773.html...\n"
     ]
    },
    {
     "name": "stderr",
     "output_type": "stream",
     "text": [
      " 23%|██▎       | 153/670 [06:15<16:25,  1.91s/it]"
     ]
    },
    {
     "name": "stdout",
     "output_type": "stream",
     "text": [
      "Processing C:\\Users\\david\\Downloads\\THSHAREX-19c-1\\THSHAREX-19c-1\\20231023-20231029-inst1-dumpdir\\report_1_THSHAREX_77773_77774.html...\n"
     ]
    },
    {
     "name": "stderr",
     "output_type": "stream",
     "text": [
      " 23%|██▎       | 154/670 [06:17<15:12,  1.77s/it]"
     ]
    },
    {
     "name": "stdout",
     "output_type": "stream",
     "text": [
      "Processing C:\\Users\\david\\Downloads\\THSHAREX-19c-1\\THSHAREX-19c-1\\20231023-20231029-inst1-dumpdir\\report_1_THSHAREX_77774_77775.html...\n"
     ]
    },
    {
     "name": "stderr",
     "output_type": "stream",
     "text": [
      " 23%|██▎       | 155/670 [06:19<16:46,  1.95s/it]"
     ]
    },
    {
     "name": "stdout",
     "output_type": "stream",
     "text": [
      "Processing C:\\Users\\david\\Downloads\\THSHAREX-19c-1\\THSHAREX-19c-1\\20231023-20231029-inst1-dumpdir\\report_1_THSHAREX_77775_77776.html...\n"
     ]
    },
    {
     "name": "stderr",
     "output_type": "stream",
     "text": [
      " 23%|██▎       | 156/670 [06:21<17:24,  2.03s/it]"
     ]
    },
    {
     "name": "stdout",
     "output_type": "stream",
     "text": [
      "Processing C:\\Users\\david\\Downloads\\THSHAREX-19c-1\\THSHAREX-19c-1\\20231023-20231029-inst1-dumpdir\\report_1_THSHAREX_77776_77777.html...\n"
     ]
    },
    {
     "name": "stderr",
     "output_type": "stream",
     "text": [
      " 23%|██▎       | 157/670 [06:23<16:02,  1.88s/it]"
     ]
    },
    {
     "name": "stdout",
     "output_type": "stream",
     "text": [
      "Processing C:\\Users\\david\\Downloads\\THSHAREX-19c-1\\THSHAREX-19c-1\\20231023-20231029-inst1-dumpdir\\report_1_THSHAREX_77777_77778.html...\n"
     ]
    },
    {
     "name": "stderr",
     "output_type": "stream",
     "text": [
      " 24%|██▎       | 158/670 [06:25<16:21,  1.92s/it]"
     ]
    },
    {
     "name": "stdout",
     "output_type": "stream",
     "text": [
      "Processing C:\\Users\\david\\Downloads\\THSHAREX-19c-1\\THSHAREX-19c-1\\20231023-20231029-inst1-dumpdir\\report_1_THSHAREX_77778_77779.html...\n"
     ]
    },
    {
     "name": "stderr",
     "output_type": "stream",
     "text": [
      " 24%|██▎       | 159/670 [06:27<15:53,  1.87s/it]"
     ]
    },
    {
     "name": "stdout",
     "output_type": "stream",
     "text": [
      "Processing C:\\Users\\david\\Downloads\\THSHAREX-19c-1\\THSHAREX-19c-1\\20231023-20231029-inst1-dumpdir\\report_1_THSHAREX_77779_77780.html...\n"
     ]
    },
    {
     "name": "stderr",
     "output_type": "stream",
     "text": [
      " 24%|██▍       | 160/670 [06:29<17:18,  2.04s/it]"
     ]
    },
    {
     "name": "stdout",
     "output_type": "stream",
     "text": [
      "Processing C:\\Users\\david\\Downloads\\THSHAREX-19c-1\\THSHAREX-19c-1\\20231023-20231029-inst1-dumpdir\\report_1_THSHAREX_77780_77781.html...\n"
     ]
    },
    {
     "name": "stderr",
     "output_type": "stream",
     "text": [
      " 24%|██▍       | 161/670 [06:31<17:12,  2.03s/it]"
     ]
    },
    {
     "name": "stdout",
     "output_type": "stream",
     "text": [
      "Processing C:\\Users\\david\\Downloads\\THSHAREX-19c-1\\THSHAREX-19c-1\\20231023-20231029-inst1-dumpdir\\report_1_THSHAREX_77781_77782.html...\n"
     ]
    },
    {
     "name": "stderr",
     "output_type": "stream",
     "text": [
      " 24%|██▍       | 162/670 [06:34<18:30,  2.19s/it]"
     ]
    },
    {
     "name": "stdout",
     "output_type": "stream",
     "text": [
      "Processing C:\\Users\\david\\Downloads\\THSHAREX-19c-1\\THSHAREX-19c-1\\20231023-20231029-inst1-dumpdir\\report_1_THSHAREX_77782_77783.html...\n"
     ]
    },
    {
     "name": "stderr",
     "output_type": "stream",
     "text": [
      " 24%|██▍       | 163/670 [06:36<18:29,  2.19s/it]"
     ]
    },
    {
     "name": "stdout",
     "output_type": "stream",
     "text": [
      "Processing C:\\Users\\david\\Downloads\\THSHAREX-19c-1\\THSHAREX-19c-1\\20231023-20231029-inst1-dumpdir\\report_1_THSHAREX_77783_77784.html...\n"
     ]
    },
    {
     "name": "stderr",
     "output_type": "stream",
     "text": [
      " 24%|██▍       | 164/670 [06:38<18:38,  2.21s/it]"
     ]
    },
    {
     "name": "stdout",
     "output_type": "stream",
     "text": [
      "Processing C:\\Users\\david\\Downloads\\THSHAREX-19c-1\\THSHAREX-19c-1\\20231023-20231029-inst1-dumpdir\\report_1_THSHAREX_77784_77785.html...\n"
     ]
    },
    {
     "name": "stderr",
     "output_type": "stream",
     "text": [
      " 25%|██▍       | 165/670 [06:40<18:31,  2.20s/it]"
     ]
    },
    {
     "name": "stdout",
     "output_type": "stream",
     "text": [
      "Processing C:\\Users\\david\\Downloads\\THSHAREX-19c-1\\THSHAREX-19c-1\\20231023-20231029-inst1-dumpdir\\report_1_THSHAREX_77785_77786.html...\n"
     ]
    },
    {
     "name": "stderr",
     "output_type": "stream",
     "text": [
      " 25%|██▍       | 166/670 [06:43<18:49,  2.24s/it]"
     ]
    },
    {
     "name": "stdout",
     "output_type": "stream",
     "text": [
      "Processing C:\\Users\\david\\Downloads\\THSHAREX-19c-1\\THSHAREX-19c-1\\20231023-20231029-inst1-dumpdir\\report_1_THSHAREX_77786_77787.html...\n"
     ]
    },
    {
     "name": "stderr",
     "output_type": "stream",
     "text": [
      " 25%|██▍       | 167/670 [06:45<18:37,  2.22s/it]"
     ]
    },
    {
     "name": "stdout",
     "output_type": "stream",
     "text": [
      "Processing C:\\Users\\david\\Downloads\\THSHAREX-19c-1\\THSHAREX-19c-1\\20231023-20231029-inst1-dumpdir\\report_1_THSHAREX_77787_77788.html...\n"
     ]
    },
    {
     "name": "stderr",
     "output_type": "stream",
     "text": [
      " 25%|██▌       | 168/670 [06:47<18:38,  2.23s/it]"
     ]
    },
    {
     "name": "stdout",
     "output_type": "stream",
     "text": [
      "Processing C:\\Users\\david\\Downloads\\THSHAREX-19c-1\\THSHAREX-19c-1\\20231023-20231029-inst1-dumpdir\\report_1_THSHAREX_77788_77789.html...\n"
     ]
    },
    {
     "name": "stderr",
     "output_type": "stream",
     "text": [
      " 25%|██▌       | 169/670 [06:49<19:03,  2.28s/it]"
     ]
    },
    {
     "name": "stdout",
     "output_type": "stream",
     "text": [
      "Processing C:\\Users\\david\\Downloads\\THSHAREX-19c-1\\THSHAREX-19c-1\\20231023-20231029-inst1-dumpdir\\report_1_THSHAREX_77789_77790.html...\n"
     ]
    },
    {
     "name": "stderr",
     "output_type": "stream",
     "text": [
      " 25%|██▌       | 170/670 [06:52<19:07,  2.30s/it]"
     ]
    },
    {
     "name": "stdout",
     "output_type": "stream",
     "text": [
      "Processing C:\\Users\\david\\Downloads\\THSHAREX-19c-1\\THSHAREX-19c-1\\20231023-20231029-inst1-dumpdir\\report_1_THSHAREX_77790_77791.html...\n"
     ]
    },
    {
     "name": "stderr",
     "output_type": "stream",
     "text": [
      " 26%|██▌       | 171/670 [06:54<19:05,  2.30s/it]"
     ]
    },
    {
     "name": "stdout",
     "output_type": "stream",
     "text": [
      "Processing C:\\Users\\david\\Downloads\\THSHAREX-19c-1\\THSHAREX-19c-1\\20231023-20231029-inst1-dumpdir\\report_1_THSHAREX_77791_77792.html...\n"
     ]
    },
    {
     "name": "stderr",
     "output_type": "stream",
     "text": [
      " 26%|██▌       | 172/670 [06:57<20:14,  2.44s/it]"
     ]
    },
    {
     "name": "stdout",
     "output_type": "stream",
     "text": [
      "Processing C:\\Users\\david\\Downloads\\THSHAREX-19c-1\\THSHAREX-19c-1\\20231023-20231029-inst1-dumpdir\\report_1_THSHAREX_77792_77793.html...\n"
     ]
    },
    {
     "name": "stderr",
     "output_type": "stream",
     "text": [
      " 26%|██▌       | 173/670 [07:00<22:39,  2.73s/it]"
     ]
    },
    {
     "name": "stdout",
     "output_type": "stream",
     "text": [
      "Processing C:\\Users\\david\\Downloads\\THSHAREX-19c-1\\THSHAREX-19c-1\\20231023-20231029-inst1-dumpdir\\report_1_THSHAREX_77793_77794.html...\n"
     ]
    },
    {
     "name": "stderr",
     "output_type": "stream",
     "text": [
      " 26%|██▌       | 174/670 [07:03<21:55,  2.65s/it]"
     ]
    },
    {
     "name": "stdout",
     "output_type": "stream",
     "text": [
      "Processing C:\\Users\\david\\Downloads\\THSHAREX-19c-1\\THSHAREX-19c-1\\20231023-20231029-inst1-dumpdir\\report_1_THSHAREX_77794_77795.html...\n"
     ]
    },
    {
     "name": "stderr",
     "output_type": "stream",
     "text": [
      " 26%|██▌       | 175/670 [07:05<20:54,  2.53s/it]"
     ]
    },
    {
     "name": "stdout",
     "output_type": "stream",
     "text": [
      "Processing C:\\Users\\david\\Downloads\\THSHAREX-19c-1\\THSHAREX-19c-1\\20231023-20231029-inst1-dumpdir\\report_1_THSHAREX_77795_77796.html...\n"
     ]
    },
    {
     "name": "stderr",
     "output_type": "stream",
     "text": [
      " 26%|██▋       | 176/670 [07:07<20:14,  2.46s/it]"
     ]
    },
    {
     "name": "stdout",
     "output_type": "stream",
     "text": [
      "Processing C:\\Users\\david\\Downloads\\THSHAREX-19c-1\\THSHAREX-19c-1\\20231023-20231029-inst1-dumpdir\\report_1_THSHAREX_77796_77797.html...\n"
     ]
    },
    {
     "name": "stderr",
     "output_type": "stream",
     "text": [
      " 26%|██▋       | 177/670 [07:09<19:29,  2.37s/it]"
     ]
    },
    {
     "name": "stdout",
     "output_type": "stream",
     "text": [
      "Processing C:\\Users\\david\\Downloads\\THSHAREX-19c-1\\THSHAREX-19c-1\\20231023-20231029-inst1-dumpdir\\report_1_THSHAREX_77797_77798.html...\n"
     ]
    },
    {
     "name": "stderr",
     "output_type": "stream",
     "text": [
      " 27%|██▋       | 178/670 [07:12<19:34,  2.39s/it]"
     ]
    },
    {
     "name": "stdout",
     "output_type": "stream",
     "text": [
      "Processing C:\\Users\\david\\Downloads\\THSHAREX-19c-1\\THSHAREX-19c-1\\20231023-20231029-inst1-dumpdir\\report_1_THSHAREX_77798_77799.html...\n"
     ]
    },
    {
     "name": "stderr",
     "output_type": "stream",
     "text": [
      " 27%|██▋       | 179/670 [07:14<19:52,  2.43s/it]"
     ]
    },
    {
     "name": "stdout",
     "output_type": "stream",
     "text": [
      "Processing C:\\Users\\david\\Downloads\\THSHAREX-19c-1\\THSHAREX-19c-1\\20231023-20231029-inst1-dumpdir\\report_1_THSHAREX_77799_77800.html...\n"
     ]
    },
    {
     "name": "stderr",
     "output_type": "stream",
     "text": [
      " 27%|██▋       | 180/670 [07:17<19:39,  2.41s/it]"
     ]
    },
    {
     "name": "stdout",
     "output_type": "stream",
     "text": [
      "Processing C:\\Users\\david\\Downloads\\THSHAREX-19c-1\\THSHAREX-19c-1\\20231023-20231029-inst1-dumpdir\\report_1_THSHAREX_77800_77801.html...\n"
     ]
    },
    {
     "name": "stderr",
     "output_type": "stream",
     "text": [
      " 27%|██▋       | 181/670 [07:19<19:20,  2.37s/it]"
     ]
    },
    {
     "name": "stdout",
     "output_type": "stream",
     "text": [
      "Processing C:\\Users\\david\\Downloads\\THSHAREX-19c-1\\THSHAREX-19c-1\\20231023-20231029-inst1-dumpdir\\report_1_THSHAREX_77801_77802.html...\n"
     ]
    },
    {
     "name": "stderr",
     "output_type": "stream",
     "text": [
      " 27%|██▋       | 182/670 [07:21<19:32,  2.40s/it]"
     ]
    },
    {
     "name": "stdout",
     "output_type": "stream",
     "text": [
      "Processing C:\\Users\\david\\Downloads\\THSHAREX-19c-1\\THSHAREX-19c-1\\20231023-20231029-inst1-dumpdir\\report_1_THSHAREX_77802_77803.html...\n"
     ]
    },
    {
     "name": "stderr",
     "output_type": "stream",
     "text": [
      " 27%|██▋       | 183/670 [07:24<19:14,  2.37s/it]"
     ]
    },
    {
     "name": "stdout",
     "output_type": "stream",
     "text": [
      "Processing C:\\Users\\david\\Downloads\\THSHAREX-19c-1\\THSHAREX-19c-1\\20231023-20231029-inst1-dumpdir\\report_1_THSHAREX_77803_77804.html...\n"
     ]
    },
    {
     "name": "stderr",
     "output_type": "stream",
     "text": [
      " 27%|██▋       | 184/670 [07:26<19:21,  2.39s/it]"
     ]
    },
    {
     "name": "stdout",
     "output_type": "stream",
     "text": [
      "Processing C:\\Users\\david\\Downloads\\THSHAREX-19c-1\\THSHAREX-19c-1\\20231023-20231029-inst1-dumpdir\\report_1_THSHAREX_77804_77805.html...\n"
     ]
    },
    {
     "name": "stderr",
     "output_type": "stream",
     "text": [
      " 28%|██▊       | 185/670 [07:28<18:48,  2.33s/it]"
     ]
    },
    {
     "name": "stdout",
     "output_type": "stream",
     "text": [
      "Processing C:\\Users\\david\\Downloads\\THSHAREX-19c-1\\THSHAREX-19c-1\\20231023-20231029-inst1-dumpdir\\report_1_THSHAREX_77805_77806.html...\n"
     ]
    },
    {
     "name": "stderr",
     "output_type": "stream",
     "text": [
      " 28%|██▊       | 186/670 [07:31<18:21,  2.28s/it]"
     ]
    },
    {
     "name": "stdout",
     "output_type": "stream",
     "text": [
      "Processing C:\\Users\\david\\Downloads\\THSHAREX-19c-1\\THSHAREX-19c-1\\20231023-20231029-inst1-dumpdir\\report_1_THSHAREX_77806_77807.html...\n"
     ]
    },
    {
     "name": "stderr",
     "output_type": "stream",
     "text": [
      " 28%|██▊       | 187/670 [07:33<18:46,  2.33s/it]"
     ]
    },
    {
     "name": "stdout",
     "output_type": "stream",
     "text": [
      "Processing C:\\Users\\david\\Downloads\\THSHAREX-19c-1\\THSHAREX-19c-1\\20231023-20231029-inst1-dumpdir\\report_1_THSHAREX_77807_77808.html...\n"
     ]
    },
    {
     "name": "stderr",
     "output_type": "stream",
     "text": [
      " 28%|██▊       | 188/670 [07:35<18:26,  2.30s/it]"
     ]
    },
    {
     "name": "stdout",
     "output_type": "stream",
     "text": [
      "Processing C:\\Users\\david\\Downloads\\THSHAREX-19c-1\\THSHAREX-19c-1\\20231023-20231029-inst1-dumpdir\\report_1_THSHAREX_77808_77809.html...\n"
     ]
    },
    {
     "name": "stderr",
     "output_type": "stream",
     "text": [
      " 28%|██▊       | 189/670 [07:37<18:06,  2.26s/it]"
     ]
    },
    {
     "name": "stdout",
     "output_type": "stream",
     "text": [
      "Processing C:\\Users\\david\\Downloads\\THSHAREX-19c-1\\THSHAREX-19c-1\\20231023-20231029-inst1-dumpdir\\report_1_THSHAREX_77809_77810.html...\n"
     ]
    },
    {
     "name": "stderr",
     "output_type": "stream",
     "text": [
      " 28%|██▊       | 190/670 [07:40<17:58,  2.25s/it]"
     ]
    },
    {
     "name": "stdout",
     "output_type": "stream",
     "text": [
      "Processing C:\\Users\\david\\Downloads\\THSHAREX-19c-1\\THSHAREX-19c-1\\20231023-20231029-inst1-dumpdir\\report_1_THSHAREX_77810_77811.html...\n"
     ]
    },
    {
     "name": "stderr",
     "output_type": "stream",
     "text": [
      " 29%|██▊       | 191/670 [07:42<17:53,  2.24s/it]"
     ]
    },
    {
     "name": "stdout",
     "output_type": "stream",
     "text": [
      "Processing C:\\Users\\david\\Downloads\\THSHAREX-19c-1\\THSHAREX-19c-1\\20231023-20231029-inst1-dumpdir\\report_1_THSHAREX_77811_77812.html...\n"
     ]
    },
    {
     "name": "stderr",
     "output_type": "stream",
     "text": [
      " 29%|██▊       | 192/670 [07:44<18:26,  2.32s/it]"
     ]
    },
    {
     "name": "stdout",
     "output_type": "stream",
     "text": [
      "Processing C:\\Users\\david\\Downloads\\THSHAREX-19c-1\\THSHAREX-19c-1\\20231023-20231029-inst1-dumpdir\\report_1_THSHAREX_77812_77813.html...\n"
     ]
    },
    {
     "name": "stderr",
     "output_type": "stream",
     "text": [
      " 29%|██▉       | 193/670 [07:47<18:13,  2.29s/it]"
     ]
    },
    {
     "name": "stdout",
     "output_type": "stream",
     "text": [
      "Processing C:\\Users\\david\\Downloads\\THSHAREX-19c-1\\THSHAREX-19c-1\\20231023-20231029-inst1-dumpdir\\report_1_THSHAREX_77813_77814.html...\n"
     ]
    },
    {
     "name": "stderr",
     "output_type": "stream",
     "text": [
      " 29%|██▉       | 194/670 [07:48<16:32,  2.09s/it]"
     ]
    },
    {
     "name": "stdout",
     "output_type": "stream",
     "text": [
      "Processing C:\\Users\\david\\Downloads\\THSHAREX-19c-1\\THSHAREX-19c-1\\20231023-20231029-inst1-dumpdir\\report_1_THSHAREX_77814_77815.html...\n"
     ]
    },
    {
     "name": "stderr",
     "output_type": "stream",
     "text": [
      " 29%|██▉       | 195/670 [07:50<16:52,  2.13s/it]"
     ]
    },
    {
     "name": "stdout",
     "output_type": "stream",
     "text": [
      "Processing C:\\Users\\david\\Downloads\\THSHAREX-19c-1\\THSHAREX-19c-1\\20231023-20231029-inst1-dumpdir\\report_1_THSHAREX_77815_77816.html...\n"
     ]
    },
    {
     "name": "stderr",
     "output_type": "stream",
     "text": [
      " 29%|██▉       | 196/670 [07:52<15:59,  2.02s/it]"
     ]
    },
    {
     "name": "stdout",
     "output_type": "stream",
     "text": [
      "Processing C:\\Users\\david\\Downloads\\THSHAREX-19c-1\\THSHAREX-19c-1\\20231023-20231029-inst1-dumpdir\\report_1_THSHAREX_77816_77817.html...\n"
     ]
    },
    {
     "name": "stderr",
     "output_type": "stream",
     "text": [
      " 29%|██▉       | 197/670 [07:54<15:19,  1.94s/it]"
     ]
    },
    {
     "name": "stdout",
     "output_type": "stream",
     "text": [
      "Processing C:\\Users\\david\\Downloads\\THSHAREX-19c-1\\THSHAREX-19c-1\\20231023-20231029-inst1-dumpdir\\report_1_THSHAREX_77817_77818.html...\n"
     ]
    },
    {
     "name": "stderr",
     "output_type": "stream",
     "text": [
      " 30%|██▉       | 198/670 [07:56<16:14,  2.06s/it]"
     ]
    },
    {
     "name": "stdout",
     "output_type": "stream",
     "text": [
      "Processing C:\\Users\\david\\Downloads\\THSHAREX-19c-1\\THSHAREX-19c-1\\20231023-20231029-inst1-dumpdir\\report_1_THSHAREX_77818_77819.html...\n"
     ]
    },
    {
     "name": "stderr",
     "output_type": "stream",
     "text": [
      " 30%|██▉       | 199/670 [07:58<16:11,  2.06s/it]"
     ]
    },
    {
     "name": "stdout",
     "output_type": "stream",
     "text": [
      "Processing C:\\Users\\david\\Downloads\\THSHAREX-19c-1\\THSHAREX-19c-1\\20231023-20231029-inst1-dumpdir\\report_1_THSHAREX_77819_77820.html...\n"
     ]
    },
    {
     "name": "stderr",
     "output_type": "stream",
     "text": [
      " 30%|██▉       | 200/670 [08:00<16:23,  2.09s/it]"
     ]
    },
    {
     "name": "stdout",
     "output_type": "stream",
     "text": [
      "Processing C:\\Users\\david\\Downloads\\THSHAREX-19c-1\\THSHAREX-19c-1\\20231023-20231029-inst1-dumpdir\\report_1_THSHAREX_77820_77821.html...\n"
     ]
    },
    {
     "name": "stderr",
     "output_type": "stream",
     "text": [
      " 30%|███       | 201/670 [08:02<15:26,  1.97s/it]"
     ]
    },
    {
     "name": "stdout",
     "output_type": "stream",
     "text": [
      "Processing C:\\Users\\david\\Downloads\\THSHAREX-19c-1\\THSHAREX-19c-1\\20231023-20231029-inst1-dumpdir\\report_1_THSHAREX_77821_77822.html...\n"
     ]
    },
    {
     "name": "stderr",
     "output_type": "stream",
     "text": [
      " 30%|███       | 202/670 [08:04<14:43,  1.89s/it]"
     ]
    },
    {
     "name": "stdout",
     "output_type": "stream",
     "text": [
      "Processing C:\\Users\\david\\Downloads\\THSHAREX-19c-1\\THSHAREX-19c-1\\20231023-20231029-inst1-dumpdir\\report_1_THSHAREX_77822_77823.html...\n"
     ]
    },
    {
     "name": "stderr",
     "output_type": "stream",
     "text": [
      " 30%|███       | 203/670 [08:06<15:40,  2.01s/it]"
     ]
    },
    {
     "name": "stdout",
     "output_type": "stream",
     "text": [
      "Processing C:\\Users\\david\\Downloads\\THSHAREX-19c-1\\THSHAREX-19c-1\\20231023-20231029-inst1-dumpdir\\report_1_THSHAREX_77823_77824.html...\n"
     ]
    },
    {
     "name": "stderr",
     "output_type": "stream",
     "text": [
      " 30%|███       | 204/670 [08:08<14:01,  1.81s/it]"
     ]
    },
    {
     "name": "stdout",
     "output_type": "stream",
     "text": [
      "Processing C:\\Users\\david\\Downloads\\THSHAREX-19c-1\\THSHAREX-19c-1\\20231023-20231029-inst1-dumpdir\\report_1_THSHAREX_77824_77825.html...\n"
     ]
    },
    {
     "name": "stderr",
     "output_type": "stream",
     "text": [
      " 31%|███       | 205/670 [08:10<14:51,  1.92s/it]"
     ]
    },
    {
     "name": "stdout",
     "output_type": "stream",
     "text": [
      "Processing C:\\Users\\david\\Downloads\\THSHAREX-19c-1\\THSHAREX-19c-1\\20231023-20231029-inst1-dumpdir\\report_1_THSHAREX_77825_77826.html...\n"
     ]
    },
    {
     "name": "stderr",
     "output_type": "stream",
     "text": [
      " 31%|███       | 206/670 [08:12<15:08,  1.96s/it]"
     ]
    },
    {
     "name": "stdout",
     "output_type": "stream",
     "text": [
      "Processing C:\\Users\\david\\Downloads\\THSHAREX-19c-1\\THSHAREX-19c-1\\20231023-20231029-inst1-dumpdir\\report_1_THSHAREX_77826_77827.html...\n"
     ]
    },
    {
     "name": "stderr",
     "output_type": "stream",
     "text": [
      " 31%|███       | 207/670 [08:13<14:13,  1.84s/it]"
     ]
    },
    {
     "name": "stdout",
     "output_type": "stream",
     "text": [
      "Processing C:\\Users\\david\\Downloads\\THSHAREX-19c-1\\THSHAREX-19c-1\\20231023-20231029-inst1-dumpdir\\report_1_THSHAREX_77827_77828.html...\n"
     ]
    },
    {
     "name": "stderr",
     "output_type": "stream",
     "text": [
      " 31%|███       | 208/670 [08:16<15:51,  2.06s/it]"
     ]
    },
    {
     "name": "stdout",
     "output_type": "stream",
     "text": [
      "Processing C:\\Users\\david\\Downloads\\THSHAREX-19c-1\\THSHAREX-19c-1\\20231023-20231029-inst1-dumpdir\\report_1_THSHAREX_77828_77829.html...\n"
     ]
    },
    {
     "name": "stderr",
     "output_type": "stream",
     "text": [
      " 31%|███       | 209/670 [08:17<14:32,  1.89s/it]"
     ]
    },
    {
     "name": "stdout",
     "output_type": "stream",
     "text": [
      "Processing C:\\Users\\david\\Downloads\\THSHAREX-19c-1\\THSHAREX-19c-1\\20231023-20231029-inst1-dumpdir\\report_1_THSHAREX_77829_77830.html...\n"
     ]
    },
    {
     "name": "stderr",
     "output_type": "stream",
     "text": [
      " 31%|███▏      | 210/670 [08:19<14:22,  1.88s/it]"
     ]
    },
    {
     "name": "stdout",
     "output_type": "stream",
     "text": [
      "Processing C:\\Users\\david\\Downloads\\THSHAREX-19c-1\\THSHAREX-19c-1\\20231023-20231029-inst1-dumpdir\\report_1_THSHAREX_77830_77831.html...\n"
     ]
    },
    {
     "name": "stderr",
     "output_type": "stream",
     "text": [
      " 31%|███▏      | 211/670 [08:21<14:21,  1.88s/it]"
     ]
    },
    {
     "name": "stdout",
     "output_type": "stream",
     "text": [
      "Processing C:\\Users\\david\\Downloads\\THSHAREX-19c-1\\THSHAREX-19c-1\\20231023-20231029-inst1-dumpdir\\report_1_THSHAREX_77831_77832.html...\n"
     ]
    },
    {
     "name": "stderr",
     "output_type": "stream",
     "text": [
      " 32%|███▏      | 212/670 [08:23<14:15,  1.87s/it]"
     ]
    },
    {
     "name": "stdout",
     "output_type": "stream",
     "text": [
      "Processing C:\\Users\\david\\Downloads\\THSHAREX-19c-1\\THSHAREX-19c-1\\20231023-20231029-inst1-dumpdir\\report_1_THSHAREX_77832_77833.html...\n"
     ]
    },
    {
     "name": "stderr",
     "output_type": "stream",
     "text": [
      " 32%|███▏      | 213/670 [08:25<15:29,  2.03s/it]"
     ]
    },
    {
     "name": "stdout",
     "output_type": "stream",
     "text": [
      "Processing C:\\Users\\david\\Downloads\\THSHAREX-19c-1\\THSHAREX-19c-1\\20231023-20231029-inst1-dumpdir\\report_1_THSHAREX_77833_77834.html...\n"
     ]
    },
    {
     "name": "stderr",
     "output_type": "stream",
     "text": [
      " 32%|███▏      | 214/670 [08:28<16:07,  2.12s/it]"
     ]
    },
    {
     "name": "stdout",
     "output_type": "stream",
     "text": [
      "Processing C:\\Users\\david\\Downloads\\THSHAREX-19c-1\\THSHAREX-19c-1\\20231023-20231029-inst1-dumpdir\\report_1_THSHAREX_77834_77835.html...\n"
     ]
    },
    {
     "name": "stderr",
     "output_type": "stream",
     "text": [
      " 32%|███▏      | 215/670 [08:30<16:15,  2.14s/it]"
     ]
    },
    {
     "name": "stdout",
     "output_type": "stream",
     "text": [
      "Processing C:\\Users\\david\\Downloads\\THSHAREX-19c-1\\THSHAREX-19c-1\\20231023-20231029-inst1-dumpdir\\report_1_THSHAREX_77835_77836.html...\n"
     ]
    },
    {
     "name": "stderr",
     "output_type": "stream",
     "text": [
      " 32%|███▏      | 216/670 [08:32<16:28,  2.18s/it]"
     ]
    },
    {
     "name": "stdout",
     "output_type": "stream",
     "text": [
      "Processing C:\\Users\\david\\Downloads\\THSHAREX-19c-1\\THSHAREX-19c-1\\20231023-20231029-inst1-dumpdir\\report_1_THSHAREX_77836_77837.html...\n"
     ]
    },
    {
     "name": "stderr",
     "output_type": "stream",
     "text": [
      " 32%|███▏      | 217/670 [08:35<17:29,  2.32s/it]"
     ]
    },
    {
     "name": "stdout",
     "output_type": "stream",
     "text": [
      "Processing C:\\Users\\david\\Downloads\\THSHAREX-19c-1\\THSHAREX-19c-1\\20231023-20231029-inst1-dumpdir\\report_1_THSHAREX_77837_77838.html...\n"
     ]
    },
    {
     "name": "stderr",
     "output_type": "stream",
     "text": [
      " 33%|███▎      | 218/670 [08:37<16:54,  2.24s/it]"
     ]
    },
    {
     "name": "stdout",
     "output_type": "stream",
     "text": [
      "Processing C:\\Users\\david\\Downloads\\THSHAREX-19c-1\\THSHAREX-19c-1\\20231023-20231029-inst1-dumpdir\\report_1_THSHAREX_77838_77839.html...\n"
     ]
    },
    {
     "name": "stderr",
     "output_type": "stream",
     "text": [
      " 33%|███▎      | 219/670 [08:39<16:52,  2.24s/it]"
     ]
    },
    {
     "name": "stdout",
     "output_type": "stream",
     "text": [
      "Processing C:\\Users\\david\\Downloads\\THSHAREX-19c-1\\THSHAREX-19c-1\\20231023-20231029-inst1-dumpdir\\report_1_THSHAREX_77839_77840.html...\n"
     ]
    },
    {
     "name": "stderr",
     "output_type": "stream",
     "text": [
      " 33%|███▎      | 220/670 [08:41<16:08,  2.15s/it]"
     ]
    },
    {
     "name": "stdout",
     "output_type": "stream",
     "text": [
      "Processing C:\\Users\\david\\Downloads\\THSHAREX-19c-1\\THSHAREX-19c-1\\20231023-20231029-inst1-dumpdir\\report_1_THSHAREX_77840_77841.html...\n"
     ]
    },
    {
     "name": "stderr",
     "output_type": "stream",
     "text": [
      " 33%|███▎      | 221/670 [08:43<16:25,  2.19s/it]"
     ]
    },
    {
     "name": "stdout",
     "output_type": "stream",
     "text": [
      "Processing C:\\Users\\david\\Downloads\\THSHAREX-19c-1\\THSHAREX-19c-1\\20231023-20231029-inst1-dumpdir\\report_1_THSHAREX_77841_77842.html...\n"
     ]
    },
    {
     "name": "stderr",
     "output_type": "stream",
     "text": [
      " 33%|███▎      | 222/670 [08:46<16:46,  2.25s/it]"
     ]
    },
    {
     "name": "stdout",
     "output_type": "stream",
     "text": [
      "Processing C:\\Users\\david\\Downloads\\THSHAREX-19c-1\\THSHAREX-19c-1\\20231023-20231029-inst1-dumpdir\\report_1_THSHAREX_77842_77843.html...\n"
     ]
    },
    {
     "name": "stderr",
     "output_type": "stream",
     "text": [
      " 33%|███▎      | 223/670 [08:48<16:48,  2.26s/it]"
     ]
    },
    {
     "name": "stdout",
     "output_type": "stream",
     "text": [
      "Processing C:\\Users\\david\\Downloads\\THSHAREX-19c-1\\THSHAREX-19c-1\\20231023-20231029-inst1-dumpdir\\report_1_THSHAREX_77843_77844.html...\n"
     ]
    },
    {
     "name": "stderr",
     "output_type": "stream",
     "text": [
      " 33%|███▎      | 224/670 [08:50<16:35,  2.23s/it]"
     ]
    },
    {
     "name": "stdout",
     "output_type": "stream",
     "text": [
      "Processing C:\\Users\\david\\Downloads\\THSHAREX-19c-1\\THSHAREX-19c-1\\20231023-20231029-inst1-dumpdir\\report_1_THSHAREX_77844_77845.html...\n"
     ]
    },
    {
     "name": "stderr",
     "output_type": "stream",
     "text": [
      " 34%|███▎      | 225/670 [08:52<16:19,  2.20s/it]"
     ]
    },
    {
     "name": "stdout",
     "output_type": "stream",
     "text": [
      "Processing C:\\Users\\david\\Downloads\\THSHAREX-19c-1\\THSHAREX-19c-1\\20231023-20231029-inst1-dumpdir\\report_1_THSHAREX_77845_77846.html...\n"
     ]
    },
    {
     "name": "stderr",
     "output_type": "stream",
     "text": [
      " 34%|███▎      | 226/670 [08:54<16:07,  2.18s/it]"
     ]
    },
    {
     "name": "stdout",
     "output_type": "stream",
     "text": [
      "Processing C:\\Users\\david\\Downloads\\THSHAREX-19c-1\\THSHAREX-19c-1\\20231023-20231029-inst1-dumpdir\\report_1_THSHAREX_77846_77847.html...\n"
     ]
    },
    {
     "name": "stderr",
     "output_type": "stream",
     "text": [
      " 34%|███▍      | 227/670 [08:57<16:16,  2.20s/it]"
     ]
    },
    {
     "name": "stdout",
     "output_type": "stream",
     "text": [
      "Processing C:\\Users\\david\\Downloads\\THSHAREX-19c-1\\THSHAREX-19c-1\\20231023-20231029-inst1-dumpdir\\report_1_THSHAREX_77847_77848.html...\n"
     ]
    },
    {
     "name": "stderr",
     "output_type": "stream",
     "text": [
      " 34%|███▍      | 228/670 [08:59<16:05,  2.19s/it]"
     ]
    },
    {
     "name": "stdout",
     "output_type": "stream",
     "text": [
      "Processing C:\\Users\\david\\Downloads\\THSHAREX-19c-1\\THSHAREX-19c-1\\20231023-20231029-inst1-dumpdir\\report_1_THSHAREX_77848_77849.html...\n"
     ]
    },
    {
     "name": "stderr",
     "output_type": "stream",
     "text": [
      " 34%|███▍      | 229/670 [09:01<16:20,  2.22s/it]"
     ]
    },
    {
     "name": "stdout",
     "output_type": "stream",
     "text": [
      "Processing C:\\Users\\david\\Downloads\\THSHAREX-19c-1\\THSHAREX-19c-1\\20231023-20231029-inst1-dumpdir\\report_1_THSHAREX_77849_77850.html...\n"
     ]
    },
    {
     "name": "stderr",
     "output_type": "stream",
     "text": [
      " 34%|███▍      | 230/670 [09:04<16:40,  2.27s/it]"
     ]
    },
    {
     "name": "stdout",
     "output_type": "stream",
     "text": [
      "Processing C:\\Users\\david\\Downloads\\THSHAREX-19c-1\\THSHAREX-19c-1\\20231023-20231029-inst1-dumpdir\\report_1_THSHAREX_77850_77851.html...\n"
     ]
    },
    {
     "name": "stderr",
     "output_type": "stream",
     "text": [
      " 34%|███▍      | 231/670 [09:06<16:37,  2.27s/it]"
     ]
    },
    {
     "name": "stdout",
     "output_type": "stream",
     "text": [
      "Processing C:\\Users\\david\\Downloads\\THSHAREX-19c-1\\THSHAREX-19c-1\\20231023-20231029-inst1-dumpdir\\report_1_THSHAREX_77851_77852.html...\n"
     ]
    },
    {
     "name": "stderr",
     "output_type": "stream",
     "text": [
      " 35%|███▍      | 232/670 [09:08<15:56,  2.18s/it]"
     ]
    },
    {
     "name": "stdout",
     "output_type": "stream",
     "text": [
      "Processing C:\\Users\\david\\Downloads\\THSHAREX-19c-1\\THSHAREX-19c-1\\20231023-20231029-inst1-dumpdir\\report_1_THSHAREX_77852_77853.html...\n"
     ]
    },
    {
     "name": "stderr",
     "output_type": "stream",
     "text": [
      " 35%|███▍      | 233/670 [09:09<14:24,  1.98s/it]"
     ]
    },
    {
     "name": "stdout",
     "output_type": "stream",
     "text": [
      "Processing C:\\Users\\david\\Downloads\\THSHAREX-19c-1\\THSHAREX-19c-1\\20231023-20231029-inst1-dumpdir\\report_1_THSHAREX_77853_77854.html...\n"
     ]
    },
    {
     "name": "stderr",
     "output_type": "stream",
     "text": [
      " 35%|███▍      | 234/670 [09:12<14:57,  2.06s/it]"
     ]
    },
    {
     "name": "stdout",
     "output_type": "stream",
     "text": [
      "Processing C:\\Users\\david\\Downloads\\THSHAREX-19c-1\\THSHAREX-19c-1\\20231023-20231029-inst1-dumpdir\\report_1_THSHAREX_77854_77855.html...\n"
     ]
    },
    {
     "name": "stderr",
     "output_type": "stream",
     "text": [
      " 35%|███▌      | 235/670 [09:14<15:12,  2.10s/it]"
     ]
    },
    {
     "name": "stdout",
     "output_type": "stream",
     "text": [
      "Processing C:\\Users\\david\\Downloads\\THSHAREX-19c-1\\THSHAREX-19c-1\\20231023-20231029-inst1-dumpdir\\report_1_THSHAREX_77855_77856.html...\n"
     ]
    },
    {
     "name": "stderr",
     "output_type": "stream",
     "text": [
      " 35%|███▌      | 236/670 [09:15<13:43,  1.90s/it]"
     ]
    },
    {
     "name": "stdout",
     "output_type": "stream",
     "text": [
      "Processing C:\\Users\\david\\Downloads\\THSHAREX-19c-1\\THSHAREX-19c-1\\20231023-20231029-inst1-dumpdir\\report_1_THSHAREX_77856_77857.html...\n"
     ]
    },
    {
     "name": "stderr",
     "output_type": "stream",
     "text": [
      " 35%|███▌      | 237/670 [09:17<14:39,  2.03s/it]"
     ]
    },
    {
     "name": "stdout",
     "output_type": "stream",
     "text": [
      "Processing C:\\Users\\david\\Downloads\\THSHAREX-19c-1\\THSHAREX-19c-1\\20231023-20231029-inst1-dumpdir\\report_1_THSHAREX_77857_77858.html...\n"
     ]
    },
    {
     "name": "stderr",
     "output_type": "stream",
     "text": [
      " 36%|███▌      | 238/670 [09:20<15:37,  2.17s/it]"
     ]
    },
    {
     "name": "stdout",
     "output_type": "stream",
     "text": [
      "Processing C:\\Users\\david\\Downloads\\THSHAREX-19c-1\\THSHAREX-19c-1\\20231023-20231029-inst1-dumpdir\\report_1_THSHAREX_77858_77859.html...\n"
     ]
    },
    {
     "name": "stderr",
     "output_type": "stream",
     "text": [
      " 36%|███▌      | 239/670 [09:22<15:29,  2.16s/it]"
     ]
    },
    {
     "name": "stdout",
     "output_type": "stream",
     "text": [
      "Processing C:\\Users\\david\\Downloads\\THSHAREX-19c-1\\THSHAREX-19c-1\\20231023-20231029-inst1-dumpdir\\report_1_THSHAREX_77859_77860.html...\n"
     ]
    },
    {
     "name": "stderr",
     "output_type": "stream",
     "text": [
      " 36%|███▌      | 240/670 [09:24<15:17,  2.13s/it]"
     ]
    },
    {
     "name": "stdout",
     "output_type": "stream",
     "text": [
      "Processing C:\\Users\\david\\Downloads\\THSHAREX-19c-1\\THSHAREX-19c-1\\20231023-20231029-inst1-dumpdir\\report_1_THSHAREX_77860_77861.html...\n"
     ]
    },
    {
     "name": "stderr",
     "output_type": "stream",
     "text": [
      " 36%|███▌      | 241/670 [09:26<13:44,  1.92s/it]"
     ]
    },
    {
     "name": "stdout",
     "output_type": "stream",
     "text": [
      "Processing C:\\Users\\david\\Downloads\\THSHAREX-19c-1\\THSHAREX-19c-1\\20231023-20231029-inst1-dumpdir\\report_1_THSHAREX_77861_77862.html...\n"
     ]
    },
    {
     "name": "stderr",
     "output_type": "stream",
     "text": [
      " 36%|███▌      | 242/670 [09:28<14:33,  2.04s/it]"
     ]
    },
    {
     "name": "stdout",
     "output_type": "stream",
     "text": [
      "Processing C:\\Users\\david\\Downloads\\THSHAREX-19c-1\\THSHAREX-19c-1\\20231023-20231029-inst1-dumpdir\\report_1_THSHAREX_77862_77863.html...\n"
     ]
    },
    {
     "name": "stderr",
     "output_type": "stream",
     "text": [
      " 36%|███▋      | 243/670 [09:30<14:25,  2.03s/it]"
     ]
    },
    {
     "name": "stdout",
     "output_type": "stream",
     "text": [
      "Processing C:\\Users\\david\\Downloads\\THSHAREX-19c-1\\THSHAREX-19c-1\\20231023-20231029-inst1-dumpdir\\report_1_THSHAREX_77863_77864.html...\n"
     ]
    },
    {
     "name": "stderr",
     "output_type": "stream",
     "text": [
      " 36%|███▋      | 244/670 [09:32<13:47,  1.94s/it]"
     ]
    },
    {
     "name": "stdout",
     "output_type": "stream",
     "text": [
      "Processing C:\\Users\\david\\Downloads\\THSHAREX-19c-1\\THSHAREX-19c-1\\20231023-20231029-inst1-dumpdir\\report_1_THSHAREX_77864_77865.html...\n"
     ]
    },
    {
     "name": "stderr",
     "output_type": "stream",
     "text": [
      " 37%|███▋      | 245/670 [09:33<13:09,  1.86s/it]"
     ]
    },
    {
     "name": "stdout",
     "output_type": "stream",
     "text": [
      "Processing C:\\Users\\david\\Downloads\\THSHAREX-19c-1\\THSHAREX-19c-1\\20231023-20231029-inst1-dumpdir\\report_1_THSHAREX_77865_77866.html...\n"
     ]
    },
    {
     "name": "stderr",
     "output_type": "stream",
     "text": [
      " 37%|███▋      | 246/670 [09:35<13:40,  1.93s/it]"
     ]
    },
    {
     "name": "stdout",
     "output_type": "stream",
     "text": [
      "Processing C:\\Users\\david\\Downloads\\THSHAREX-19c-1\\THSHAREX-19c-1\\20231023-20231029-inst1-dumpdir\\report_1_THSHAREX_77866_77867.html...\n"
     ]
    },
    {
     "name": "stderr",
     "output_type": "stream",
     "text": [
      " 37%|███▋      | 247/670 [09:38<14:43,  2.09s/it]"
     ]
    },
    {
     "name": "stdout",
     "output_type": "stream",
     "text": [
      "Processing C:\\Users\\david\\Downloads\\THSHAREX-19c-1\\THSHAREX-19c-1\\20231023-20231029-inst1-dumpdir\\report_1_THSHAREX_77867_77868.html...\n"
     ]
    },
    {
     "name": "stderr",
     "output_type": "stream",
     "text": [
      " 37%|███▋      | 248/670 [09:40<14:57,  2.13s/it]"
     ]
    },
    {
     "name": "stdout",
     "output_type": "stream",
     "text": [
      "Processing C:\\Users\\david\\Downloads\\THSHAREX-19c-1\\THSHAREX-19c-1\\20231023-20231029-inst1-dumpdir\\report_1_THSHAREX_77868_77869.html...\n"
     ]
    },
    {
     "name": "stderr",
     "output_type": "stream",
     "text": [
      " 37%|███▋      | 249/670 [09:42<15:14,  2.17s/it]"
     ]
    },
    {
     "name": "stdout",
     "output_type": "stream",
     "text": [
      "Processing C:\\Users\\david\\Downloads\\THSHAREX-19c-1\\THSHAREX-19c-1\\20231023-20231029-inst1-dumpdir\\report_1_THSHAREX_77869_77870.html...\n"
     ]
    },
    {
     "name": "stderr",
     "output_type": "stream",
     "text": [
      " 37%|███▋      | 250/670 [09:45<15:19,  2.19s/it]"
     ]
    },
    {
     "name": "stdout",
     "output_type": "stream",
     "text": [
      "Processing C:\\Users\\david\\Downloads\\THSHAREX-19c-1\\THSHAREX-19c-1\\20231023-20231029-inst1-dumpdir\\report_1_THSHAREX_77870_77871.html...\n"
     ]
    },
    {
     "name": "stderr",
     "output_type": "stream",
     "text": [
      " 37%|███▋      | 251/670 [09:47<15:04,  2.16s/it]"
     ]
    },
    {
     "name": "stdout",
     "output_type": "stream",
     "text": [
      "Processing C:\\Users\\david\\Downloads\\THSHAREX-19c-1\\THSHAREX-19c-1\\20231023-20231029-inst1-dumpdir\\report_1_THSHAREX_77871_77872.html...\n"
     ]
    },
    {
     "name": "stderr",
     "output_type": "stream",
     "text": [
      " 38%|███▊      | 252/670 [09:49<15:20,  2.20s/it]"
     ]
    },
    {
     "name": "stdout",
     "output_type": "stream",
     "text": [
      "Processing C:\\Users\\david\\Downloads\\THSHAREX-19c-1\\THSHAREX-19c-1\\20231023-20231029-inst1-dumpdir\\report_1_THSHAREX_77872_77873.html...\n"
     ]
    },
    {
     "name": "stderr",
     "output_type": "stream",
     "text": [
      " 38%|███▊      | 253/670 [09:50<13:47,  1.98s/it]"
     ]
    },
    {
     "name": "stdout",
     "output_type": "stream",
     "text": [
      "Processing C:\\Users\\david\\Downloads\\THSHAREX-19c-1\\THSHAREX-19c-1\\20231023-20231029-inst1-dumpdir\\report_1_THSHAREX_77873_77874.html...\n"
     ]
    },
    {
     "name": "stderr",
     "output_type": "stream",
     "text": [
      " 38%|███▊      | 254/670 [09:53<14:09,  2.04s/it]"
     ]
    },
    {
     "name": "stdout",
     "output_type": "stream",
     "text": [
      "Processing C:\\Users\\david\\Downloads\\THSHAREX-19c-1\\THSHAREX-19c-1\\20231023-20231029-inst1-dumpdir\\report_1_THSHAREX_77874_77875.html...\n"
     ]
    },
    {
     "name": "stderr",
     "output_type": "stream",
     "text": [
      " 38%|███▊      | 255/670 [09:55<13:53,  2.01s/it]"
     ]
    },
    {
     "name": "stdout",
     "output_type": "stream",
     "text": [
      "Processing C:\\Users\\david\\Downloads\\THSHAREX-19c-1\\THSHAREX-19c-1\\20231023-20231029-inst1-dumpdir\\report_1_THSHAREX_77875_77876.html...\n"
     ]
    },
    {
     "name": "stderr",
     "output_type": "stream",
     "text": [
      " 38%|███▊      | 256/670 [09:56<12:53,  1.87s/it]"
     ]
    },
    {
     "name": "stdout",
     "output_type": "stream",
     "text": [
      "Processing C:\\Users\\david\\Downloads\\THSHAREX-19c-1\\THSHAREX-19c-1\\20231023-20231029-inst1-dumpdir\\report_1_THSHAREX_77876_77877.html...\n"
     ]
    },
    {
     "name": "stderr",
     "output_type": "stream",
     "text": [
      " 38%|███▊      | 257/670 [09:58<12:58,  1.88s/it]"
     ]
    },
    {
     "name": "stdout",
     "output_type": "stream",
     "text": [
      "Processing C:\\Users\\david\\Downloads\\THSHAREX-19c-1\\THSHAREX-19c-1\\20231023-20231029-inst1-dumpdir\\report_1_THSHAREX_77877_77878.html...\n"
     ]
    },
    {
     "name": "stderr",
     "output_type": "stream",
     "text": [
      " 39%|███▊      | 258/670 [09:59<12:01,  1.75s/it]"
     ]
    },
    {
     "name": "stdout",
     "output_type": "stream",
     "text": [
      "Processing C:\\Users\\david\\Downloads\\THSHAREX-19c-1\\THSHAREX-19c-1\\20231023-20231029-inst1-dumpdir\\report_1_THSHAREX_77878_77879.html...\n"
     ]
    },
    {
     "name": "stderr",
     "output_type": "stream",
     "text": [
      " 39%|███▊      | 259/670 [10:01<12:20,  1.80s/it]"
     ]
    },
    {
     "name": "stdout",
     "output_type": "stream",
     "text": [
      "Processing C:\\Users\\david\\Downloads\\THSHAREX-19c-1\\THSHAREX-19c-1\\20231023-20231029-inst1-dumpdir\\report_1_THSHAREX_77879_77880.html...\n"
     ]
    },
    {
     "name": "stderr",
     "output_type": "stream",
     "text": [
      " 39%|███▉      | 260/670 [10:03<11:22,  1.66s/it]"
     ]
    },
    {
     "name": "stdout",
     "output_type": "stream",
     "text": [
      "Processing C:\\Users\\david\\Downloads\\THSHAREX-19c-1\\THSHAREX-19c-1\\20231023-20231029-inst1-dumpdir\\report_1_THSHAREX_77880_77881.html...\n"
     ]
    },
    {
     "name": "stderr",
     "output_type": "stream",
     "text": [
      " 39%|███▉      | 261/670 [10:05<12:30,  1.84s/it]"
     ]
    },
    {
     "name": "stdout",
     "output_type": "stream",
     "text": [
      "Processing C:\\Users\\david\\Downloads\\THSHAREX-19c-1\\THSHAREX-19c-1\\20231023-20231029-inst1-dumpdir\\report_1_THSHAREX_77881_77882.html...\n"
     ]
    },
    {
     "name": "stderr",
     "output_type": "stream",
     "text": [
      " 39%|███▉      | 262/670 [10:07<12:56,  1.90s/it]"
     ]
    },
    {
     "name": "stdout",
     "output_type": "stream",
     "text": [
      "Processing C:\\Users\\david\\Downloads\\THSHAREX-19c-1\\THSHAREX-19c-1\\20231023-20231029-inst1-dumpdir\\report_1_THSHAREX_77882_77883.html...\n"
     ]
    },
    {
     "name": "stderr",
     "output_type": "stream",
     "text": [
      " 39%|███▉      | 263/670 [10:08<11:58,  1.77s/it]"
     ]
    },
    {
     "name": "stdout",
     "output_type": "stream",
     "text": [
      "Processing C:\\Users\\david\\Downloads\\THSHAREX-19c-1\\THSHAREX-19c-1\\20231023-20231029-inst1-dumpdir\\report_1_THSHAREX_77883_77884.html...\n"
     ]
    },
    {
     "name": "stderr",
     "output_type": "stream",
     "text": [
      " 39%|███▉      | 264/670 [10:10<12:02,  1.78s/it]"
     ]
    },
    {
     "name": "stdout",
     "output_type": "stream",
     "text": [
      "Processing C:\\Users\\david\\Downloads\\THSHAREX-19c-1\\THSHAREX-19c-1\\20231023-20231029-inst1-dumpdir\\report_1_THSHAREX_77884_77885.html...\n"
     ]
    },
    {
     "name": "stderr",
     "output_type": "stream",
     "text": [
      " 40%|███▉      | 265/670 [10:13<13:01,  1.93s/it]"
     ]
    },
    {
     "name": "stdout",
     "output_type": "stream",
     "text": [
      "Processing C:\\Users\\david\\Downloads\\THSHAREX-19c-1\\THSHAREX-19c-1\\20231023-20231029-inst1-dumpdir\\report_1_THSHAREX_77885_77886.html...\n"
     ]
    },
    {
     "name": "stderr",
     "output_type": "stream",
     "text": [
      " 40%|███▉      | 266/670 [10:14<12:37,  1.88s/it]"
     ]
    },
    {
     "name": "stdout",
     "output_type": "stream",
     "text": [
      "Processing C:\\Users\\david\\Downloads\\THSHAREX-19c-1\\THSHAREX-19c-1\\20231023-20231029-inst1-dumpdir\\report_1_THSHAREX_77886_77887.html...\n"
     ]
    },
    {
     "name": "stderr",
     "output_type": "stream",
     "text": [
      " 40%|███▉      | 267/670 [10:17<13:43,  2.04s/it]"
     ]
    },
    {
     "name": "stdout",
     "output_type": "stream",
     "text": [
      "Processing C:\\Users\\david\\Downloads\\THSHAREX-19c-1\\THSHAREX-19c-1\\20231023-20231029-inst1-dumpdir\\report_1_THSHAREX_77887_77888.html...\n"
     ]
    },
    {
     "name": "stderr",
     "output_type": "stream",
     "text": [
      " 40%|████      | 268/670 [10:18<12:52,  1.92s/it]"
     ]
    },
    {
     "name": "stdout",
     "output_type": "stream",
     "text": [
      "Processing C:\\Users\\david\\Downloads\\THSHAREX-19c-1\\THSHAREX-19c-1\\20231023-20231029-inst1-dumpdir\\report_1_THSHAREX_77888_77889.html...\n"
     ]
    },
    {
     "name": "stderr",
     "output_type": "stream",
     "text": [
      " 40%|████      | 269/670 [10:21<13:51,  2.07s/it]"
     ]
    },
    {
     "name": "stdout",
     "output_type": "stream",
     "text": [
      "Processing C:\\Users\\david\\Downloads\\THSHAREX-19c-1\\THSHAREX-19c-1\\20231023-20231029-inst1-dumpdir\\report_1_THSHAREX_77889_77890.html...\n"
     ]
    },
    {
     "name": "stderr",
     "output_type": "stream",
     "text": [
      " 40%|████      | 270/670 [10:22<12:44,  1.91s/it]"
     ]
    },
    {
     "name": "stdout",
     "output_type": "stream",
     "text": [
      "Processing C:\\Users\\david\\Downloads\\THSHAREX-19c-1\\THSHAREX-19c-1\\20231023-20231029-inst1-dumpdir\\report_1_THSHAREX_77890_77891.html...\n"
     ]
    },
    {
     "name": "stderr",
     "output_type": "stream",
     "text": [
      " 40%|████      | 271/670 [10:24<13:04,  1.97s/it]"
     ]
    },
    {
     "name": "stdout",
     "output_type": "stream",
     "text": [
      "Processing C:\\Users\\david\\Downloads\\THSHAREX-19c-1\\THSHAREX-19c-1\\20231023-20231029-inst1-dumpdir\\report_1_THSHAREX_77891_77892.html...\n"
     ]
    },
    {
     "name": "stderr",
     "output_type": "stream",
     "text": [
      " 41%|████      | 272/670 [10:27<13:14,  2.00s/it]"
     ]
    },
    {
     "name": "stdout",
     "output_type": "stream",
     "text": [
      "Processing C:\\Users\\david\\Downloads\\THSHAREX-19c-1\\THSHAREX-19c-1\\20231023-20231029-inst1-dumpdir\\report_1_THSHAREX_77892_77893.html...\n"
     ]
    },
    {
     "name": "stderr",
     "output_type": "stream",
     "text": [
      " 41%|████      | 273/670 [10:28<12:57,  1.96s/it]"
     ]
    },
    {
     "name": "stdout",
     "output_type": "stream",
     "text": [
      "Processing C:\\Users\\david\\Downloads\\THSHAREX-19c-1\\THSHAREX-19c-1\\20231023-20231029-inst1-dumpdir\\report_1_THSHAREX_77893_77894.html...\n"
     ]
    },
    {
     "name": "stderr",
     "output_type": "stream",
     "text": [
      " 41%|████      | 274/670 [10:30<12:53,  1.95s/it]"
     ]
    },
    {
     "name": "stdout",
     "output_type": "stream",
     "text": [
      "Processing C:\\Users\\david\\Downloads\\THSHAREX-19c-1\\THSHAREX-19c-1\\20231023-20231029-inst1-dumpdir\\report_1_THSHAREX_77894_77895.html...\n"
     ]
    },
    {
     "name": "stderr",
     "output_type": "stream",
     "text": [
      " 41%|████      | 275/670 [10:32<12:18,  1.87s/it]"
     ]
    },
    {
     "name": "stdout",
     "output_type": "stream",
     "text": [
      "Processing C:\\Users\\david\\Downloads\\THSHAREX-19c-1\\THSHAREX-19c-1\\20231023-20231029-inst1-dumpdir\\report_1_THSHAREX_77895_77896.html...\n"
     ]
    },
    {
     "name": "stderr",
     "output_type": "stream",
     "text": [
      " 41%|████      | 276/670 [10:33<11:25,  1.74s/it]"
     ]
    },
    {
     "name": "stdout",
     "output_type": "stream",
     "text": [
      "Processing C:\\Users\\david\\Downloads\\THSHAREX-19c-1\\THSHAREX-19c-1\\20231023-20231029-inst1-dumpdir\\report_1_THSHAREX_77896_77897.html...\n"
     ]
    },
    {
     "name": "stderr",
     "output_type": "stream",
     "text": [
      " 41%|████▏     | 277/670 [10:35<10:43,  1.64s/it]"
     ]
    },
    {
     "name": "stdout",
     "output_type": "stream",
     "text": [
      "Processing C:\\Users\\david\\Downloads\\THSHAREX-19c-1\\THSHAREX-19c-1\\20231023-20231029-inst1-dumpdir\\report_1_THSHAREX_77897_77898.html...\n"
     ]
    },
    {
     "name": "stderr",
     "output_type": "stream",
     "text": [
      " 41%|████▏     | 278/670 [10:37<10:57,  1.68s/it]"
     ]
    },
    {
     "name": "stdout",
     "output_type": "stream",
     "text": [
      "Processing C:\\Users\\david\\Downloads\\THSHAREX-19c-1\\THSHAREX-19c-1\\20231023-20231029-inst1-dumpdir\\report_1_THSHAREX_77898_77899.html...\n"
     ]
    },
    {
     "name": "stderr",
     "output_type": "stream",
     "text": [
      " 42%|████▏     | 279/670 [10:39<11:51,  1.82s/it]"
     ]
    },
    {
     "name": "stdout",
     "output_type": "stream",
     "text": [
      "Processing C:\\Users\\david\\Downloads\\THSHAREX-19c-1\\THSHAREX-19c-1\\20231023-20231029-inst1-dumpdir\\report_1_THSHAREX_77899_77900.html...\n"
     ]
    },
    {
     "name": "stderr",
     "output_type": "stream",
     "text": [
      " 42%|████▏     | 280/670 [10:41<12:25,  1.91s/it]"
     ]
    },
    {
     "name": "stdout",
     "output_type": "stream",
     "text": [
      "Processing C:\\Users\\david\\Downloads\\THSHAREX-19c-1\\THSHAREX-19c-1\\20231023-20231029-inst1-dumpdir\\report_1_THSHAREX_77900_77901.html...\n"
     ]
    },
    {
     "name": "stderr",
     "output_type": "stream",
     "text": [
      " 42%|████▏     | 281/670 [10:43<12:48,  1.98s/it]"
     ]
    },
    {
     "name": "stdout",
     "output_type": "stream",
     "text": [
      "Processing C:\\Users\\david\\Downloads\\THSHAREX-19c-1\\THSHAREX-19c-1\\20231023-20231029-inst1-dumpdir\\report_1_THSHAREX_77901_77902.html...\n"
     ]
    },
    {
     "name": "stderr",
     "output_type": "stream",
     "text": [
      " 42%|████▏     | 282/670 [10:45<11:51,  1.83s/it]"
     ]
    },
    {
     "name": "stdout",
     "output_type": "stream",
     "text": [
      "Processing C:\\Users\\david\\Downloads\\THSHAREX-19c-1\\THSHAREX-19c-1\\20231023-20231029-inst1-dumpdir\\report_1_THSHAREX_77902_77903.html...\n"
     ]
    },
    {
     "name": "stderr",
     "output_type": "stream",
     "text": [
      " 42%|████▏     | 283/670 [10:46<10:53,  1.69s/it]"
     ]
    },
    {
     "name": "stdout",
     "output_type": "stream",
     "text": [
      "Processing C:\\Users\\david\\Downloads\\THSHAREX-19c-1\\THSHAREX-19c-1\\20231023-20231029-inst1-dumpdir\\report_1_THSHAREX_77903_77904.html...\n"
     ]
    },
    {
     "name": "stderr",
     "output_type": "stream",
     "text": [
      " 42%|████▏     | 284/670 [10:48<12:07,  1.89s/it]"
     ]
    },
    {
     "name": "stdout",
     "output_type": "stream",
     "text": [
      "Processing C:\\Users\\david\\Downloads\\THSHAREX-19c-1\\THSHAREX-19c-1\\20231023-20231029-inst1-dumpdir\\report_1_THSHAREX_77904_77905.html...\n"
     ]
    },
    {
     "name": "stderr",
     "output_type": "stream",
     "text": [
      " 43%|████▎     | 285/670 [10:50<11:02,  1.72s/it]"
     ]
    },
    {
     "name": "stdout",
     "output_type": "stream",
     "text": [
      "Processing C:\\Users\\david\\Downloads\\THSHAREX-19c-1\\THSHAREX-19c-1\\20231023-20231029-inst1-dumpdir\\report_1_THSHAREX_77905_77906.html...\n"
     ]
    },
    {
     "name": "stderr",
     "output_type": "stream",
     "text": [
      " 43%|████▎     | 286/670 [10:52<11:32,  1.80s/it]"
     ]
    },
    {
     "name": "stdout",
     "output_type": "stream",
     "text": [
      "Processing C:\\Users\\david\\Downloads\\THSHAREX-19c-1\\THSHAREX-19c-1\\20231023-20231029-inst1-dumpdir\\report_1_THSHAREX_77906_77907.html...\n"
     ]
    },
    {
     "name": "stderr",
     "output_type": "stream",
     "text": [
      " 43%|████▎     | 287/670 [10:53<10:43,  1.68s/it]"
     ]
    },
    {
     "name": "stdout",
     "output_type": "stream",
     "text": [
      "Processing C:\\Users\\david\\Downloads\\THSHAREX-19c-1\\THSHAREX-19c-1\\20231023-20231029-inst1-dumpdir\\report_1_THSHAREX_77907_77908.html...\n"
     ]
    },
    {
     "name": "stderr",
     "output_type": "stream",
     "text": [
      " 43%|████▎     | 288/670 [10:55<11:36,  1.82s/it]"
     ]
    },
    {
     "name": "stdout",
     "output_type": "stream",
     "text": [
      "Processing C:\\Users\\david\\Downloads\\THSHAREX-19c-1\\THSHAREX-19c-1\\20231023-20231029-inst1-dumpdir\\report_1_THSHAREX_77908_77909.html...\n"
     ]
    },
    {
     "name": "stderr",
     "output_type": "stream",
     "text": [
      " 43%|████▎     | 289/670 [10:57<11:54,  1.87s/it]"
     ]
    },
    {
     "name": "stdout",
     "output_type": "stream",
     "text": [
      "Processing C:\\Users\\david\\Downloads\\THSHAREX-19c-1\\THSHAREX-19c-1\\20231023-20231029-inst1-dumpdir\\report_1_THSHAREX_77909_77910.html...\n"
     ]
    },
    {
     "name": "stderr",
     "output_type": "stream",
     "text": [
      " 43%|████▎     | 290/670 [10:59<12:39,  2.00s/it]"
     ]
    },
    {
     "name": "stdout",
     "output_type": "stream",
     "text": [
      "Processing C:\\Users\\david\\Downloads\\THSHAREX-19c-1\\THSHAREX-19c-1\\20231023-20231029-inst1-dumpdir\\report_1_THSHAREX_77910_77911.html...\n"
     ]
    },
    {
     "name": "stderr",
     "output_type": "stream",
     "text": [
      " 43%|████▎     | 291/670 [11:01<12:29,  1.98s/it]"
     ]
    },
    {
     "name": "stdout",
     "output_type": "stream",
     "text": [
      "Processing C:\\Users\\david\\Downloads\\THSHAREX-19c-1\\THSHAREX-19c-1\\20231023-20231029-inst1-dumpdir\\report_1_THSHAREX_77911_77912.html...\n"
     ]
    },
    {
     "name": "stderr",
     "output_type": "stream",
     "text": [
      " 44%|████▎     | 292/670 [11:03<11:24,  1.81s/it]"
     ]
    },
    {
     "name": "stdout",
     "output_type": "stream",
     "text": [
      "Processing C:\\Users\\david\\Downloads\\THSHAREX-19c-1\\THSHAREX-19c-1\\20231023-20231029-inst1-dumpdir\\report_1_THSHAREX_77913_77914.html...\n"
     ]
    },
    {
     "name": "stderr",
     "output_type": "stream",
     "text": [
      " 44%|████▎     | 293/670 [11:04<10:52,  1.73s/it]"
     ]
    },
    {
     "name": "stdout",
     "output_type": "stream",
     "text": [
      "Processing C:\\Users\\david\\Downloads\\THSHAREX-19c-1\\THSHAREX-19c-1\\20231023-20231029-inst1-dumpdir\\report_1_THSHAREX_77914_77915.html...\n"
     ]
    },
    {
     "name": "stderr",
     "output_type": "stream",
     "text": [
      " 44%|████▍     | 294/670 [11:06<10:31,  1.68s/it]"
     ]
    },
    {
     "name": "stdout",
     "output_type": "stream",
     "text": [
      "Processing C:\\Users\\david\\Downloads\\THSHAREX-19c-1\\THSHAREX-19c-1\\20231023-20231029-inst1-dumpdir\\report_1_THSHAREX_77915_77916.html...\n"
     ]
    },
    {
     "name": "stderr",
     "output_type": "stream",
     "text": [
      " 44%|████▍     | 295/670 [11:08<11:31,  1.84s/it]"
     ]
    },
    {
     "name": "stdout",
     "output_type": "stream",
     "text": [
      "Processing C:\\Users\\david\\Downloads\\THSHAREX-19c-1\\THSHAREX-19c-1\\20231023-20231029-inst1-dumpdir\\report_1_THSHAREX_77916_77917.html...\n"
     ]
    },
    {
     "name": "stderr",
     "output_type": "stream",
     "text": [
      " 44%|████▍     | 296/670 [11:10<12:11,  1.95s/it]"
     ]
    },
    {
     "name": "stdout",
     "output_type": "stream",
     "text": [
      "Processing C:\\Users\\david\\Downloads\\THSHAREX-19c-1\\THSHAREX-19c-1\\20231023-20231029-inst1-dumpdir\\report_1_THSHAREX_77917_77918.html...\n"
     ]
    },
    {
     "name": "stderr",
     "output_type": "stream",
     "text": [
      " 44%|████▍     | 297/670 [11:13<12:42,  2.04s/it]"
     ]
    },
    {
     "name": "stdout",
     "output_type": "stream",
     "text": [
      "Processing C:\\Users\\david\\Downloads\\THSHAREX-19c-1\\THSHAREX-19c-1\\20231023-20231029-inst1-dumpdir\\report_1_THSHAREX_77918_77919.html...\n"
     ]
    },
    {
     "name": "stderr",
     "output_type": "stream",
     "text": [
      " 44%|████▍     | 298/670 [11:15<12:51,  2.07s/it]"
     ]
    },
    {
     "name": "stdout",
     "output_type": "stream",
     "text": [
      "Processing C:\\Users\\david\\Downloads\\THSHAREX-19c-1\\THSHAREX-19c-1\\20231023-20231029-inst1-dumpdir\\report_1_THSHAREX_77919_77920.html...\n"
     ]
    },
    {
     "name": "stderr",
     "output_type": "stream",
     "text": [
      " 45%|████▍     | 299/670 [11:16<12:13,  1.98s/it]"
     ]
    },
    {
     "name": "stdout",
     "output_type": "stream",
     "text": [
      "Processing C:\\Users\\david\\Downloads\\THSHAREX-19c-1\\THSHAREX-19c-1\\20231023-20231029-inst1-dumpdir\\report_1_THSHAREX_77920_77921.html...\n"
     ]
    },
    {
     "name": "stderr",
     "output_type": "stream",
     "text": [
      " 45%|████▍     | 300/670 [11:18<11:24,  1.85s/it]"
     ]
    },
    {
     "name": "stdout",
     "output_type": "stream",
     "text": [
      "Processing C:\\Users\\david\\Downloads\\THSHAREX-19c-1\\THSHAREX-19c-1\\20231023-20231029-inst1-dumpdir\\report_1_THSHAREX_77921_77922.html...\n"
     ]
    },
    {
     "name": "stderr",
     "output_type": "stream",
     "text": [
      " 45%|████▍     | 301/670 [11:19<10:37,  1.73s/it]"
     ]
    },
    {
     "name": "stdout",
     "output_type": "stream",
     "text": [
      "Processing C:\\Users\\david\\Downloads\\THSHAREX-19c-1\\THSHAREX-19c-1\\20231023-20231029-inst1-dumpdir\\report_1_THSHAREX_77922_77923.html...\n"
     ]
    },
    {
     "name": "stderr",
     "output_type": "stream",
     "text": [
      " 45%|████▌     | 302/670 [11:21<10:21,  1.69s/it]"
     ]
    },
    {
     "name": "stdout",
     "output_type": "stream",
     "text": [
      "Processing C:\\Users\\david\\Downloads\\THSHAREX-19c-1\\THSHAREX-19c-1\\20231023-20231029-inst1-dumpdir\\report_1_THSHAREX_77923_77924.html...\n"
     ]
    },
    {
     "name": "stderr",
     "output_type": "stream",
     "text": [
      " 45%|████▌     | 303/670 [11:23<11:33,  1.89s/it]"
     ]
    },
    {
     "name": "stdout",
     "output_type": "stream",
     "text": [
      "Processing C:\\Users\\david\\Downloads\\THSHAREX-19c-1\\THSHAREX-19c-1\\20231023-20231029-inst1-dumpdir\\report_1_THSHAREX_77924_77925.html...\n"
     ]
    },
    {
     "name": "stderr",
     "output_type": "stream",
     "text": [
      " 45%|████▌     | 304/670 [11:25<10:55,  1.79s/it]"
     ]
    },
    {
     "name": "stdout",
     "output_type": "stream",
     "text": [
      "Processing C:\\Users\\david\\Downloads\\THSHAREX-19c-1\\THSHAREX-19c-1\\20231023-20231029-inst1-dumpdir\\report_1_THSHAREX_77925_77926.html...\n"
     ]
    },
    {
     "name": "stderr",
     "output_type": "stream",
     "text": [
      " 46%|████▌     | 305/670 [11:27<11:32,  1.90s/it]"
     ]
    },
    {
     "name": "stdout",
     "output_type": "stream",
     "text": [
      "Processing C:\\Users\\david\\Downloads\\THSHAREX-19c-1\\THSHAREX-19c-1\\20231023-20231029-inst1-dumpdir\\report_1_THSHAREX_77926_77927.html...\n"
     ]
    },
    {
     "name": "stderr",
     "output_type": "stream",
     "text": [
      " 46%|████▌     | 306/670 [11:29<10:50,  1.79s/it]"
     ]
    },
    {
     "name": "stdout",
     "output_type": "stream",
     "text": [
      "Processing C:\\Users\\david\\Downloads\\THSHAREX-19c-1\\THSHAREX-19c-1\\20231023-20231029-inst1-dumpdir\\report_1_THSHAREX_77927_77928.html...\n"
     ]
    },
    {
     "name": "stderr",
     "output_type": "stream",
     "text": [
      " 46%|████▌     | 307/670 [11:30<10:34,  1.75s/it]"
     ]
    },
    {
     "name": "stdout",
     "output_type": "stream",
     "text": [
      "Processing C:\\Users\\david\\Downloads\\THSHAREX-19c-1\\THSHAREX-19c-1\\20231023-20231029-inst1-dumpdir\\report_1_THSHAREX_77928_77929.html...\n"
     ]
    },
    {
     "name": "stderr",
     "output_type": "stream",
     "text": [
      " 46%|████▌     | 308/670 [11:32<09:50,  1.63s/it]"
     ]
    },
    {
     "name": "stdout",
     "output_type": "stream",
     "text": [
      "Processing C:\\Users\\david\\Downloads\\THSHAREX-19c-1\\THSHAREX-19c-1\\20231023-20231029-inst1-dumpdir\\report_1_THSHAREX_77929_77930.html...\n"
     ]
    },
    {
     "name": "stderr",
     "output_type": "stream",
     "text": [
      " 46%|████▌     | 309/670 [11:33<09:39,  1.61s/it]"
     ]
    },
    {
     "name": "stdout",
     "output_type": "stream",
     "text": [
      "Processing C:\\Users\\david\\Downloads\\THSHAREX-19c-1\\THSHAREX-19c-1\\20231023-20231029-inst1-dumpdir\\report_1_THSHAREX_77930_77931.html...\n"
     ]
    },
    {
     "name": "stderr",
     "output_type": "stream",
     "text": [
      " 46%|████▋     | 310/670 [11:36<12:02,  2.01s/it]"
     ]
    },
    {
     "name": "stdout",
     "output_type": "stream",
     "text": [
      "Processing C:\\Users\\david\\Downloads\\THSHAREX-19c-1\\THSHAREX-19c-1\\20231023-20231029-inst1-dumpdir\\report_1_THSHAREX_77931_77932.html...\n"
     ]
    },
    {
     "name": "stderr",
     "output_type": "stream",
     "text": [
      " 46%|████▋     | 311/670 [11:39<13:04,  2.18s/it]"
     ]
    },
    {
     "name": "stdout",
     "output_type": "stream",
     "text": [
      "Processing C:\\Users\\david\\Downloads\\THSHAREX-19c-1\\THSHAREX-19c-1\\20231023-20231029-inst1-dumpdir\\report_1_THSHAREX_77932_77933.html...\n"
     ]
    },
    {
     "name": "stderr",
     "output_type": "stream",
     "text": [
      " 47%|████▋     | 312/670 [11:40<11:54,  2.00s/it]"
     ]
    },
    {
     "name": "stdout",
     "output_type": "stream",
     "text": [
      "Processing C:\\Users\\david\\Downloads\\THSHAREX-19c-1\\THSHAREX-19c-1\\20231023-20231029-inst1-dumpdir\\report_1_THSHAREX_77933_77934.html...\n"
     ]
    },
    {
     "name": "stderr",
     "output_type": "stream",
     "text": [
      " 47%|████▋     | 313/670 [11:44<14:17,  2.40s/it]"
     ]
    },
    {
     "name": "stdout",
     "output_type": "stream",
     "text": [
      "Processing C:\\Users\\david\\Downloads\\THSHAREX-19c-1\\THSHAREX-19c-1\\20231023-20231029-inst1-dumpdir\\report_1_THSHAREX_77934_77935.html...\n"
     ]
    },
    {
     "name": "stderr",
     "output_type": "stream",
     "text": [
      " 47%|████▋     | 314/670 [11:46<13:38,  2.30s/it]"
     ]
    },
    {
     "name": "stdout",
     "output_type": "stream",
     "text": [
      "Processing C:\\Users\\david\\Downloads\\THSHAREX-19c-1\\THSHAREX-19c-1\\20231023-20231029-inst1-dumpdir\\report_1_THSHAREX_77935_77936.html...\n"
     ]
    },
    {
     "name": "stderr",
     "output_type": "stream",
     "text": [
      " 47%|████▋     | 315/670 [11:47<12:31,  2.12s/it]"
     ]
    },
    {
     "name": "stdout",
     "output_type": "stream",
     "text": [
      "Processing C:\\Users\\david\\Downloads\\THSHAREX-19c-1\\THSHAREX-19c-1\\20231023-20231029-inst1-dumpdir\\report_1_THSHAREX_77936_77937.html...\n"
     ]
    },
    {
     "name": "stderr",
     "output_type": "stream",
     "text": [
      " 47%|████▋     | 316/670 [11:49<11:08,  1.89s/it]"
     ]
    },
    {
     "name": "stdout",
     "output_type": "stream",
     "text": [
      "Processing C:\\Users\\david\\Downloads\\THSHAREX-19c-1\\THSHAREX-19c-1\\20231023-20231029-inst1-dumpdir\\report_1_THSHAREX_77937_77938.html...\n"
     ]
    },
    {
     "name": "stderr",
     "output_type": "stream",
     "text": [
      " 47%|████▋     | 317/670 [11:50<10:29,  1.78s/it]"
     ]
    },
    {
     "name": "stdout",
     "output_type": "stream",
     "text": [
      "Processing C:\\Users\\david\\Downloads\\THSHAREX-19c-1\\THSHAREX-19c-1\\20231023-20231029-inst1-dumpdir\\report_1_THSHAREX_77938_77939.html...\n"
     ]
    },
    {
     "name": "stderr",
     "output_type": "stream",
     "text": [
      " 47%|████▋     | 318/670 [11:53<12:23,  2.11s/it]"
     ]
    },
    {
     "name": "stdout",
     "output_type": "stream",
     "text": [
      "Processing C:\\Users\\david\\Downloads\\THSHAREX-19c-1\\THSHAREX-19c-1\\20231023-20231029-inst1-dumpdir\\report_1_THSHAREX_77939_77940.html...\n"
     ]
    },
    {
     "name": "stderr",
     "output_type": "stream",
     "text": [
      " 48%|████▊     | 319/670 [11:56<12:55,  2.21s/it]"
     ]
    },
    {
     "name": "stdout",
     "output_type": "stream",
     "text": [
      "Processing C:\\Users\\david\\Downloads\\THSHAREX-19c-1\\THSHAREX-19c-1\\20231023-20231029-inst1-dumpdir\\report_1_THSHAREX_77940_77941.html...\n"
     ]
    },
    {
     "name": "stderr",
     "output_type": "stream",
     "text": [
      " 48%|████▊     | 320/670 [11:57<11:17,  1.94s/it]"
     ]
    },
    {
     "name": "stdout",
     "output_type": "stream",
     "text": [
      "Processing C:\\Users\\david\\Downloads\\THSHAREX-19c-1\\THSHAREX-19c-1\\20231023-20231029-inst1-dumpdir\\report_1_THSHAREX_77941_77942.html...\n"
     ]
    },
    {
     "name": "stderr",
     "output_type": "stream",
     "text": [
      " 48%|████▊     | 321/670 [11:59<11:01,  1.90s/it]"
     ]
    },
    {
     "name": "stdout",
     "output_type": "stream",
     "text": [
      "Processing C:\\Users\\david\\Downloads\\THSHAREX-19c-1\\THSHAREX-19c-1\\20231023-20231029-inst1-dumpdir\\report_1_THSHAREX_77942_77943.html...\n"
     ]
    },
    {
     "name": "stderr",
     "output_type": "stream",
     "text": [
      " 48%|████▊     | 322/670 [12:01<11:01,  1.90s/it]"
     ]
    },
    {
     "name": "stdout",
     "output_type": "stream",
     "text": [
      "Processing C:\\Users\\david\\Downloads\\THSHAREX-19c-1\\THSHAREX-19c-1\\20231023-20231029-inst1-dumpdir\\report_1_THSHAREX_77943_77944.html...\n"
     ]
    },
    {
     "name": "stderr",
     "output_type": "stream",
     "text": [
      " 48%|████▊     | 323/670 [12:03<11:58,  2.07s/it]"
     ]
    },
    {
     "name": "stdout",
     "output_type": "stream",
     "text": [
      "Processing C:\\Users\\david\\Downloads\\THSHAREX-19c-1\\THSHAREX-19c-1\\20231023-20231029-inst1-dumpdir\\report_1_THSHAREX_77944_77945.html...\n"
     ]
    },
    {
     "name": "stderr",
     "output_type": "stream",
     "text": [
      " 48%|████▊     | 324/670 [12:04<10:41,  1.85s/it]"
     ]
    },
    {
     "name": "stdout",
     "output_type": "stream",
     "text": [
      "Processing C:\\Users\\david\\Downloads\\THSHAREX-19c-1\\THSHAREX-19c-1\\20231023-20231029-inst1-dumpdir\\report_1_THSHAREX_77945_77946.html...\n"
     ]
    },
    {
     "name": "stderr",
     "output_type": "stream",
     "text": [
      " 49%|████▊     | 325/670 [12:06<10:00,  1.74s/it]"
     ]
    },
    {
     "name": "stdout",
     "output_type": "stream",
     "text": [
      "Processing C:\\Users\\david\\Downloads\\THSHAREX-19c-1\\THSHAREX-19c-1\\20231023-20231029-inst1-dumpdir\\report_1_THSHAREX_77946_77947.html...\n"
     ]
    },
    {
     "name": "stderr",
     "output_type": "stream",
     "text": [
      " 49%|████▊     | 326/670 [12:07<09:39,  1.69s/it]"
     ]
    },
    {
     "name": "stdout",
     "output_type": "stream",
     "text": [
      "Processing C:\\Users\\david\\Downloads\\THSHAREX-19c-1\\THSHAREX-19c-1\\20231023-20231029-inst1-dumpdir\\report_1_THSHAREX_77947_77948.html...\n"
     ]
    },
    {
     "name": "stderr",
     "output_type": "stream",
     "text": [
      " 49%|████▉     | 327/670 [12:09<09:31,  1.66s/it]"
     ]
    },
    {
     "name": "stdout",
     "output_type": "stream",
     "text": [
      "Processing C:\\Users\\david\\Downloads\\THSHAREX-19c-1\\THSHAREX-19c-1\\20231023-20231029-inst1-dumpdir\\report_1_THSHAREX_77948_77949.html...\n"
     ]
    },
    {
     "name": "stderr",
     "output_type": "stream",
     "text": [
      " 49%|████▉     | 328/670 [12:11<09:21,  1.64s/it]"
     ]
    },
    {
     "name": "stdout",
     "output_type": "stream",
     "text": [
      "Processing C:\\Users\\david\\Downloads\\THSHAREX-19c-1\\THSHAREX-19c-1\\20231023-20231029-inst1-dumpdir\\report_1_THSHAREX_77949_77950.html...\n"
     ]
    },
    {
     "name": "stderr",
     "output_type": "stream",
     "text": [
      " 49%|████▉     | 329/670 [12:12<09:23,  1.65s/it]"
     ]
    },
    {
     "name": "stdout",
     "output_type": "stream",
     "text": [
      "Processing C:\\Users\\david\\Downloads\\THSHAREX-19c-1\\THSHAREX-19c-1\\20231023-20231029-inst1-dumpdir\\report_1_THSHAREX_77950_77951.html...\n"
     ]
    },
    {
     "name": "stderr",
     "output_type": "stream",
     "text": [
      " 49%|████▉     | 330/670 [12:14<09:11,  1.62s/it]"
     ]
    },
    {
     "name": "stdout",
     "output_type": "stream",
     "text": [
      "Processing C:\\Users\\david\\Downloads\\THSHAREX-19c-1\\THSHAREX-19c-1\\20231023-20231029-inst1-dumpdir\\report_1_THSHAREX_77951_77952.html...\n"
     ]
    },
    {
     "name": "stderr",
     "output_type": "stream",
     "text": [
      " 49%|████▉     | 331/670 [12:16<09:58,  1.77s/it]"
     ]
    },
    {
     "name": "stdout",
     "output_type": "stream",
     "text": [
      "Processing C:\\Users\\david\\Downloads\\THSHAREX-19c-1\\THSHAREX-19c-1\\20231023-20231029-inst1-dumpdir\\report_1_THSHAREX_77952_77953.html...\n"
     ]
    },
    {
     "name": "stderr",
     "output_type": "stream",
     "text": [
      " 50%|████▉     | 332/670 [12:17<09:04,  1.61s/it]"
     ]
    },
    {
     "name": "stdout",
     "output_type": "stream",
     "text": [
      "Processing C:\\Users\\david\\Downloads\\THSHAREX-19c-1\\THSHAREX-19c-1\\20231023-20231029-inst1-dumpdir\\report_1_THSHAREX_77953_77954.html...\n"
     ]
    },
    {
     "name": "stderr",
     "output_type": "stream",
     "text": [
      " 50%|████▉     | 333/670 [12:19<09:16,  1.65s/it]"
     ]
    },
    {
     "name": "stdout",
     "output_type": "stream",
     "text": [
      "Processing C:\\Users\\david\\Downloads\\THSHAREX-19c-1\\THSHAREX-19c-1\\20231023-20231029-inst1-dumpdir\\report_1_THSHAREX_77954_77955.html...\n"
     ]
    },
    {
     "name": "stderr",
     "output_type": "stream",
     "text": [
      " 50%|████▉     | 334/670 [12:21<10:02,  1.79s/it]"
     ]
    },
    {
     "name": "stdout",
     "output_type": "stream",
     "text": [
      "Processing C:\\Users\\david\\Downloads\\THSHAREX-19c-1\\THSHAREX-19c-1\\20231023-20231029-inst1-dumpdir\\report_1_THSHAREX_77955_77956.html...\n"
     ]
    },
    {
     "name": "stderr",
     "output_type": "stream",
     "text": [
      " 50%|█████     | 335/670 [12:23<10:56,  1.96s/it]"
     ]
    },
    {
     "name": "stdout",
     "output_type": "stream",
     "text": [
      "Processing C:\\Users\\david\\Downloads\\THSHAREX-19c-1\\THSHAREX-19c-1\\20231023-20231029-inst2-dumpdir\\report_2_THSHAREX_77620_77621.html...\n"
     ]
    },
    {
     "name": "stderr",
     "output_type": "stream",
     "text": [
      " 50%|█████     | 336/670 [12:26<11:11,  2.01s/it]"
     ]
    },
    {
     "name": "stdout",
     "output_type": "stream",
     "text": [
      "Processing C:\\Users\\david\\Downloads\\THSHAREX-19c-1\\THSHAREX-19c-1\\20231023-20231029-inst2-dumpdir\\report_2_THSHAREX_77621_77622.html...\n"
     ]
    },
    {
     "name": "stderr",
     "output_type": "stream",
     "text": [
      " 50%|█████     | 337/670 [12:28<11:57,  2.15s/it]"
     ]
    },
    {
     "name": "stdout",
     "output_type": "stream",
     "text": [
      "Processing C:\\Users\\david\\Downloads\\THSHAREX-19c-1\\THSHAREX-19c-1\\20231023-20231029-inst2-dumpdir\\report_2_THSHAREX_77622_77623.html...\n"
     ]
    },
    {
     "name": "stderr",
     "output_type": "stream",
     "text": [
      " 50%|█████     | 338/670 [12:30<12:10,  2.20s/it]"
     ]
    },
    {
     "name": "stdout",
     "output_type": "stream",
     "text": [
      "Processing C:\\Users\\david\\Downloads\\THSHAREX-19c-1\\THSHAREX-19c-1\\20231023-20231029-inst2-dumpdir\\report_2_THSHAREX_77623_77624.html...\n"
     ]
    },
    {
     "name": "stderr",
     "output_type": "stream",
     "text": [
      " 51%|█████     | 339/670 [12:33<12:06,  2.20s/it]"
     ]
    },
    {
     "name": "stdout",
     "output_type": "stream",
     "text": [
      "Processing C:\\Users\\david\\Downloads\\THSHAREX-19c-1\\THSHAREX-19c-1\\20231023-20231029-inst2-dumpdir\\report_2_THSHAREX_77624_77625.html...\n"
     ]
    },
    {
     "name": "stderr",
     "output_type": "stream",
     "text": [
      " 51%|█████     | 340/670 [12:35<12:15,  2.23s/it]"
     ]
    },
    {
     "name": "stdout",
     "output_type": "stream",
     "text": [
      "Processing C:\\Users\\david\\Downloads\\THSHAREX-19c-1\\THSHAREX-19c-1\\20231023-20231029-inst2-dumpdir\\report_2_THSHAREX_77625_77626.html...\n"
     ]
    },
    {
     "name": "stderr",
     "output_type": "stream",
     "text": [
      " 51%|█████     | 341/670 [12:37<12:07,  2.21s/it]"
     ]
    },
    {
     "name": "stdout",
     "output_type": "stream",
     "text": [
      "Processing C:\\Users\\david\\Downloads\\THSHAREX-19c-1\\THSHAREX-19c-1\\20231023-20231029-inst2-dumpdir\\report_2_THSHAREX_77626_77627.html...\n"
     ]
    },
    {
     "name": "stderr",
     "output_type": "stream",
     "text": [
      " 51%|█████     | 342/670 [12:39<12:06,  2.21s/it]"
     ]
    },
    {
     "name": "stdout",
     "output_type": "stream",
     "text": [
      "Processing C:\\Users\\david\\Downloads\\THSHAREX-19c-1\\THSHAREX-19c-1\\20231023-20231029-inst2-dumpdir\\report_2_THSHAREX_77627_77628.html...\n"
     ]
    },
    {
     "name": "stderr",
     "output_type": "stream",
     "text": [
      " 51%|█████     | 343/670 [12:41<11:40,  2.14s/it]"
     ]
    },
    {
     "name": "stdout",
     "output_type": "stream",
     "text": [
      "Processing C:\\Users\\david\\Downloads\\THSHAREX-19c-1\\THSHAREX-19c-1\\20231023-20231029-inst2-dumpdir\\report_2_THSHAREX_77628_77629.html...\n"
     ]
    },
    {
     "name": "stderr",
     "output_type": "stream",
     "text": [
      " 51%|█████▏    | 344/670 [12:44<12:35,  2.32s/it]"
     ]
    },
    {
     "name": "stdout",
     "output_type": "stream",
     "text": [
      "Processing C:\\Users\\david\\Downloads\\THSHAREX-19c-1\\THSHAREX-19c-1\\20231023-20231029-inst2-dumpdir\\report_2_THSHAREX_77629_77630.html...\n"
     ]
    },
    {
     "name": "stderr",
     "output_type": "stream",
     "text": [
      " 51%|█████▏    | 345/670 [12:47<13:13,  2.44s/it]"
     ]
    },
    {
     "name": "stdout",
     "output_type": "stream",
     "text": [
      "Processing C:\\Users\\david\\Downloads\\THSHAREX-19c-1\\THSHAREX-19c-1\\20231023-20231029-inst2-dumpdir\\report_2_THSHAREX_77630_77631.html...\n"
     ]
    },
    {
     "name": "stderr",
     "output_type": "stream",
     "text": [
      " 52%|█████▏    | 346/670 [12:49<12:53,  2.39s/it]"
     ]
    },
    {
     "name": "stdout",
     "output_type": "stream",
     "text": [
      "Processing C:\\Users\\david\\Downloads\\THSHAREX-19c-1\\THSHAREX-19c-1\\20231023-20231029-inst2-dumpdir\\report_2_THSHAREX_77631_77632.html...\n"
     ]
    },
    {
     "name": "stderr",
     "output_type": "stream",
     "text": [
      " 52%|█████▏    | 347/670 [12:51<12:22,  2.30s/it]"
     ]
    },
    {
     "name": "stdout",
     "output_type": "stream",
     "text": [
      "Processing C:\\Users\\david\\Downloads\\THSHAREX-19c-1\\THSHAREX-19c-1\\20231023-20231029-inst2-dumpdir\\report_2_THSHAREX_77632_77633.html...\n"
     ]
    },
    {
     "name": "stderr",
     "output_type": "stream",
     "text": [
      " 52%|█████▏    | 348/670 [12:53<12:03,  2.25s/it]"
     ]
    },
    {
     "name": "stdout",
     "output_type": "stream",
     "text": [
      "Processing C:\\Users\\david\\Downloads\\THSHAREX-19c-1\\THSHAREX-19c-1\\20231023-20231029-inst2-dumpdir\\report_2_THSHAREX_77633_77634.html...\n"
     ]
    },
    {
     "name": "stderr",
     "output_type": "stream",
     "text": [
      " 52%|█████▏    | 349/670 [12:55<12:04,  2.26s/it]"
     ]
    },
    {
     "name": "stdout",
     "output_type": "stream",
     "text": [
      "Processing C:\\Users\\david\\Downloads\\THSHAREX-19c-1\\THSHAREX-19c-1\\20231023-20231029-inst2-dumpdir\\report_2_THSHAREX_77634_77635.html...\n"
     ]
    },
    {
     "name": "stderr",
     "output_type": "stream",
     "text": [
      " 52%|█████▏    | 350/670 [12:57<11:38,  2.18s/it]"
     ]
    },
    {
     "name": "stdout",
     "output_type": "stream",
     "text": [
      "Processing C:\\Users\\david\\Downloads\\THSHAREX-19c-1\\THSHAREX-19c-1\\20231023-20231029-inst2-dumpdir\\report_2_THSHAREX_77635_77636.html...\n"
     ]
    },
    {
     "name": "stderr",
     "output_type": "stream",
     "text": [
      " 52%|█████▏    | 351/670 [13:00<11:25,  2.15s/it]"
     ]
    },
    {
     "name": "stdout",
     "output_type": "stream",
     "text": [
      "Processing C:\\Users\\david\\Downloads\\THSHAREX-19c-1\\THSHAREX-19c-1\\20231023-20231029-inst2-dumpdir\\report_2_THSHAREX_77636_77637.html...\n"
     ]
    },
    {
     "name": "stderr",
     "output_type": "stream",
     "text": [
      " 53%|█████▎    | 352/670 [13:02<12:07,  2.29s/it]"
     ]
    },
    {
     "name": "stdout",
     "output_type": "stream",
     "text": [
      "Processing C:\\Users\\david\\Downloads\\THSHAREX-19c-1\\THSHAREX-19c-1\\20231023-20231029-inst2-dumpdir\\report_2_THSHAREX_77637_77638.html...\n"
     ]
    },
    {
     "name": "stderr",
     "output_type": "stream",
     "text": [
      " 53%|█████▎    | 353/670 [13:04<12:05,  2.29s/it]"
     ]
    },
    {
     "name": "stdout",
     "output_type": "stream",
     "text": [
      "Processing C:\\Users\\david\\Downloads\\THSHAREX-19c-1\\THSHAREX-19c-1\\20231023-20231029-inst2-dumpdir\\report_2_THSHAREX_77638_77639.html...\n"
     ]
    },
    {
     "name": "stderr",
     "output_type": "stream",
     "text": [
      " 53%|█████▎    | 354/670 [13:07<12:31,  2.38s/it]"
     ]
    },
    {
     "name": "stdout",
     "output_type": "stream",
     "text": [
      "Processing C:\\Users\\david\\Downloads\\THSHAREX-19c-1\\THSHAREX-19c-1\\20231023-20231029-inst2-dumpdir\\report_2_THSHAREX_77639_77640.html...\n"
     ]
    },
    {
     "name": "stderr",
     "output_type": "stream",
     "text": [
      " 53%|█████▎    | 355/670 [13:10<12:47,  2.44s/it]"
     ]
    },
    {
     "name": "stdout",
     "output_type": "stream",
     "text": [
      "Processing C:\\Users\\david\\Downloads\\THSHAREX-19c-1\\THSHAREX-19c-1\\20231023-20231029-inst2-dumpdir\\report_2_THSHAREX_77640_77641.html...\n"
     ]
    },
    {
     "name": "stderr",
     "output_type": "stream",
     "text": [
      " 53%|█████▎    | 356/670 [13:12<12:19,  2.36s/it]"
     ]
    },
    {
     "name": "stdout",
     "output_type": "stream",
     "text": [
      "Processing C:\\Users\\david\\Downloads\\THSHAREX-19c-1\\THSHAREX-19c-1\\20231023-20231029-inst2-dumpdir\\report_2_THSHAREX_77641_77642.html...\n"
     ]
    },
    {
     "name": "stderr",
     "output_type": "stream",
     "text": [
      " 53%|█████▎    | 357/670 [13:14<12:10,  2.33s/it]"
     ]
    },
    {
     "name": "stdout",
     "output_type": "stream",
     "text": [
      "Processing C:\\Users\\david\\Downloads\\THSHAREX-19c-1\\THSHAREX-19c-1\\20231023-20231029-inst2-dumpdir\\report_2_THSHAREX_77642_77643.html...\n"
     ]
    },
    {
     "name": "stderr",
     "output_type": "stream",
     "text": [
      " 53%|█████▎    | 358/670 [13:16<11:57,  2.30s/it]"
     ]
    },
    {
     "name": "stdout",
     "output_type": "stream",
     "text": [
      "Processing C:\\Users\\david\\Downloads\\THSHAREX-19c-1\\THSHAREX-19c-1\\20231023-20231029-inst2-dumpdir\\report_2_THSHAREX_77643_77644.html...\n"
     ]
    },
    {
     "name": "stderr",
     "output_type": "stream",
     "text": [
      " 54%|█████▎    | 359/670 [13:19<11:56,  2.31s/it]"
     ]
    },
    {
     "name": "stdout",
     "output_type": "stream",
     "text": [
      "Processing C:\\Users\\david\\Downloads\\THSHAREX-19c-1\\THSHAREX-19c-1\\20231023-20231029-inst2-dumpdir\\report_2_THSHAREX_77644_77645.html...\n"
     ]
    },
    {
     "name": "stderr",
     "output_type": "stream",
     "text": [
      " 54%|█████▎    | 360/670 [13:21<12:07,  2.35s/it]"
     ]
    },
    {
     "name": "stdout",
     "output_type": "stream",
     "text": [
      "Processing C:\\Users\\david\\Downloads\\THSHAREX-19c-1\\THSHAREX-19c-1\\20231023-20231029-inst2-dumpdir\\report_2_THSHAREX_77645_77646.html...\n"
     ]
    },
    {
     "name": "stderr",
     "output_type": "stream",
     "text": [
      " 54%|█████▍    | 361/670 [13:23<11:49,  2.30s/it]"
     ]
    },
    {
     "name": "stdout",
     "output_type": "stream",
     "text": [
      "Processing C:\\Users\\david\\Downloads\\THSHAREX-19c-1\\THSHAREX-19c-1\\20231023-20231029-inst2-dumpdir\\report_2_THSHAREX_77646_77647.html...\n"
     ]
    },
    {
     "name": "stderr",
     "output_type": "stream",
     "text": [
      " 54%|█████▍    | 362/670 [13:25<11:43,  2.28s/it]"
     ]
    },
    {
     "name": "stdout",
     "output_type": "stream",
     "text": [
      "Processing C:\\Users\\david\\Downloads\\THSHAREX-19c-1\\THSHAREX-19c-1\\20231023-20231029-inst2-dumpdir\\report_2_THSHAREX_77647_77648.html...\n"
     ]
    },
    {
     "name": "stderr",
     "output_type": "stream",
     "text": [
      " 54%|█████▍    | 363/670 [13:28<11:27,  2.24s/it]"
     ]
    },
    {
     "name": "stdout",
     "output_type": "stream",
     "text": [
      "Processing C:\\Users\\david\\Downloads\\THSHAREX-19c-1\\THSHAREX-19c-1\\20231023-20231029-inst2-dumpdir\\report_2_THSHAREX_77648_77649.html...\n"
     ]
    },
    {
     "name": "stderr",
     "output_type": "stream",
     "text": [
      " 54%|█████▍    | 364/670 [13:30<12:05,  2.37s/it]"
     ]
    },
    {
     "name": "stdout",
     "output_type": "stream",
     "text": [
      "Processing C:\\Users\\david\\Downloads\\THSHAREX-19c-1\\THSHAREX-19c-1\\20231023-20231029-inst2-dumpdir\\report_2_THSHAREX_77649_77650.html...\n"
     ]
    },
    {
     "name": "stderr",
     "output_type": "stream",
     "text": [
      " 54%|█████▍    | 365/670 [13:32<11:44,  2.31s/it]"
     ]
    },
    {
     "name": "stdout",
     "output_type": "stream",
     "text": [
      "Processing C:\\Users\\david\\Downloads\\THSHAREX-19c-1\\THSHAREX-19c-1\\20231023-20231029-inst2-dumpdir\\report_2_THSHAREX_77650_77651.html...\n"
     ]
    },
    {
     "name": "stderr",
     "output_type": "stream",
     "text": [
      " 55%|█████▍    | 366/670 [13:35<11:34,  2.29s/it]"
     ]
    },
    {
     "name": "stdout",
     "output_type": "stream",
     "text": [
      "Processing C:\\Users\\david\\Downloads\\THSHAREX-19c-1\\THSHAREX-19c-1\\20231023-20231029-inst2-dumpdir\\report_2_THSHAREX_77651_77652.html...\n"
     ]
    },
    {
     "name": "stderr",
     "output_type": "stream",
     "text": [
      " 55%|█████▍    | 367/670 [13:37<11:39,  2.31s/it]"
     ]
    },
    {
     "name": "stdout",
     "output_type": "stream",
     "text": [
      "Processing C:\\Users\\david\\Downloads\\THSHAREX-19c-1\\THSHAREX-19c-1\\20231023-20231029-inst2-dumpdir\\report_2_THSHAREX_77652_77653.html...\n"
     ]
    },
    {
     "name": "stderr",
     "output_type": "stream",
     "text": [
      " 55%|█████▍    | 368/670 [13:39<11:20,  2.25s/it]"
     ]
    },
    {
     "name": "stdout",
     "output_type": "stream",
     "text": [
      "Processing C:\\Users\\david\\Downloads\\THSHAREX-19c-1\\THSHAREX-19c-1\\20231023-20231029-inst2-dumpdir\\report_2_THSHAREX_77653_77654.html...\n"
     ]
    },
    {
     "name": "stderr",
     "output_type": "stream",
     "text": [
      " 55%|█████▌    | 369/670 [13:41<11:07,  2.22s/it]"
     ]
    },
    {
     "name": "stdout",
     "output_type": "stream",
     "text": [
      "Processing C:\\Users\\david\\Downloads\\THSHAREX-19c-1\\THSHAREX-19c-1\\20231023-20231029-inst2-dumpdir\\report_2_THSHAREX_77654_77655.html...\n"
     ]
    },
    {
     "name": "stderr",
     "output_type": "stream",
     "text": [
      " 55%|█████▌    | 370/670 [13:44<11:08,  2.23s/it]"
     ]
    },
    {
     "name": "stdout",
     "output_type": "stream",
     "text": [
      "Processing C:\\Users\\david\\Downloads\\THSHAREX-19c-1\\THSHAREX-19c-1\\20231023-20231029-inst2-dumpdir\\report_2_THSHAREX_77655_77656.html...\n"
     ]
    },
    {
     "name": "stderr",
     "output_type": "stream",
     "text": [
      " 55%|█████▌    | 371/670 [13:46<11:34,  2.32s/it]"
     ]
    },
    {
     "name": "stdout",
     "output_type": "stream",
     "text": [
      "Processing C:\\Users\\david\\Downloads\\THSHAREX-19c-1\\THSHAREX-19c-1\\20231023-20231029-inst2-dumpdir\\report_2_THSHAREX_77656_77657.html...\n"
     ]
    },
    {
     "name": "stderr",
     "output_type": "stream",
     "text": [
      " 56%|█████▌    | 372/670 [13:48<11:28,  2.31s/it]"
     ]
    },
    {
     "name": "stdout",
     "output_type": "stream",
     "text": [
      "Processing C:\\Users\\david\\Downloads\\THSHAREX-19c-1\\THSHAREX-19c-1\\20231023-20231029-inst2-dumpdir\\report_2_THSHAREX_77657_77658.html...\n"
     ]
    },
    {
     "name": "stderr",
     "output_type": "stream",
     "text": [
      " 56%|█████▌    | 373/670 [13:50<11:09,  2.25s/it]"
     ]
    },
    {
     "name": "stdout",
     "output_type": "stream",
     "text": [
      "Processing C:\\Users\\david\\Downloads\\THSHAREX-19c-1\\THSHAREX-19c-1\\20231023-20231029-inst2-dumpdir\\report_2_THSHAREX_77658_77659.html...\n"
     ]
    },
    {
     "name": "stderr",
     "output_type": "stream",
     "text": [
      " 56%|█████▌    | 374/670 [13:53<10:57,  2.22s/it]"
     ]
    },
    {
     "name": "stdout",
     "output_type": "stream",
     "text": [
      "Processing C:\\Users\\david\\Downloads\\THSHAREX-19c-1\\THSHAREX-19c-1\\20231023-20231029-inst2-dumpdir\\report_2_THSHAREX_77659_77660.html...\n"
     ]
    },
    {
     "name": "stderr",
     "output_type": "stream",
     "text": [
      " 56%|█████▌    | 375/670 [13:55<11:13,  2.28s/it]"
     ]
    },
    {
     "name": "stdout",
     "output_type": "stream",
     "text": [
      "Processing C:\\Users\\david\\Downloads\\THSHAREX-19c-1\\THSHAREX-19c-1\\20231023-20231029-inst2-dumpdir\\report_2_THSHAREX_77660_77661.html...\n"
     ]
    },
    {
     "name": "stderr",
     "output_type": "stream",
     "text": [
      " 56%|█████▌    | 376/670 [13:58<11:32,  2.36s/it]"
     ]
    },
    {
     "name": "stdout",
     "output_type": "stream",
     "text": [
      "Processing C:\\Users\\david\\Downloads\\THSHAREX-19c-1\\THSHAREX-19c-1\\20231023-20231029-inst2-dumpdir\\report_2_THSHAREX_77661_77662.html...\n"
     ]
    },
    {
     "name": "stderr",
     "output_type": "stream",
     "text": [
      " 56%|█████▋    | 377/670 [14:00<11:46,  2.41s/it]"
     ]
    },
    {
     "name": "stdout",
     "output_type": "stream",
     "text": [
      "Processing C:\\Users\\david\\Downloads\\THSHAREX-19c-1\\THSHAREX-19c-1\\20231023-20231029-inst2-dumpdir\\report_2_THSHAREX_77662_77663.html...\n"
     ]
    },
    {
     "name": "stderr",
     "output_type": "stream",
     "text": [
      " 56%|█████▋    | 378/670 [14:02<11:39,  2.40s/it]"
     ]
    },
    {
     "name": "stdout",
     "output_type": "stream",
     "text": [
      "Processing C:\\Users\\david\\Downloads\\THSHAREX-19c-1\\THSHAREX-19c-1\\20231023-20231029-inst2-dumpdir\\report_2_THSHAREX_77663_77664.html...\n"
     ]
    },
    {
     "name": "stderr",
     "output_type": "stream",
     "text": [
      " 57%|█████▋    | 379/670 [14:05<11:13,  2.31s/it]"
     ]
    },
    {
     "name": "stdout",
     "output_type": "stream",
     "text": [
      "Processing C:\\Users\\david\\Downloads\\THSHAREX-19c-1\\THSHAREX-19c-1\\20231023-20231029-inst2-dumpdir\\report_2_THSHAREX_77664_77665.html...\n"
     ]
    },
    {
     "name": "stderr",
     "output_type": "stream",
     "text": [
      " 57%|█████▋    | 380/670 [14:07<11:06,  2.30s/it]"
     ]
    },
    {
     "name": "stdout",
     "output_type": "stream",
     "text": [
      "Processing C:\\Users\\david\\Downloads\\THSHAREX-19c-1\\THSHAREX-19c-1\\20231023-20231029-inst2-dumpdir\\report_2_THSHAREX_77665_77666.html...\n"
     ]
    },
    {
     "name": "stderr",
     "output_type": "stream",
     "text": [
      " 57%|█████▋    | 381/670 [14:09<11:17,  2.35s/it]"
     ]
    },
    {
     "name": "stdout",
     "output_type": "stream",
     "text": [
      "Processing C:\\Users\\david\\Downloads\\THSHAREX-19c-1\\THSHAREX-19c-1\\20231023-20231029-inst2-dumpdir\\report_2_THSHAREX_77666_77667.html...\n"
     ]
    },
    {
     "name": "stderr",
     "output_type": "stream",
     "text": [
      " 57%|█████▋    | 382/670 [14:12<11:09,  2.33s/it]"
     ]
    },
    {
     "name": "stdout",
     "output_type": "stream",
     "text": [
      "Processing C:\\Users\\david\\Downloads\\THSHAREX-19c-1\\THSHAREX-19c-1\\20231023-20231029-inst2-dumpdir\\report_2_THSHAREX_77667_77668.html...\n"
     ]
    },
    {
     "name": "stderr",
     "output_type": "stream",
     "text": [
      " 57%|█████▋    | 383/670 [14:14<10:58,  2.29s/it]"
     ]
    },
    {
     "name": "stdout",
     "output_type": "stream",
     "text": [
      "Processing C:\\Users\\david\\Downloads\\THSHAREX-19c-1\\THSHAREX-19c-1\\20231023-20231029-inst2-dumpdir\\report_2_THSHAREX_77668_77669.html...\n"
     ]
    },
    {
     "name": "stderr",
     "output_type": "stream",
     "text": [
      " 57%|█████▋    | 384/670 [14:16<11:04,  2.32s/it]"
     ]
    },
    {
     "name": "stdout",
     "output_type": "stream",
     "text": [
      "Processing C:\\Users\\david\\Downloads\\THSHAREX-19c-1\\THSHAREX-19c-1\\20231023-20231029-inst2-dumpdir\\report_2_THSHAREX_77669_77670.html...\n"
     ]
    },
    {
     "name": "stderr",
     "output_type": "stream",
     "text": [
      " 57%|█████▋    | 385/670 [14:19<11:14,  2.37s/it]"
     ]
    },
    {
     "name": "stdout",
     "output_type": "stream",
     "text": [
      "Processing C:\\Users\\david\\Downloads\\THSHAREX-19c-1\\THSHAREX-19c-1\\20231023-20231029-inst2-dumpdir\\report_2_THSHAREX_77670_77671.html...\n"
     ]
    },
    {
     "name": "stderr",
     "output_type": "stream",
     "text": [
      " 58%|█████▊    | 386/670 [14:21<11:19,  2.39s/it]"
     ]
    },
    {
     "name": "stdout",
     "output_type": "stream",
     "text": [
      "Processing C:\\Users\\david\\Downloads\\THSHAREX-19c-1\\THSHAREX-19c-1\\20231023-20231029-inst2-dumpdir\\report_2_THSHAREX_77671_77672.html...\n"
     ]
    },
    {
     "name": "stderr",
     "output_type": "stream",
     "text": [
      " 58%|█████▊    | 387/670 [14:23<11:00,  2.33s/it]"
     ]
    },
    {
     "name": "stdout",
     "output_type": "stream",
     "text": [
      "Processing C:\\Users\\david\\Downloads\\THSHAREX-19c-1\\THSHAREX-19c-1\\20231023-20231029-inst2-dumpdir\\report_2_THSHAREX_77672_77673.html...\n"
     ]
    },
    {
     "name": "stderr",
     "output_type": "stream",
     "text": [
      " 58%|█████▊    | 388/670 [14:26<10:53,  2.32s/it]"
     ]
    },
    {
     "name": "stdout",
     "output_type": "stream",
     "text": [
      "Processing C:\\Users\\david\\Downloads\\THSHAREX-19c-1\\THSHAREX-19c-1\\20231023-20231029-inst2-dumpdir\\report_2_THSHAREX_77673_77674.html...\n"
     ]
    },
    {
     "name": "stderr",
     "output_type": "stream",
     "text": [
      " 58%|█████▊    | 389/670 [14:28<10:44,  2.29s/it]"
     ]
    },
    {
     "name": "stdout",
     "output_type": "stream",
     "text": [
      "Processing C:\\Users\\david\\Downloads\\THSHAREX-19c-1\\THSHAREX-19c-1\\20231023-20231029-inst2-dumpdir\\report_2_THSHAREX_77674_77675.html...\n"
     ]
    },
    {
     "name": "stderr",
     "output_type": "stream",
     "text": [
      " 58%|█████▊    | 390/670 [14:30<10:52,  2.33s/it]"
     ]
    },
    {
     "name": "stdout",
     "output_type": "stream",
     "text": [
      "Processing C:\\Users\\david\\Downloads\\THSHAREX-19c-1\\THSHAREX-19c-1\\20231023-20231029-inst2-dumpdir\\report_2_THSHAREX_77675_77676.html...\n"
     ]
    },
    {
     "name": "stderr",
     "output_type": "stream",
     "text": [
      " 58%|█████▊    | 391/670 [14:33<10:48,  2.33s/it]"
     ]
    },
    {
     "name": "stdout",
     "output_type": "stream",
     "text": [
      "Processing C:\\Users\\david\\Downloads\\THSHAREX-19c-1\\THSHAREX-19c-1\\20231023-20231029-inst2-dumpdir\\report_2_THSHAREX_77676_77677.html...\n"
     ]
    },
    {
     "name": "stderr",
     "output_type": "stream",
     "text": [
      " 59%|█████▊    | 392/670 [14:35<10:45,  2.32s/it]"
     ]
    },
    {
     "name": "stdout",
     "output_type": "stream",
     "text": [
      "Processing C:\\Users\\david\\Downloads\\THSHAREX-19c-1\\THSHAREX-19c-1\\20231023-20231029-inst2-dumpdir\\report_2_THSHAREX_77677_77678.html...\n"
     ]
    },
    {
     "name": "stderr",
     "output_type": "stream",
     "text": [
      " 59%|█████▊    | 393/670 [14:37<10:50,  2.35s/it]"
     ]
    },
    {
     "name": "stdout",
     "output_type": "stream",
     "text": [
      "Processing C:\\Users\\david\\Downloads\\THSHAREX-19c-1\\THSHAREX-19c-1\\20231023-20231029-inst2-dumpdir\\report_2_THSHAREX_77678_77679.html...\n"
     ]
    },
    {
     "name": "stderr",
     "output_type": "stream",
     "text": [
      " 59%|█████▉    | 394/670 [14:39<10:34,  2.30s/it]"
     ]
    },
    {
     "name": "stdout",
     "output_type": "stream",
     "text": [
      "Processing C:\\Users\\david\\Downloads\\THSHAREX-19c-1\\THSHAREX-19c-1\\20231023-20231029-inst2-dumpdir\\report_2_THSHAREX_77679_77680.html...\n"
     ]
    },
    {
     "name": "stderr",
     "output_type": "stream",
     "text": [
      " 59%|█████▉    | 395/670 [14:42<10:30,  2.29s/it]"
     ]
    },
    {
     "name": "stdout",
     "output_type": "stream",
     "text": [
      "Processing C:\\Users\\david\\Downloads\\THSHAREX-19c-1\\THSHAREX-19c-1\\20231023-20231029-inst2-dumpdir\\report_2_THSHAREX_77680_77681.html...\n"
     ]
    },
    {
     "name": "stderr",
     "output_type": "stream",
     "text": [
      " 59%|█████▉    | 396/670 [14:44<10:32,  2.31s/it]"
     ]
    },
    {
     "name": "stdout",
     "output_type": "stream",
     "text": [
      "Processing C:\\Users\\david\\Downloads\\THSHAREX-19c-1\\THSHAREX-19c-1\\20231023-20231029-inst2-dumpdir\\report_2_THSHAREX_77681_77682.html...\n"
     ]
    },
    {
     "name": "stderr",
     "output_type": "stream",
     "text": [
      " 59%|█████▉    | 397/670 [14:46<10:27,  2.30s/it]"
     ]
    },
    {
     "name": "stdout",
     "output_type": "stream",
     "text": [
      "Processing C:\\Users\\david\\Downloads\\THSHAREX-19c-1\\THSHAREX-19c-1\\20231023-20231029-inst2-dumpdir\\report_2_THSHAREX_77682_77683.html...\n"
     ]
    },
    {
     "name": "stderr",
     "output_type": "stream",
     "text": [
      " 59%|█████▉    | 398/670 [14:49<10:43,  2.37s/it]"
     ]
    },
    {
     "name": "stdout",
     "output_type": "stream",
     "text": [
      "Processing C:\\Users\\david\\Downloads\\THSHAREX-19c-1\\THSHAREX-19c-1\\20231023-20231029-inst2-dumpdir\\report_2_THSHAREX_77683_77684.html...\n"
     ]
    },
    {
     "name": "stderr",
     "output_type": "stream",
     "text": [
      " 60%|█████▉    | 399/670 [14:51<10:15,  2.27s/it]"
     ]
    },
    {
     "name": "stdout",
     "output_type": "stream",
     "text": [
      "Processing C:\\Users\\david\\Downloads\\THSHAREX-19c-1\\THSHAREX-19c-1\\20231023-20231029-inst2-dumpdir\\report_2_THSHAREX_77684_77685.html...\n"
     ]
    },
    {
     "name": "stderr",
     "output_type": "stream",
     "text": [
      " 60%|█████▉    | 400/670 [14:53<10:15,  2.28s/it]"
     ]
    },
    {
     "name": "stdout",
     "output_type": "stream",
     "text": [
      "Processing C:\\Users\\david\\Downloads\\THSHAREX-19c-1\\THSHAREX-19c-1\\20231023-20231029-inst2-dumpdir\\report_2_THSHAREX_77685_77686.html...\n"
     ]
    },
    {
     "name": "stderr",
     "output_type": "stream",
     "text": [
      " 60%|█████▉    | 401/670 [14:55<09:57,  2.22s/it]"
     ]
    },
    {
     "name": "stdout",
     "output_type": "stream",
     "text": [
      "Processing C:\\Users\\david\\Downloads\\THSHAREX-19c-1\\THSHAREX-19c-1\\20231023-20231029-inst2-dumpdir\\report_2_THSHAREX_77686_77687.html...\n"
     ]
    },
    {
     "name": "stderr",
     "output_type": "stream",
     "text": [
      " 60%|██████    | 402/670 [14:58<09:58,  2.23s/it]"
     ]
    },
    {
     "name": "stdout",
     "output_type": "stream",
     "text": [
      "Processing C:\\Users\\david\\Downloads\\THSHAREX-19c-1\\THSHAREX-19c-1\\20231023-20231029-inst2-dumpdir\\report_2_THSHAREX_77687_77688.html...\n"
     ]
    },
    {
     "name": "stderr",
     "output_type": "stream",
     "text": [
      " 60%|██████    | 403/670 [15:00<09:55,  2.23s/it]"
     ]
    },
    {
     "name": "stdout",
     "output_type": "stream",
     "text": [
      "Processing C:\\Users\\david\\Downloads\\THSHAREX-19c-1\\THSHAREX-19c-1\\20231023-20231029-inst2-dumpdir\\report_2_THSHAREX_77688_77689.html...\n"
     ]
    },
    {
     "name": "stderr",
     "output_type": "stream",
     "text": [
      " 60%|██████    | 404/670 [15:02<10:01,  2.26s/it]"
     ]
    },
    {
     "name": "stdout",
     "output_type": "stream",
     "text": [
      "Processing C:\\Users\\david\\Downloads\\THSHAREX-19c-1\\THSHAREX-19c-1\\20231023-20231029-inst2-dumpdir\\report_2_THSHAREX_77689_77690.html...\n"
     ]
    },
    {
     "name": "stderr",
     "output_type": "stream",
     "text": [
      " 60%|██████    | 405/670 [15:04<09:48,  2.22s/it]"
     ]
    },
    {
     "name": "stdout",
     "output_type": "stream",
     "text": [
      "Processing C:\\Users\\david\\Downloads\\THSHAREX-19c-1\\THSHAREX-19c-1\\20231023-20231029-inst2-dumpdir\\report_2_THSHAREX_77690_77691.html...\n"
     ]
    },
    {
     "name": "stderr",
     "output_type": "stream",
     "text": [
      " 61%|██████    | 406/670 [15:06<09:44,  2.21s/it]"
     ]
    },
    {
     "name": "stdout",
     "output_type": "stream",
     "text": [
      "Processing C:\\Users\\david\\Downloads\\THSHAREX-19c-1\\THSHAREX-19c-1\\20231023-20231029-inst2-dumpdir\\report_2_THSHAREX_77691_77692.html...\n"
     ]
    },
    {
     "name": "stderr",
     "output_type": "stream",
     "text": [
      " 61%|██████    | 407/670 [15:09<09:39,  2.20s/it]"
     ]
    },
    {
     "name": "stdout",
     "output_type": "stream",
     "text": [
      "Processing C:\\Users\\david\\Downloads\\THSHAREX-19c-1\\THSHAREX-19c-1\\20231023-20231029-inst2-dumpdir\\report_2_THSHAREX_77692_77693.html...\n"
     ]
    },
    {
     "name": "stderr",
     "output_type": "stream",
     "text": [
      " 61%|██████    | 408/670 [15:11<09:42,  2.22s/it]"
     ]
    },
    {
     "name": "stdout",
     "output_type": "stream",
     "text": [
      "Processing C:\\Users\\david\\Downloads\\THSHAREX-19c-1\\THSHAREX-19c-1\\20231023-20231029-inst2-dumpdir\\report_2_THSHAREX_77693_77694.html...\n"
     ]
    },
    {
     "name": "stderr",
     "output_type": "stream",
     "text": [
      " 61%|██████    | 409/670 [15:13<09:35,  2.21s/it]"
     ]
    },
    {
     "name": "stdout",
     "output_type": "stream",
     "text": [
      "Processing C:\\Users\\david\\Downloads\\THSHAREX-19c-1\\THSHAREX-19c-1\\20231023-20231029-inst2-dumpdir\\report_2_THSHAREX_77694_77695.html...\n"
     ]
    },
    {
     "name": "stderr",
     "output_type": "stream",
     "text": [
      " 61%|██████    | 410/670 [15:16<09:50,  2.27s/it]"
     ]
    },
    {
     "name": "stdout",
     "output_type": "stream",
     "text": [
      "Processing C:\\Users\\david\\Downloads\\THSHAREX-19c-1\\THSHAREX-19c-1\\20231023-20231029-inst2-dumpdir\\report_2_THSHAREX_77695_77696.html...\n"
     ]
    },
    {
     "name": "stderr",
     "output_type": "stream",
     "text": [
      " 61%|██████▏   | 411/670 [15:18<10:05,  2.34s/it]"
     ]
    },
    {
     "name": "stdout",
     "output_type": "stream",
     "text": [
      "Processing C:\\Users\\david\\Downloads\\THSHAREX-19c-1\\THSHAREX-19c-1\\20231023-20231029-inst2-dumpdir\\report_2_THSHAREX_77696_77697.html...\n"
     ]
    },
    {
     "name": "stderr",
     "output_type": "stream",
     "text": [
      " 61%|██████▏   | 412/670 [15:20<10:06,  2.35s/it]"
     ]
    },
    {
     "name": "stdout",
     "output_type": "stream",
     "text": [
      "Processing C:\\Users\\david\\Downloads\\THSHAREX-19c-1\\THSHAREX-19c-1\\20231023-20231029-inst2-dumpdir\\report_2_THSHAREX_77697_77698.html...\n"
     ]
    },
    {
     "name": "stderr",
     "output_type": "stream",
     "text": [
      " 62%|██████▏   | 413/670 [15:23<10:02,  2.34s/it]"
     ]
    },
    {
     "name": "stdout",
     "output_type": "stream",
     "text": [
      "Processing C:\\Users\\david\\Downloads\\THSHAREX-19c-1\\THSHAREX-19c-1\\20231023-20231029-inst2-dumpdir\\report_2_THSHAREX_77698_77699.html...\n"
     ]
    },
    {
     "name": "stderr",
     "output_type": "stream",
     "text": [
      " 62%|██████▏   | 414/670 [15:25<10:00,  2.35s/it]"
     ]
    },
    {
     "name": "stdout",
     "output_type": "stream",
     "text": [
      "Processing C:\\Users\\david\\Downloads\\THSHAREX-19c-1\\THSHAREX-19c-1\\20231023-20231029-inst2-dumpdir\\report_2_THSHAREX_77699_77700.html...\n"
     ]
    },
    {
     "name": "stderr",
     "output_type": "stream",
     "text": [
      " 62%|██████▏   | 415/670 [15:27<09:47,  2.30s/it]"
     ]
    },
    {
     "name": "stdout",
     "output_type": "stream",
     "text": [
      "Processing C:\\Users\\david\\Downloads\\THSHAREX-19c-1\\THSHAREX-19c-1\\20231023-20231029-inst2-dumpdir\\report_2_THSHAREX_77700_77701.html...\n"
     ]
    },
    {
     "name": "stderr",
     "output_type": "stream",
     "text": [
      " 62%|██████▏   | 416/670 [15:30<09:53,  2.34s/it]"
     ]
    },
    {
     "name": "stdout",
     "output_type": "stream",
     "text": [
      "Processing C:\\Users\\david\\Downloads\\THSHAREX-19c-1\\THSHAREX-19c-1\\20231023-20231029-inst2-dumpdir\\report_2_THSHAREX_77701_77702.html...\n"
     ]
    },
    {
     "name": "stderr",
     "output_type": "stream",
     "text": [
      " 62%|██████▏   | 417/670 [15:32<10:05,  2.39s/it]"
     ]
    },
    {
     "name": "stdout",
     "output_type": "stream",
     "text": [
      "Processing C:\\Users\\david\\Downloads\\THSHAREX-19c-1\\THSHAREX-19c-1\\20231023-20231029-inst2-dumpdir\\report_2_THSHAREX_77702_77703.html...\n"
     ]
    },
    {
     "name": "stderr",
     "output_type": "stream",
     "text": [
      " 62%|██████▏   | 418/670 [15:35<10:24,  2.48s/it]"
     ]
    },
    {
     "name": "stdout",
     "output_type": "stream",
     "text": [
      "Processing C:\\Users\\david\\Downloads\\THSHAREX-19c-1\\THSHAREX-19c-1\\20231023-20231029-inst2-dumpdir\\report_2_THSHAREX_77703_77704.html...\n"
     ]
    },
    {
     "name": "stderr",
     "output_type": "stream",
     "text": [
      " 63%|██████▎   | 419/670 [15:38<10:55,  2.61s/it]"
     ]
    },
    {
     "name": "stdout",
     "output_type": "stream",
     "text": [
      "Processing C:\\Users\\david\\Downloads\\THSHAREX-19c-1\\THSHAREX-19c-1\\20231023-20231029-inst2-dumpdir\\report_2_THSHAREX_77704_77705.html...\n"
     ]
    },
    {
     "name": "stderr",
     "output_type": "stream",
     "text": [
      " 63%|██████▎   | 420/670 [15:40<10:49,  2.60s/it]"
     ]
    },
    {
     "name": "stdout",
     "output_type": "stream",
     "text": [
      "Processing C:\\Users\\david\\Downloads\\THSHAREX-19c-1\\THSHAREX-19c-1\\20231023-20231029-inst2-dumpdir\\report_2_THSHAREX_77705_77706.html...\n"
     ]
    },
    {
     "name": "stderr",
     "output_type": "stream",
     "text": [
      " 63%|██████▎   | 421/670 [15:43<11:07,  2.68s/it]"
     ]
    },
    {
     "name": "stdout",
     "output_type": "stream",
     "text": [
      "Processing C:\\Users\\david\\Downloads\\THSHAREX-19c-1\\THSHAREX-19c-1\\20231023-20231029-inst2-dumpdir\\report_2_THSHAREX_77706_77707.html...\n"
     ]
    },
    {
     "name": "stderr",
     "output_type": "stream",
     "text": [
      " 63%|██████▎   | 422/670 [15:45<10:27,  2.53s/it]"
     ]
    },
    {
     "name": "stdout",
     "output_type": "stream",
     "text": [
      "Processing C:\\Users\\david\\Downloads\\THSHAREX-19c-1\\THSHAREX-19c-1\\20231023-20231029-inst2-dumpdir\\report_2_THSHAREX_77707_77708.html...\n"
     ]
    },
    {
     "name": "stderr",
     "output_type": "stream",
     "text": [
      " 63%|██████▎   | 423/670 [15:48<10:10,  2.47s/it]"
     ]
    },
    {
     "name": "stdout",
     "output_type": "stream",
     "text": [
      "Processing C:\\Users\\david\\Downloads\\THSHAREX-19c-1\\THSHAREX-19c-1\\20231023-20231029-inst2-dumpdir\\report_2_THSHAREX_77708_77709.html...\n"
     ]
    },
    {
     "name": "stderr",
     "output_type": "stream",
     "text": [
      " 63%|██████▎   | 424/670 [15:50<10:12,  2.49s/it]"
     ]
    },
    {
     "name": "stdout",
     "output_type": "stream",
     "text": [
      "Processing C:\\Users\\david\\Downloads\\THSHAREX-19c-1\\THSHAREX-19c-1\\20231023-20231029-inst2-dumpdir\\report_2_THSHAREX_77709_77710.html...\n"
     ]
    },
    {
     "name": "stderr",
     "output_type": "stream",
     "text": [
      " 63%|██████▎   | 425/670 [15:52<09:47,  2.40s/it]"
     ]
    },
    {
     "name": "stdout",
     "output_type": "stream",
     "text": [
      "Processing C:\\Users\\david\\Downloads\\THSHAREX-19c-1\\THSHAREX-19c-1\\20231023-20231029-inst2-dumpdir\\report_2_THSHAREX_77710_77711.html...\n"
     ]
    },
    {
     "name": "stderr",
     "output_type": "stream",
     "text": [
      " 64%|██████▎   | 426/670 [15:55<09:22,  2.31s/it]"
     ]
    },
    {
     "name": "stdout",
     "output_type": "stream",
     "text": [
      "Processing C:\\Users\\david\\Downloads\\THSHAREX-19c-1\\THSHAREX-19c-1\\20231023-20231029-inst2-dumpdir\\report_2_THSHAREX_77711_77712.html...\n"
     ]
    },
    {
     "name": "stderr",
     "output_type": "stream",
     "text": [
      " 64%|██████▎   | 427/670 [15:57<09:14,  2.28s/it]"
     ]
    },
    {
     "name": "stdout",
     "output_type": "stream",
     "text": [
      "Processing C:\\Users\\david\\Downloads\\THSHAREX-19c-1\\THSHAREX-19c-1\\20231023-20231029-inst2-dumpdir\\report_2_THSHAREX_77712_77713.html...\n"
     ]
    },
    {
     "name": "stderr",
     "output_type": "stream",
     "text": [
      " 64%|██████▍   | 428/670 [15:59<09:06,  2.26s/it]"
     ]
    },
    {
     "name": "stdout",
     "output_type": "stream",
     "text": [
      "Processing C:\\Users\\david\\Downloads\\THSHAREX-19c-1\\THSHAREX-19c-1\\20231023-20231029-inst2-dumpdir\\report_2_THSHAREX_77713_77714.html...\n"
     ]
    },
    {
     "name": "stderr",
     "output_type": "stream",
     "text": [
      " 64%|██████▍   | 429/670 [16:02<09:41,  2.41s/it]"
     ]
    },
    {
     "name": "stdout",
     "output_type": "stream",
     "text": [
      "Processing C:\\Users\\david\\Downloads\\THSHAREX-19c-1\\THSHAREX-19c-1\\20231023-20231029-inst2-dumpdir\\report_2_THSHAREX_77714_77715.html...\n"
     ]
    },
    {
     "name": "stderr",
     "output_type": "stream",
     "text": [
      " 64%|██████▍   | 430/670 [16:04<09:32,  2.39s/it]"
     ]
    },
    {
     "name": "stdout",
     "output_type": "stream",
     "text": [
      "Processing C:\\Users\\david\\Downloads\\THSHAREX-19c-1\\THSHAREX-19c-1\\20231023-20231029-inst2-dumpdir\\report_2_THSHAREX_77715_77716.html...\n"
     ]
    },
    {
     "name": "stderr",
     "output_type": "stream",
     "text": [
      " 64%|██████▍   | 431/670 [16:06<09:16,  2.33s/it]"
     ]
    },
    {
     "name": "stdout",
     "output_type": "stream",
     "text": [
      "Processing C:\\Users\\david\\Downloads\\THSHAREX-19c-1\\THSHAREX-19c-1\\20231023-20231029-inst2-dumpdir\\report_2_THSHAREX_77716_77717.html...\n"
     ]
    },
    {
     "name": "stderr",
     "output_type": "stream",
     "text": [
      " 64%|██████▍   | 432/670 [16:09<09:17,  2.34s/it]"
     ]
    },
    {
     "name": "stdout",
     "output_type": "stream",
     "text": [
      "Processing C:\\Users\\david\\Downloads\\THSHAREX-19c-1\\THSHAREX-19c-1\\20231023-20231029-inst2-dumpdir\\report_2_THSHAREX_77717_77718.html...\n"
     ]
    },
    {
     "name": "stderr",
     "output_type": "stream",
     "text": [
      " 65%|██████▍   | 433/670 [16:11<09:00,  2.28s/it]"
     ]
    },
    {
     "name": "stdout",
     "output_type": "stream",
     "text": [
      "Processing C:\\Users\\david\\Downloads\\THSHAREX-19c-1\\THSHAREX-19c-1\\20231023-20231029-inst2-dumpdir\\report_2_THSHAREX_77718_77719.html...\n"
     ]
    },
    {
     "name": "stderr",
     "output_type": "stream",
     "text": [
      " 65%|██████▍   | 434/670 [16:13<08:59,  2.29s/it]"
     ]
    },
    {
     "name": "stdout",
     "output_type": "stream",
     "text": [
      "Processing C:\\Users\\david\\Downloads\\THSHAREX-19c-1\\THSHAREX-19c-1\\20231023-20231029-inst2-dumpdir\\report_2_THSHAREX_77719_77720.html...\n"
     ]
    },
    {
     "name": "stderr",
     "output_type": "stream",
     "text": [
      " 65%|██████▍   | 435/670 [16:15<08:54,  2.28s/it]"
     ]
    },
    {
     "name": "stdout",
     "output_type": "stream",
     "text": [
      "Processing C:\\Users\\david\\Downloads\\THSHAREX-19c-1\\THSHAREX-19c-1\\20231023-20231029-inst2-dumpdir\\report_2_THSHAREX_77720_77721.html...\n"
     ]
    },
    {
     "name": "stderr",
     "output_type": "stream",
     "text": [
      " 65%|██████▌   | 436/670 [16:18<08:43,  2.24s/it]"
     ]
    },
    {
     "name": "stdout",
     "output_type": "stream",
     "text": [
      "Processing C:\\Users\\david\\Downloads\\THSHAREX-19c-1\\THSHAREX-19c-1\\20231023-20231029-inst2-dumpdir\\report_2_THSHAREX_77721_77722.html...\n"
     ]
    },
    {
     "name": "stderr",
     "output_type": "stream",
     "text": [
      " 65%|██████▌   | 437/670 [16:20<09:07,  2.35s/it]"
     ]
    },
    {
     "name": "stdout",
     "output_type": "stream",
     "text": [
      "Processing C:\\Users\\david\\Downloads\\THSHAREX-19c-1\\THSHAREX-19c-1\\20231023-20231029-inst2-dumpdir\\report_2_THSHAREX_77722_77723.html...\n"
     ]
    },
    {
     "name": "stderr",
     "output_type": "stream",
     "text": [
      " 65%|██████▌   | 438/670 [16:22<08:51,  2.29s/it]"
     ]
    },
    {
     "name": "stdout",
     "output_type": "stream",
     "text": [
      "Processing C:\\Users\\david\\Downloads\\THSHAREX-19c-1\\THSHAREX-19c-1\\20231023-20231029-inst2-dumpdir\\report_2_THSHAREX_77723_77724.html...\n"
     ]
    },
    {
     "name": "stderr",
     "output_type": "stream",
     "text": [
      " 66%|██████▌   | 439/670 [16:25<08:53,  2.31s/it]"
     ]
    },
    {
     "name": "stdout",
     "output_type": "stream",
     "text": [
      "Processing C:\\Users\\david\\Downloads\\THSHAREX-19c-1\\THSHAREX-19c-1\\20231023-20231029-inst2-dumpdir\\report_2_THSHAREX_77724_77725.html...\n"
     ]
    },
    {
     "name": "stderr",
     "output_type": "stream",
     "text": [
      " 66%|██████▌   | 440/670 [16:27<09:01,  2.35s/it]"
     ]
    },
    {
     "name": "stdout",
     "output_type": "stream",
     "text": [
      "Processing C:\\Users\\david\\Downloads\\THSHAREX-19c-1\\THSHAREX-19c-1\\20231023-20231029-inst2-dumpdir\\report_2_THSHAREX_77725_77726.html...\n"
     ]
    },
    {
     "name": "stderr",
     "output_type": "stream",
     "text": [
      " 66%|██████▌   | 441/670 [16:29<08:49,  2.31s/it]"
     ]
    },
    {
     "name": "stdout",
     "output_type": "stream",
     "text": [
      "Processing C:\\Users\\david\\Downloads\\THSHAREX-19c-1\\THSHAREX-19c-1\\20231023-20231029-inst2-dumpdir\\report_2_THSHAREX_77726_77727.html...\n"
     ]
    },
    {
     "name": "stderr",
     "output_type": "stream",
     "text": [
      " 66%|██████▌   | 442/670 [16:31<08:36,  2.26s/it]"
     ]
    },
    {
     "name": "stdout",
     "output_type": "stream",
     "text": [
      "Processing C:\\Users\\david\\Downloads\\THSHAREX-19c-1\\THSHAREX-19c-1\\20231023-20231029-inst2-dumpdir\\report_2_THSHAREX_77727_77728.html...\n"
     ]
    },
    {
     "name": "stderr",
     "output_type": "stream",
     "text": [
      " 66%|██████▌   | 443/670 [16:34<08:30,  2.25s/it]"
     ]
    },
    {
     "name": "stdout",
     "output_type": "stream",
     "text": [
      "Processing C:\\Users\\david\\Downloads\\THSHAREX-19c-1\\THSHAREX-19c-1\\20231023-20231029-inst2-dumpdir\\report_2_THSHAREX_77728_77729.html...\n"
     ]
    },
    {
     "name": "stderr",
     "output_type": "stream",
     "text": [
      " 66%|██████▋   | 444/670 [16:36<08:24,  2.23s/it]"
     ]
    },
    {
     "name": "stdout",
     "output_type": "stream",
     "text": [
      "Processing C:\\Users\\david\\Downloads\\THSHAREX-19c-1\\THSHAREX-19c-1\\20231023-20231029-inst2-dumpdir\\report_2_THSHAREX_77729_77730.html...\n"
     ]
    },
    {
     "name": "stderr",
     "output_type": "stream",
     "text": [
      " 66%|██████▋   | 445/670 [16:38<08:32,  2.28s/it]"
     ]
    },
    {
     "name": "stdout",
     "output_type": "stream",
     "text": [
      "Processing C:\\Users\\david\\Downloads\\THSHAREX-19c-1\\THSHAREX-19c-1\\20231023-20231029-inst2-dumpdir\\report_2_THSHAREX_77730_77731.html...\n"
     ]
    },
    {
     "name": "stderr",
     "output_type": "stream",
     "text": [
      " 67%|██████▋   | 446/670 [16:41<08:34,  2.29s/it]"
     ]
    },
    {
     "name": "stdout",
     "output_type": "stream",
     "text": [
      "Processing C:\\Users\\david\\Downloads\\THSHAREX-19c-1\\THSHAREX-19c-1\\20231023-20231029-inst2-dumpdir\\report_2_THSHAREX_77731_77732.html...\n"
     ]
    },
    {
     "name": "stderr",
     "output_type": "stream",
     "text": [
      " 67%|██████▋   | 447/670 [16:43<08:23,  2.26s/it]"
     ]
    },
    {
     "name": "stdout",
     "output_type": "stream",
     "text": [
      "Processing C:\\Users\\david\\Downloads\\THSHAREX-19c-1\\THSHAREX-19c-1\\20231023-20231029-inst2-dumpdir\\report_2_THSHAREX_77732_77733.html...\n"
     ]
    },
    {
     "name": "stderr",
     "output_type": "stream",
     "text": [
      " 67%|██████▋   | 448/670 [16:45<08:44,  2.36s/it]"
     ]
    },
    {
     "name": "stdout",
     "output_type": "stream",
     "text": [
      "Processing C:\\Users\\david\\Downloads\\THSHAREX-19c-1\\THSHAREX-19c-1\\20231023-20231029-inst2-dumpdir\\report_2_THSHAREX_77733_77734.html...\n"
     ]
    },
    {
     "name": "stderr",
     "output_type": "stream",
     "text": [
      " 67%|██████▋   | 449/670 [16:48<08:52,  2.41s/it]"
     ]
    },
    {
     "name": "stdout",
     "output_type": "stream",
     "text": [
      "Processing C:\\Users\\david\\Downloads\\THSHAREX-19c-1\\THSHAREX-19c-1\\20231023-20231029-inst2-dumpdir\\report_2_THSHAREX_77734_77735.html...\n"
     ]
    },
    {
     "name": "stderr",
     "output_type": "stream",
     "text": [
      " 67%|██████▋   | 450/670 [16:50<08:58,  2.45s/it]"
     ]
    },
    {
     "name": "stdout",
     "output_type": "stream",
     "text": [
      "Processing C:\\Users\\david\\Downloads\\THSHAREX-19c-1\\THSHAREX-19c-1\\20231023-20231029-inst2-dumpdir\\report_2_THSHAREX_77735_77736.html...\n"
     ]
    },
    {
     "name": "stderr",
     "output_type": "stream",
     "text": [
      " 67%|██████▋   | 451/670 [16:53<09:02,  2.48s/it]"
     ]
    },
    {
     "name": "stdout",
     "output_type": "stream",
     "text": [
      "Processing C:\\Users\\david\\Downloads\\THSHAREX-19c-1\\THSHAREX-19c-1\\20231023-20231029-inst2-dumpdir\\report_2_THSHAREX_77736_77737.html...\n"
     ]
    },
    {
     "name": "stderr",
     "output_type": "stream",
     "text": [
      " 67%|██████▋   | 452/670 [16:55<08:50,  2.43s/it]"
     ]
    },
    {
     "name": "stdout",
     "output_type": "stream",
     "text": [
      "Processing C:\\Users\\david\\Downloads\\THSHAREX-19c-1\\THSHAREX-19c-1\\20231023-20231029-inst2-dumpdir\\report_2_THSHAREX_77737_77738.html...\n"
     ]
    },
    {
     "name": "stderr",
     "output_type": "stream",
     "text": [
      " 68%|██████▊   | 453/670 [16:58<08:53,  2.46s/it]"
     ]
    },
    {
     "name": "stdout",
     "output_type": "stream",
     "text": [
      "Processing C:\\Users\\david\\Downloads\\THSHAREX-19c-1\\THSHAREX-19c-1\\20231023-20231029-inst2-dumpdir\\report_2_THSHAREX_77738_77739.html...\n"
     ]
    },
    {
     "name": "stderr",
     "output_type": "stream",
     "text": [
      " 68%|██████▊   | 454/670 [17:00<08:31,  2.37s/it]"
     ]
    },
    {
     "name": "stdout",
     "output_type": "stream",
     "text": [
      "Processing C:\\Users\\david\\Downloads\\THSHAREX-19c-1\\THSHAREX-19c-1\\20231023-20231029-inst2-dumpdir\\report_2_THSHAREX_77739_77740.html...\n"
     ]
    },
    {
     "name": "stderr",
     "output_type": "stream",
     "text": [
      " 68%|██████▊   | 455/670 [17:02<08:19,  2.32s/it]"
     ]
    },
    {
     "name": "stdout",
     "output_type": "stream",
     "text": [
      "Processing C:\\Users\\david\\Downloads\\THSHAREX-19c-1\\THSHAREX-19c-1\\20231023-20231029-inst2-dumpdir\\report_2_THSHAREX_77740_77741.html...\n"
     ]
    },
    {
     "name": "stderr",
     "output_type": "stream",
     "text": [
      " 68%|██████▊   | 456/670 [17:04<08:10,  2.29s/it]"
     ]
    },
    {
     "name": "stdout",
     "output_type": "stream",
     "text": [
      "Processing C:\\Users\\david\\Downloads\\THSHAREX-19c-1\\THSHAREX-19c-1\\20231023-20231029-inst2-dumpdir\\report_2_THSHAREX_77741_77742.html...\n"
     ]
    },
    {
     "name": "stderr",
     "output_type": "stream",
     "text": [
      " 68%|██████▊   | 457/670 [17:07<08:01,  2.26s/it]"
     ]
    },
    {
     "name": "stdout",
     "output_type": "stream",
     "text": [
      "Processing C:\\Users\\david\\Downloads\\THSHAREX-19c-1\\THSHAREX-19c-1\\20231023-20231029-inst2-dumpdir\\report_2_THSHAREX_77742_77743.html...\n"
     ]
    },
    {
     "name": "stderr",
     "output_type": "stream",
     "text": [
      " 68%|██████▊   | 458/670 [17:09<08:00,  2.27s/it]"
     ]
    },
    {
     "name": "stdout",
     "output_type": "stream",
     "text": [
      "Processing C:\\Users\\david\\Downloads\\THSHAREX-19c-1\\THSHAREX-19c-1\\20231023-20231029-inst2-dumpdir\\report_2_THSHAREX_77743_77744.html...\n"
     ]
    },
    {
     "name": "stderr",
     "output_type": "stream",
     "text": [
      " 69%|██████▊   | 459/670 [17:11<07:50,  2.23s/it]"
     ]
    },
    {
     "name": "stdout",
     "output_type": "stream",
     "text": [
      "Processing C:\\Users\\david\\Downloads\\THSHAREX-19c-1\\THSHAREX-19c-1\\20231023-20231029-inst2-dumpdir\\report_2_THSHAREX_77744_77745.html...\n"
     ]
    },
    {
     "name": "stderr",
     "output_type": "stream",
     "text": [
      " 69%|██████▊   | 460/670 [17:13<07:52,  2.25s/it]"
     ]
    },
    {
     "name": "stdout",
     "output_type": "stream",
     "text": [
      "Processing C:\\Users\\david\\Downloads\\THSHAREX-19c-1\\THSHAREX-19c-1\\20231023-20231029-inst2-dumpdir\\report_2_THSHAREX_77745_77746.html...\n"
     ]
    },
    {
     "name": "stderr",
     "output_type": "stream",
     "text": [
      " 69%|██████▉   | 461/670 [17:16<07:49,  2.24s/it]"
     ]
    },
    {
     "name": "stdout",
     "output_type": "stream",
     "text": [
      "Processing C:\\Users\\david\\Downloads\\THSHAREX-19c-1\\THSHAREX-19c-1\\20231023-20231029-inst2-dumpdir\\report_2_THSHAREX_77746_77747.html...\n"
     ]
    },
    {
     "name": "stderr",
     "output_type": "stream",
     "text": [
      " 69%|██████▉   | 462/670 [17:18<07:40,  2.21s/it]"
     ]
    },
    {
     "name": "stdout",
     "output_type": "stream",
     "text": [
      "Processing C:\\Users\\david\\Downloads\\THSHAREX-19c-1\\THSHAREX-19c-1\\20231023-20231029-inst2-dumpdir\\report_2_THSHAREX_77747_77748.html...\n"
     ]
    },
    {
     "name": "stderr",
     "output_type": "stream",
     "text": [
      " 69%|██████▉   | 463/670 [17:20<07:48,  2.26s/it]"
     ]
    },
    {
     "name": "stdout",
     "output_type": "stream",
     "text": [
      "Processing C:\\Users\\david\\Downloads\\THSHAREX-19c-1\\THSHAREX-19c-1\\20231023-20231029-inst2-dumpdir\\report_2_THSHAREX_77748_77749.html...\n"
     ]
    },
    {
     "name": "stderr",
     "output_type": "stream",
     "text": [
      " 69%|██████▉   | 464/670 [17:22<07:54,  2.30s/it]"
     ]
    },
    {
     "name": "stdout",
     "output_type": "stream",
     "text": [
      "Processing C:\\Users\\david\\Downloads\\THSHAREX-19c-1\\THSHAREX-19c-1\\20231023-20231029-inst2-dumpdir\\report_2_THSHAREX_77749_77750.html...\n"
     ]
    },
    {
     "name": "stderr",
     "output_type": "stream",
     "text": [
      " 69%|██████▉   | 465/670 [17:25<07:42,  2.26s/it]"
     ]
    },
    {
     "name": "stdout",
     "output_type": "stream",
     "text": [
      "Processing C:\\Users\\david\\Downloads\\THSHAREX-19c-1\\THSHAREX-19c-1\\20231023-20231029-inst2-dumpdir\\report_2_THSHAREX_77750_77751.html...\n"
     ]
    },
    {
     "name": "stderr",
     "output_type": "stream",
     "text": [
      " 70%|██████▉   | 466/670 [17:27<07:48,  2.30s/it]"
     ]
    },
    {
     "name": "stdout",
     "output_type": "stream",
     "text": [
      "Processing C:\\Users\\david\\Downloads\\THSHAREX-19c-1\\THSHAREX-19c-1\\20231023-20231029-inst2-dumpdir\\report_2_THSHAREX_77751_77752.html...\n"
     ]
    },
    {
     "name": "stderr",
     "output_type": "stream",
     "text": [
      " 70%|██████▉   | 467/670 [17:29<07:46,  2.30s/it]"
     ]
    },
    {
     "name": "stdout",
     "output_type": "stream",
     "text": [
      "Processing C:\\Users\\david\\Downloads\\THSHAREX-19c-1\\THSHAREX-19c-1\\20231023-20231029-inst2-dumpdir\\report_2_THSHAREX_77752_77753.html...\n"
     ]
    },
    {
     "name": "stderr",
     "output_type": "stream",
     "text": [
      " 70%|██████▉   | 468/670 [17:32<07:56,  2.36s/it]"
     ]
    },
    {
     "name": "stdout",
     "output_type": "stream",
     "text": [
      "Processing C:\\Users\\david\\Downloads\\THSHAREX-19c-1\\THSHAREX-19c-1\\20231023-20231029-inst2-dumpdir\\report_2_THSHAREX_77753_77754.html...\n"
     ]
    },
    {
     "name": "stderr",
     "output_type": "stream",
     "text": [
      " 70%|███████   | 469/670 [17:34<07:59,  2.39s/it]"
     ]
    },
    {
     "name": "stdout",
     "output_type": "stream",
     "text": [
      "Processing C:\\Users\\david\\Downloads\\THSHAREX-19c-1\\THSHAREX-19c-1\\20231023-20231029-inst2-dumpdir\\report_2_THSHAREX_77754_77755.html...\n"
     ]
    },
    {
     "name": "stderr",
     "output_type": "stream",
     "text": [
      " 70%|███████   | 470/670 [17:37<07:49,  2.35s/it]"
     ]
    },
    {
     "name": "stdout",
     "output_type": "stream",
     "text": [
      "Processing C:\\Users\\david\\Downloads\\THSHAREX-19c-1\\THSHAREX-19c-1\\20231023-20231029-inst2-dumpdir\\report_2_THSHAREX_77755_77756.html...\n"
     ]
    },
    {
     "name": "stderr",
     "output_type": "stream",
     "text": [
      " 70%|███████   | 471/670 [17:39<07:59,  2.41s/it]"
     ]
    },
    {
     "name": "stdout",
     "output_type": "stream",
     "text": [
      "Processing C:\\Users\\david\\Downloads\\THSHAREX-19c-1\\THSHAREX-19c-1\\20231023-20231029-inst2-dumpdir\\report_2_THSHAREX_77756_77757.html...\n"
     ]
    },
    {
     "name": "stderr",
     "output_type": "stream",
     "text": [
      " 70%|███████   | 472/670 [17:42<07:59,  2.42s/it]"
     ]
    },
    {
     "name": "stdout",
     "output_type": "stream",
     "text": [
      "Processing C:\\Users\\david\\Downloads\\THSHAREX-19c-1\\THSHAREX-19c-1\\20231023-20231029-inst2-dumpdir\\report_2_THSHAREX_77757_77758.html...\n"
     ]
    },
    {
     "name": "stderr",
     "output_type": "stream",
     "text": [
      " 71%|███████   | 473/670 [17:44<07:59,  2.43s/it]"
     ]
    },
    {
     "name": "stdout",
     "output_type": "stream",
     "text": [
      "Processing C:\\Users\\david\\Downloads\\THSHAREX-19c-1\\THSHAREX-19c-1\\20231023-20231029-inst2-dumpdir\\report_2_THSHAREX_77758_77759.html...\n"
     ]
    },
    {
     "name": "stderr",
     "output_type": "stream",
     "text": [
      " 71%|███████   | 474/670 [17:47<08:34,  2.63s/it]"
     ]
    },
    {
     "name": "stdout",
     "output_type": "stream",
     "text": [
      "Processing C:\\Users\\david\\Downloads\\THSHAREX-19c-1\\THSHAREX-19c-1\\20231023-20231029-inst2-dumpdir\\report_2_THSHAREX_77759_77760.html...\n"
     ]
    },
    {
     "name": "stderr",
     "output_type": "stream",
     "text": [
      " 71%|███████   | 475/670 [17:49<08:15,  2.54s/it]"
     ]
    },
    {
     "name": "stdout",
     "output_type": "stream",
     "text": [
      "Processing C:\\Users\\david\\Downloads\\THSHAREX-19c-1\\THSHAREX-19c-1\\20231023-20231029-inst2-dumpdir\\report_2_THSHAREX_77760_77761.html...\n"
     ]
    },
    {
     "name": "stderr",
     "output_type": "stream",
     "text": [
      " 71%|███████   | 476/670 [17:51<07:47,  2.41s/it]"
     ]
    },
    {
     "name": "stdout",
     "output_type": "stream",
     "text": [
      "Processing C:\\Users\\david\\Downloads\\THSHAREX-19c-1\\THSHAREX-19c-1\\20231023-20231029-inst2-dumpdir\\report_2_THSHAREX_77761_77762.html...\n"
     ]
    },
    {
     "name": "stderr",
     "output_type": "stream",
     "text": [
      " 71%|███████   | 477/670 [17:54<07:39,  2.38s/it]"
     ]
    },
    {
     "name": "stdout",
     "output_type": "stream",
     "text": [
      "Processing C:\\Users\\david\\Downloads\\THSHAREX-19c-1\\THSHAREX-19c-1\\20231023-20231029-inst2-dumpdir\\report_2_THSHAREX_77762_77763.html...\n"
     ]
    },
    {
     "name": "stderr",
     "output_type": "stream",
     "text": [
      " 71%|███████▏  | 478/670 [17:56<07:22,  2.30s/it]"
     ]
    },
    {
     "name": "stdout",
     "output_type": "stream",
     "text": [
      "Processing C:\\Users\\david\\Downloads\\THSHAREX-19c-1\\THSHAREX-19c-1\\20231023-20231029-inst2-dumpdir\\report_2_THSHAREX_77763_77764.html...\n"
     ]
    },
    {
     "name": "stderr",
     "output_type": "stream",
     "text": [
      " 71%|███████▏  | 479/670 [17:58<07:25,  2.33s/it]"
     ]
    },
    {
     "name": "stdout",
     "output_type": "stream",
     "text": [
      "Processing C:\\Users\\david\\Downloads\\THSHAREX-19c-1\\THSHAREX-19c-1\\20231023-20231029-inst2-dumpdir\\report_2_THSHAREX_77764_77765.html...\n"
     ]
    },
    {
     "name": "stderr",
     "output_type": "stream",
     "text": [
      " 72%|███████▏  | 480/670 [18:00<07:10,  2.27s/it]"
     ]
    },
    {
     "name": "stdout",
     "output_type": "stream",
     "text": [
      "Processing C:\\Users\\david\\Downloads\\THSHAREX-19c-1\\THSHAREX-19c-1\\20231023-20231029-inst2-dumpdir\\report_2_THSHAREX_77765_77766.html...\n"
     ]
    },
    {
     "name": "stderr",
     "output_type": "stream",
     "text": [
      " 72%|███████▏  | 481/670 [18:03<07:21,  2.33s/it]"
     ]
    },
    {
     "name": "stdout",
     "output_type": "stream",
     "text": [
      "Processing C:\\Users\\david\\Downloads\\THSHAREX-19c-1\\THSHAREX-19c-1\\20231023-20231029-inst2-dumpdir\\report_2_THSHAREX_77766_77767.html...\n"
     ]
    },
    {
     "name": "stderr",
     "output_type": "stream",
     "text": [
      " 72%|███████▏  | 482/670 [18:05<07:06,  2.27s/it]"
     ]
    },
    {
     "name": "stdout",
     "output_type": "stream",
     "text": [
      "Processing C:\\Users\\david\\Downloads\\THSHAREX-19c-1\\THSHAREX-19c-1\\20231023-20231029-inst2-dumpdir\\report_2_THSHAREX_77767_77768.html...\n"
     ]
    },
    {
     "name": "stderr",
     "output_type": "stream",
     "text": [
      " 72%|███████▏  | 483/670 [18:07<07:04,  2.27s/it]"
     ]
    },
    {
     "name": "stdout",
     "output_type": "stream",
     "text": [
      "Processing C:\\Users\\david\\Downloads\\THSHAREX-19c-1\\THSHAREX-19c-1\\20231023-20231029-inst2-dumpdir\\report_2_THSHAREX_77768_77769.html...\n"
     ]
    },
    {
     "name": "stderr",
     "output_type": "stream",
     "text": [
      " 72%|███████▏  | 484/670 [18:09<06:53,  2.22s/it]"
     ]
    },
    {
     "name": "stdout",
     "output_type": "stream",
     "text": [
      "Processing C:\\Users\\david\\Downloads\\THSHAREX-19c-1\\THSHAREX-19c-1\\20231023-20231029-inst2-dumpdir\\report_2_THSHAREX_77769_77770.html...\n"
     ]
    },
    {
     "name": "stderr",
     "output_type": "stream",
     "text": [
      " 72%|███████▏  | 485/670 [18:12<06:56,  2.25s/it]"
     ]
    },
    {
     "name": "stdout",
     "output_type": "stream",
     "text": [
      "Processing C:\\Users\\david\\Downloads\\THSHAREX-19c-1\\THSHAREX-19c-1\\20231023-20231029-inst2-dumpdir\\report_2_THSHAREX_77770_77771.html...\n"
     ]
    },
    {
     "name": "stderr",
     "output_type": "stream",
     "text": [
      " 73%|███████▎  | 486/670 [18:14<06:48,  2.22s/it]"
     ]
    },
    {
     "name": "stdout",
     "output_type": "stream",
     "text": [
      "Processing C:\\Users\\david\\Downloads\\THSHAREX-19c-1\\THSHAREX-19c-1\\20231023-20231029-inst2-dumpdir\\report_2_THSHAREX_77771_77772.html...\n"
     ]
    },
    {
     "name": "stderr",
     "output_type": "stream",
     "text": [
      " 73%|███████▎  | 487/670 [18:16<06:42,  2.20s/it]"
     ]
    },
    {
     "name": "stdout",
     "output_type": "stream",
     "text": [
      "Processing C:\\Users\\david\\Downloads\\THSHAREX-19c-1\\THSHAREX-19c-1\\20231023-20231029-inst2-dumpdir\\report_2_THSHAREX_77772_77773.html...\n"
     ]
    },
    {
     "name": "stderr",
     "output_type": "stream",
     "text": [
      " 73%|███████▎  | 488/670 [18:18<06:38,  2.19s/it]"
     ]
    },
    {
     "name": "stdout",
     "output_type": "stream",
     "text": [
      "Processing C:\\Users\\david\\Downloads\\THSHAREX-19c-1\\THSHAREX-19c-1\\20231023-20231029-inst2-dumpdir\\report_2_THSHAREX_77773_77774.html...\n"
     ]
    },
    {
     "name": "stderr",
     "output_type": "stream",
     "text": [
      " 73%|███████▎  | 489/670 [18:21<06:45,  2.24s/it]"
     ]
    },
    {
     "name": "stdout",
     "output_type": "stream",
     "text": [
      "Processing C:\\Users\\david\\Downloads\\THSHAREX-19c-1\\THSHAREX-19c-1\\20231023-20231029-inst2-dumpdir\\report_2_THSHAREX_77774_77775.html...\n"
     ]
    },
    {
     "name": "stderr",
     "output_type": "stream",
     "text": [
      " 73%|███████▎  | 490/670 [18:23<06:42,  2.24s/it]"
     ]
    },
    {
     "name": "stdout",
     "output_type": "stream",
     "text": [
      "Processing C:\\Users\\david\\Downloads\\THSHAREX-19c-1\\THSHAREX-19c-1\\20231023-20231029-inst2-dumpdir\\report_2_THSHAREX_77775_77776.html...\n"
     ]
    },
    {
     "name": "stderr",
     "output_type": "stream",
     "text": [
      " 73%|███████▎  | 491/670 [18:25<06:51,  2.30s/it]"
     ]
    },
    {
     "name": "stdout",
     "output_type": "stream",
     "text": [
      "Processing C:\\Users\\david\\Downloads\\THSHAREX-19c-1\\THSHAREX-19c-1\\20231023-20231029-inst2-dumpdir\\report_2_THSHAREX_77776_77777.html...\n"
     ]
    },
    {
     "name": "stderr",
     "output_type": "stream",
     "text": [
      " 73%|███████▎  | 492/670 [18:27<06:45,  2.28s/it]"
     ]
    },
    {
     "name": "stdout",
     "output_type": "stream",
     "text": [
      "Processing C:\\Users\\david\\Downloads\\THSHAREX-19c-1\\THSHAREX-19c-1\\20231023-20231029-inst2-dumpdir\\report_2_THSHAREX_77777_77778.html...\n"
     ]
    },
    {
     "name": "stderr",
     "output_type": "stream",
     "text": [
      " 74%|███████▎  | 493/670 [18:30<06:53,  2.33s/it]"
     ]
    },
    {
     "name": "stdout",
     "output_type": "stream",
     "text": [
      "Processing C:\\Users\\david\\Downloads\\THSHAREX-19c-1\\THSHAREX-19c-1\\20231023-20231029-inst2-dumpdir\\report_2_THSHAREX_77778_77779.html...\n"
     ]
    },
    {
     "name": "stderr",
     "output_type": "stream",
     "text": [
      " 74%|███████▎  | 494/670 [18:32<06:56,  2.37s/it]"
     ]
    },
    {
     "name": "stdout",
     "output_type": "stream",
     "text": [
      "Processing C:\\Users\\david\\Downloads\\THSHAREX-19c-1\\THSHAREX-19c-1\\20231023-20231029-inst2-dumpdir\\report_2_THSHAREX_77779_77780.html...\n"
     ]
    },
    {
     "name": "stderr",
     "output_type": "stream",
     "text": [
      " 74%|███████▍  | 495/670 [18:35<07:01,  2.41s/it]"
     ]
    },
    {
     "name": "stdout",
     "output_type": "stream",
     "text": [
      "Processing C:\\Users\\david\\Downloads\\THSHAREX-19c-1\\THSHAREX-19c-1\\20231023-20231029-inst2-dumpdir\\report_2_THSHAREX_77780_77781.html...\n"
     ]
    },
    {
     "name": "stderr",
     "output_type": "stream",
     "text": [
      " 74%|███████▍  | 496/670 [18:37<07:00,  2.41s/it]"
     ]
    },
    {
     "name": "stdout",
     "output_type": "stream",
     "text": [
      "Processing C:\\Users\\david\\Downloads\\THSHAREX-19c-1\\THSHAREX-19c-1\\20231023-20231029-inst2-dumpdir\\report_2_THSHAREX_77781_77782.html...\n"
     ]
    },
    {
     "name": "stderr",
     "output_type": "stream",
     "text": [
      " 74%|███████▍  | 497/670 [18:40<06:56,  2.41s/it]"
     ]
    },
    {
     "name": "stdout",
     "output_type": "stream",
     "text": [
      "Processing C:\\Users\\david\\Downloads\\THSHAREX-19c-1\\THSHAREX-19c-1\\20231023-20231029-inst2-dumpdir\\report_2_THSHAREX_77782_77783.html...\n"
     ]
    },
    {
     "name": "stderr",
     "output_type": "stream",
     "text": [
      " 74%|███████▍  | 498/670 [18:42<06:45,  2.36s/it]"
     ]
    },
    {
     "name": "stdout",
     "output_type": "stream",
     "text": [
      "Processing C:\\Users\\david\\Downloads\\THSHAREX-19c-1\\THSHAREX-19c-1\\20231023-20231029-inst2-dumpdir\\report_2_THSHAREX_77783_77784.html...\n"
     ]
    },
    {
     "name": "stderr",
     "output_type": "stream",
     "text": [
      " 74%|███████▍  | 499/670 [18:44<06:44,  2.36s/it]"
     ]
    },
    {
     "name": "stdout",
     "output_type": "stream",
     "text": [
      "Processing C:\\Users\\david\\Downloads\\THSHAREX-19c-1\\THSHAREX-19c-1\\20231023-20231029-inst2-dumpdir\\report_2_THSHAREX_77784_77785.html...\n"
     ]
    },
    {
     "name": "stderr",
     "output_type": "stream",
     "text": [
      " 75%|███████▍  | 500/670 [18:47<06:43,  2.38s/it]"
     ]
    },
    {
     "name": "stdout",
     "output_type": "stream",
     "text": [
      "Processing C:\\Users\\david\\Downloads\\THSHAREX-19c-1\\THSHAREX-19c-1\\20231023-20231029-inst2-dumpdir\\report_2_THSHAREX_77785_77786.html...\n"
     ]
    },
    {
     "name": "stderr",
     "output_type": "stream",
     "text": [
      " 75%|███████▍  | 501/670 [18:49<06:59,  2.48s/it]"
     ]
    },
    {
     "name": "stdout",
     "output_type": "stream",
     "text": [
      "Processing C:\\Users\\david\\Downloads\\THSHAREX-19c-1\\THSHAREX-19c-1\\20231023-20231029-inst2-dumpdir\\report_2_THSHAREX_77786_77787.html...\n"
     ]
    },
    {
     "name": "stderr",
     "output_type": "stream",
     "text": [
      " 75%|███████▍  | 502/670 [18:52<06:45,  2.42s/it]"
     ]
    },
    {
     "name": "stdout",
     "output_type": "stream",
     "text": [
      "Processing C:\\Users\\david\\Downloads\\THSHAREX-19c-1\\THSHAREX-19c-1\\20231023-20231029-inst2-dumpdir\\report_2_THSHAREX_77787_77788.html...\n"
     ]
    },
    {
     "name": "stderr",
     "output_type": "stream",
     "text": [
      " 75%|███████▌  | 503/670 [18:55<07:01,  2.53s/it]"
     ]
    },
    {
     "name": "stdout",
     "output_type": "stream",
     "text": [
      "Processing C:\\Users\\david\\Downloads\\THSHAREX-19c-1\\THSHAREX-19c-1\\20231023-20231029-inst2-dumpdir\\report_2_THSHAREX_77788_77789.html...\n"
     ]
    },
    {
     "name": "stderr",
     "output_type": "stream",
     "text": [
      " 75%|███████▌  | 504/670 [18:57<06:45,  2.44s/it]"
     ]
    },
    {
     "name": "stdout",
     "output_type": "stream",
     "text": [
      "Processing C:\\Users\\david\\Downloads\\THSHAREX-19c-1\\THSHAREX-19c-1\\20231023-20231029-inst2-dumpdir\\report_2_THSHAREX_77789_77790.html...\n"
     ]
    },
    {
     "name": "stderr",
     "output_type": "stream",
     "text": [
      " 75%|███████▌  | 505/670 [18:59<06:42,  2.44s/it]"
     ]
    },
    {
     "name": "stdout",
     "output_type": "stream",
     "text": [
      "Processing C:\\Users\\david\\Downloads\\THSHAREX-19c-1\\THSHAREX-19c-1\\20231023-20231029-inst2-dumpdir\\report_2_THSHAREX_77790_77791.html...\n"
     ]
    },
    {
     "name": "stderr",
     "output_type": "stream",
     "text": [
      " 76%|███████▌  | 506/670 [19:02<06:45,  2.47s/it]"
     ]
    },
    {
     "name": "stdout",
     "output_type": "stream",
     "text": [
      "Processing C:\\Users\\david\\Downloads\\THSHAREX-19c-1\\THSHAREX-19c-1\\20231023-20231029-inst2-dumpdir\\report_2_THSHAREX_77791_77792.html...\n"
     ]
    },
    {
     "name": "stderr",
     "output_type": "stream",
     "text": [
      " 76%|███████▌  | 507/670 [19:04<06:47,  2.50s/it]"
     ]
    },
    {
     "name": "stdout",
     "output_type": "stream",
     "text": [
      "Processing C:\\Users\\david\\Downloads\\THSHAREX-19c-1\\THSHAREX-19c-1\\20231023-20231029-inst2-dumpdir\\report_2_THSHAREX_77792_77793.html...\n"
     ]
    },
    {
     "name": "stderr",
     "output_type": "stream",
     "text": [
      " 76%|███████▌  | 508/670 [19:07<06:32,  2.42s/it]"
     ]
    },
    {
     "name": "stdout",
     "output_type": "stream",
     "text": [
      "Processing C:\\Users\\david\\Downloads\\THSHAREX-19c-1\\THSHAREX-19c-1\\20231023-20231029-inst2-dumpdir\\report_2_THSHAREX_77793_77794.html...\n"
     ]
    },
    {
     "name": "stderr",
     "output_type": "stream",
     "text": [
      " 76%|███████▌  | 509/670 [19:09<06:26,  2.40s/it]"
     ]
    },
    {
     "name": "stdout",
     "output_type": "stream",
     "text": [
      "Processing C:\\Users\\david\\Downloads\\THSHAREX-19c-1\\THSHAREX-19c-1\\20231023-20231029-inst2-dumpdir\\report_2_THSHAREX_77794_77795.html...\n"
     ]
    },
    {
     "name": "stderr",
     "output_type": "stream",
     "text": [
      " 76%|███████▌  | 510/670 [19:11<06:16,  2.35s/it]"
     ]
    },
    {
     "name": "stdout",
     "output_type": "stream",
     "text": [
      "Processing C:\\Users\\david\\Downloads\\THSHAREX-19c-1\\THSHAREX-19c-1\\20231023-20231029-inst2-dumpdir\\report_2_THSHAREX_77795_77796.html...\n"
     ]
    },
    {
     "name": "stderr",
     "output_type": "stream",
     "text": [
      " 76%|███████▋  | 511/670 [19:13<06:08,  2.32s/it]"
     ]
    },
    {
     "name": "stdout",
     "output_type": "stream",
     "text": [
      "Processing C:\\Users\\david\\Downloads\\THSHAREX-19c-1\\THSHAREX-19c-1\\20231023-20231029-inst2-dumpdir\\report_2_THSHAREX_77796_77797.html...\n"
     ]
    },
    {
     "name": "stderr",
     "output_type": "stream",
     "text": [
      " 76%|███████▋  | 512/670 [19:16<06:09,  2.34s/it]"
     ]
    },
    {
     "name": "stdout",
     "output_type": "stream",
     "text": [
      "Processing C:\\Users\\david\\Downloads\\THSHAREX-19c-1\\THSHAREX-19c-1\\20231023-20231029-inst2-dumpdir\\report_2_THSHAREX_77797_77798.html...\n"
     ]
    },
    {
     "name": "stderr",
     "output_type": "stream",
     "text": [
      " 77%|███████▋  | 513/670 [19:18<06:04,  2.32s/it]"
     ]
    },
    {
     "name": "stdout",
     "output_type": "stream",
     "text": [
      "Processing C:\\Users\\david\\Downloads\\THSHAREX-19c-1\\THSHAREX-19c-1\\20231023-20231029-inst2-dumpdir\\report_2_THSHAREX_77798_77799.html...\n"
     ]
    },
    {
     "name": "stderr",
     "output_type": "stream",
     "text": [
      " 77%|███████▋  | 514/670 [19:20<06:00,  2.31s/it]"
     ]
    },
    {
     "name": "stdout",
     "output_type": "stream",
     "text": [
      "Processing C:\\Users\\david\\Downloads\\THSHAREX-19c-1\\THSHAREX-19c-1\\20231023-20231029-inst2-dumpdir\\report_2_THSHAREX_77799_77800.html...\n"
     ]
    },
    {
     "name": "stderr",
     "output_type": "stream",
     "text": [
      " 77%|███████▋  | 515/670 [19:22<05:49,  2.26s/it]"
     ]
    },
    {
     "name": "stdout",
     "output_type": "stream",
     "text": [
      "Processing C:\\Users\\david\\Downloads\\THSHAREX-19c-1\\THSHAREX-19c-1\\20231023-20231029-inst2-dumpdir\\report_2_THSHAREX_77800_77801.html...\n"
     ]
    },
    {
     "name": "stderr",
     "output_type": "stream",
     "text": [
      " 77%|███████▋  | 516/670 [19:25<05:43,  2.23s/it]"
     ]
    },
    {
     "name": "stdout",
     "output_type": "stream",
     "text": [
      "Processing C:\\Users\\david\\Downloads\\THSHAREX-19c-1\\THSHAREX-19c-1\\20231023-20231029-inst2-dumpdir\\report_2_THSHAREX_77801_77802.html...\n"
     ]
    },
    {
     "name": "stderr",
     "output_type": "stream",
     "text": [
      " 77%|███████▋  | 517/670 [19:27<05:44,  2.25s/it]"
     ]
    },
    {
     "name": "stdout",
     "output_type": "stream",
     "text": [
      "Processing C:\\Users\\david\\Downloads\\THSHAREX-19c-1\\THSHAREX-19c-1\\20231023-20231029-inst2-dumpdir\\report_2_THSHAREX_77802_77803.html...\n"
     ]
    },
    {
     "name": "stderr",
     "output_type": "stream",
     "text": [
      " 77%|███████▋  | 518/670 [19:29<05:49,  2.30s/it]"
     ]
    },
    {
     "name": "stdout",
     "output_type": "stream",
     "text": [
      "Processing C:\\Users\\david\\Downloads\\THSHAREX-19c-1\\THSHAREX-19c-1\\20231023-20231029-inst2-dumpdir\\report_2_THSHAREX_77803_77804.html...\n"
     ]
    },
    {
     "name": "stderr",
     "output_type": "stream",
     "text": [
      " 77%|███████▋  | 519/670 [19:32<05:47,  2.30s/it]"
     ]
    },
    {
     "name": "stdout",
     "output_type": "stream",
     "text": [
      "Processing C:\\Users\\david\\Downloads\\THSHAREX-19c-1\\THSHAREX-19c-1\\20231023-20231029-inst2-dumpdir\\report_2_THSHAREX_77804_77805.html...\n"
     ]
    },
    {
     "name": "stderr",
     "output_type": "stream",
     "text": [
      " 78%|███████▊  | 520/670 [19:34<05:44,  2.30s/it]"
     ]
    },
    {
     "name": "stdout",
     "output_type": "stream",
     "text": [
      "Processing C:\\Users\\david\\Downloads\\THSHAREX-19c-1\\THSHAREX-19c-1\\20231023-20231029-inst2-dumpdir\\report_2_THSHAREX_77805_77806.html...\n"
     ]
    },
    {
     "name": "stderr",
     "output_type": "stream",
     "text": [
      " 78%|███████▊  | 521/670 [19:36<05:40,  2.28s/it]"
     ]
    },
    {
     "name": "stdout",
     "output_type": "stream",
     "text": [
      "Processing C:\\Users\\david\\Downloads\\THSHAREX-19c-1\\THSHAREX-19c-1\\20231023-20231029-inst2-dumpdir\\report_2_THSHAREX_77806_77807.html...\n"
     ]
    },
    {
     "name": "stderr",
     "output_type": "stream",
     "text": [
      " 78%|███████▊  | 522/670 [19:38<05:32,  2.25s/it]"
     ]
    },
    {
     "name": "stdout",
     "output_type": "stream",
     "text": [
      "Processing C:\\Users\\david\\Downloads\\THSHAREX-19c-1\\THSHAREX-19c-1\\20231023-20231029-inst2-dumpdir\\report_2_THSHAREX_77807_77808.html...\n"
     ]
    },
    {
     "name": "stderr",
     "output_type": "stream",
     "text": [
      " 78%|███████▊  | 523/670 [19:41<05:43,  2.34s/it]"
     ]
    },
    {
     "name": "stdout",
     "output_type": "stream",
     "text": [
      "Processing C:\\Users\\david\\Downloads\\THSHAREX-19c-1\\THSHAREX-19c-1\\20231023-20231029-inst2-dumpdir\\report_2_THSHAREX_77808_77809.html...\n"
     ]
    },
    {
     "name": "stderr",
     "output_type": "stream",
     "text": [
      " 78%|███████▊  | 524/670 [19:43<05:39,  2.32s/it]"
     ]
    },
    {
     "name": "stdout",
     "output_type": "stream",
     "text": [
      "Processing C:\\Users\\david\\Downloads\\THSHAREX-19c-1\\THSHAREX-19c-1\\20231023-20231029-inst2-dumpdir\\report_2_THSHAREX_77809_77810.html...\n"
     ]
    },
    {
     "name": "stderr",
     "output_type": "stream",
     "text": [
      " 78%|███████▊  | 525/670 [19:45<05:36,  2.32s/it]"
     ]
    },
    {
     "name": "stdout",
     "output_type": "stream",
     "text": [
      "Processing C:\\Users\\david\\Downloads\\THSHAREX-19c-1\\THSHAREX-19c-1\\20231023-20231029-inst2-dumpdir\\report_2_THSHAREX_77810_77811.html...\n"
     ]
    },
    {
     "name": "stderr",
     "output_type": "stream",
     "text": [
      " 79%|███████▊  | 526/670 [19:48<05:40,  2.36s/it]"
     ]
    },
    {
     "name": "stdout",
     "output_type": "stream",
     "text": [
      "Processing C:\\Users\\david\\Downloads\\THSHAREX-19c-1\\THSHAREX-19c-1\\20231023-20231029-inst2-dumpdir\\report_2_THSHAREX_77811_77812.html...\n"
     ]
    },
    {
     "name": "stderr",
     "output_type": "stream",
     "text": [
      " 79%|███████▊  | 527/670 [19:51<05:50,  2.45s/it]"
     ]
    },
    {
     "name": "stdout",
     "output_type": "stream",
     "text": [
      "Processing C:\\Users\\david\\Downloads\\THSHAREX-19c-1\\THSHAREX-19c-1\\20231023-20231029-inst2-dumpdir\\report_2_THSHAREX_77812_77813.html...\n"
     ]
    },
    {
     "name": "stderr",
     "output_type": "stream",
     "text": [
      " 79%|███████▉  | 528/670 [19:53<05:50,  2.47s/it]"
     ]
    },
    {
     "name": "stdout",
     "output_type": "stream",
     "text": [
      "Processing C:\\Users\\david\\Downloads\\THSHAREX-19c-1\\THSHAREX-19c-1\\20231023-20231029-inst2-dumpdir\\report_2_THSHAREX_77813_77814.html...\n"
     ]
    },
    {
     "name": "stderr",
     "output_type": "stream",
     "text": [
      " 79%|███████▉  | 529/670 [19:56<06:03,  2.58s/it]"
     ]
    },
    {
     "name": "stdout",
     "output_type": "stream",
     "text": [
      "Processing C:\\Users\\david\\Downloads\\THSHAREX-19c-1\\THSHAREX-19c-1\\20231023-20231029-inst2-dumpdir\\report_2_THSHAREX_77814_77815.html...\n"
     ]
    },
    {
     "name": "stderr",
     "output_type": "stream",
     "text": [
      " 79%|███████▉  | 530/670 [19:58<05:52,  2.52s/it]"
     ]
    },
    {
     "name": "stdout",
     "output_type": "stream",
     "text": [
      "Processing C:\\Users\\david\\Downloads\\THSHAREX-19c-1\\THSHAREX-19c-1\\20231023-20231029-inst2-dumpdir\\report_2_THSHAREX_77815_77816.html...\n"
     ]
    },
    {
     "name": "stderr",
     "output_type": "stream",
     "text": [
      " 79%|███████▉  | 531/670 [20:01<05:47,  2.50s/it]"
     ]
    },
    {
     "name": "stdout",
     "output_type": "stream",
     "text": [
      "Processing C:\\Users\\david\\Downloads\\THSHAREX-19c-1\\THSHAREX-19c-1\\20231023-20231029-inst2-dumpdir\\report_2_THSHAREX_77816_77817.html...\n"
     ]
    },
    {
     "name": "stderr",
     "output_type": "stream",
     "text": [
      " 79%|███████▉  | 532/670 [20:03<05:29,  2.39s/it]"
     ]
    },
    {
     "name": "stdout",
     "output_type": "stream",
     "text": [
      "Processing C:\\Users\\david\\Downloads\\THSHAREX-19c-1\\THSHAREX-19c-1\\20231023-20231029-inst2-dumpdir\\report_2_THSHAREX_77817_77818.html...\n"
     ]
    },
    {
     "name": "stderr",
     "output_type": "stream",
     "text": [
      " 80%|███████▉  | 533/670 [20:06<05:37,  2.47s/it]"
     ]
    },
    {
     "name": "stdout",
     "output_type": "stream",
     "text": [
      "Processing C:\\Users\\david\\Downloads\\THSHAREX-19c-1\\THSHAREX-19c-1\\20231023-20231029-inst2-dumpdir\\report_2_THSHAREX_77818_77819.html...\n"
     ]
    },
    {
     "name": "stderr",
     "output_type": "stream",
     "text": [
      " 80%|███████▉  | 534/670 [20:08<05:28,  2.42s/it]"
     ]
    },
    {
     "name": "stdout",
     "output_type": "stream",
     "text": [
      "Processing C:\\Users\\david\\Downloads\\THSHAREX-19c-1\\THSHAREX-19c-1\\20231023-20231029-inst2-dumpdir\\report_2_THSHAREX_77819_77820.html...\n"
     ]
    },
    {
     "name": "stderr",
     "output_type": "stream",
     "text": [
      " 80%|███████▉  | 535/670 [20:10<05:20,  2.37s/it]"
     ]
    },
    {
     "name": "stdout",
     "output_type": "stream",
     "text": [
      "Processing C:\\Users\\david\\Downloads\\THSHAREX-19c-1\\THSHAREX-19c-1\\20231023-20231029-inst2-dumpdir\\report_2_THSHAREX_77820_77821.html...\n"
     ]
    },
    {
     "name": "stderr",
     "output_type": "stream",
     "text": [
      " 80%|████████  | 536/670 [20:12<05:14,  2.35s/it]"
     ]
    },
    {
     "name": "stdout",
     "output_type": "stream",
     "text": [
      "Processing C:\\Users\\david\\Downloads\\THSHAREX-19c-1\\THSHAREX-19c-1\\20231023-20231029-inst2-dumpdir\\report_2_THSHAREX_77821_77822.html...\n"
     ]
    },
    {
     "name": "stderr",
     "output_type": "stream",
     "text": [
      " 80%|████████  | 537/670 [20:15<05:10,  2.34s/it]"
     ]
    },
    {
     "name": "stdout",
     "output_type": "stream",
     "text": [
      "Processing C:\\Users\\david\\Downloads\\THSHAREX-19c-1\\THSHAREX-19c-1\\20231023-20231029-inst2-dumpdir\\report_2_THSHAREX_77822_77823.html...\n"
     ]
    },
    {
     "name": "stderr",
     "output_type": "stream",
     "text": [
      " 80%|████████  | 538/670 [20:17<04:58,  2.26s/it]"
     ]
    },
    {
     "name": "stdout",
     "output_type": "stream",
     "text": [
      "Processing C:\\Users\\david\\Downloads\\THSHAREX-19c-1\\THSHAREX-19c-1\\20231023-20231029-inst2-dumpdir\\report_2_THSHAREX_77823_77824.html...\n"
     ]
    },
    {
     "name": "stderr",
     "output_type": "stream",
     "text": [
      " 80%|████████  | 539/670 [20:19<04:56,  2.26s/it]"
     ]
    },
    {
     "name": "stdout",
     "output_type": "stream",
     "text": [
      "Processing C:\\Users\\david\\Downloads\\THSHAREX-19c-1\\THSHAREX-19c-1\\20231023-20231029-inst2-dumpdir\\report_2_THSHAREX_77824_77825.html...\n"
     ]
    },
    {
     "name": "stderr",
     "output_type": "stream",
     "text": [
      " 81%|████████  | 540/670 [20:21<04:49,  2.23s/it]"
     ]
    },
    {
     "name": "stdout",
     "output_type": "stream",
     "text": [
      "Processing C:\\Users\\david\\Downloads\\THSHAREX-19c-1\\THSHAREX-19c-1\\20231023-20231029-inst2-dumpdir\\report_2_THSHAREX_77825_77826.html...\n"
     ]
    },
    {
     "name": "stderr",
     "output_type": "stream",
     "text": [
      " 81%|████████  | 541/670 [20:24<04:52,  2.27s/it]"
     ]
    },
    {
     "name": "stdout",
     "output_type": "stream",
     "text": [
      "Processing C:\\Users\\david\\Downloads\\THSHAREX-19c-1\\THSHAREX-19c-1\\20231023-20231029-inst2-dumpdir\\report_2_THSHAREX_77826_77827.html...\n"
     ]
    },
    {
     "name": "stderr",
     "output_type": "stream",
     "text": [
      " 81%|████████  | 542/670 [20:26<04:46,  2.23s/it]"
     ]
    },
    {
     "name": "stdout",
     "output_type": "stream",
     "text": [
      "Processing C:\\Users\\david\\Downloads\\THSHAREX-19c-1\\THSHAREX-19c-1\\20231023-20231029-inst2-dumpdir\\report_2_THSHAREX_77827_77828.html...\n"
     ]
    },
    {
     "name": "stderr",
     "output_type": "stream",
     "text": [
      " 81%|████████  | 543/670 [20:28<04:50,  2.29s/it]"
     ]
    },
    {
     "name": "stdout",
     "output_type": "stream",
     "text": [
      "Processing C:\\Users\\david\\Downloads\\THSHAREX-19c-1\\THSHAREX-19c-1\\20231023-20231029-inst2-dumpdir\\report_2_THSHAREX_77828_77829.html...\n"
     ]
    },
    {
     "name": "stderr",
     "output_type": "stream",
     "text": [
      " 81%|████████  | 544/670 [20:30<04:46,  2.27s/it]"
     ]
    },
    {
     "name": "stdout",
     "output_type": "stream",
     "text": [
      "Processing C:\\Users\\david\\Downloads\\THSHAREX-19c-1\\THSHAREX-19c-1\\20231023-20231029-inst2-dumpdir\\report_2_THSHAREX_77829_77830.html...\n"
     ]
    },
    {
     "name": "stderr",
     "output_type": "stream",
     "text": [
      " 81%|████████▏ | 545/670 [20:33<04:57,  2.38s/it]"
     ]
    },
    {
     "name": "stdout",
     "output_type": "stream",
     "text": [
      "Processing C:\\Users\\david\\Downloads\\THSHAREX-19c-1\\THSHAREX-19c-1\\20231023-20231029-inst2-dumpdir\\report_2_THSHAREX_77830_77831.html...\n"
     ]
    },
    {
     "name": "stderr",
     "output_type": "stream",
     "text": [
      " 81%|████████▏ | 546/670 [20:35<04:49,  2.34s/it]"
     ]
    },
    {
     "name": "stdout",
     "output_type": "stream",
     "text": [
      "Processing C:\\Users\\david\\Downloads\\THSHAREX-19c-1\\THSHAREX-19c-1\\20231023-20231029-inst2-dumpdir\\report_2_THSHAREX_77831_77832.html...\n"
     ]
    },
    {
     "name": "stderr",
     "output_type": "stream",
     "text": [
      " 82%|████████▏ | 547/670 [20:37<04:40,  2.28s/it]"
     ]
    },
    {
     "name": "stdout",
     "output_type": "stream",
     "text": [
      "Processing C:\\Users\\david\\Downloads\\THSHAREX-19c-1\\THSHAREX-19c-1\\20231023-20231029-inst2-dumpdir\\report_2_THSHAREX_77832_77833.html...\n"
     ]
    },
    {
     "name": "stderr",
     "output_type": "stream",
     "text": [
      " 82%|████████▏ | 548/670 [20:40<04:44,  2.33s/it]"
     ]
    },
    {
     "name": "stdout",
     "output_type": "stream",
     "text": [
      "Processing C:\\Users\\david\\Downloads\\THSHAREX-19c-1\\THSHAREX-19c-1\\20231023-20231029-inst2-dumpdir\\report_2_THSHAREX_77833_77834.html...\n"
     ]
    },
    {
     "name": "stderr",
     "output_type": "stream",
     "text": [
      " 82%|████████▏ | 549/670 [20:42<04:51,  2.41s/it]"
     ]
    },
    {
     "name": "stdout",
     "output_type": "stream",
     "text": [
      "Processing C:\\Users\\david\\Downloads\\THSHAREX-19c-1\\THSHAREX-19c-1\\20231023-20231029-inst2-dumpdir\\report_2_THSHAREX_77834_77835.html...\n"
     ]
    },
    {
     "name": "stderr",
     "output_type": "stream",
     "text": [
      " 82%|████████▏ | 550/670 [20:45<04:47,  2.39s/it]"
     ]
    },
    {
     "name": "stdout",
     "output_type": "stream",
     "text": [
      "Processing C:\\Users\\david\\Downloads\\THSHAREX-19c-1\\THSHAREX-19c-1\\20231023-20231029-inst2-dumpdir\\report_2_THSHAREX_77835_77836.html...\n"
     ]
    },
    {
     "name": "stderr",
     "output_type": "stream",
     "text": [
      " 82%|████████▏ | 551/670 [20:47<04:46,  2.40s/it]"
     ]
    },
    {
     "name": "stdout",
     "output_type": "stream",
     "text": [
      "Processing C:\\Users\\david\\Downloads\\THSHAREX-19c-1\\THSHAREX-19c-1\\20231023-20231029-inst2-dumpdir\\report_2_THSHAREX_77836_77837.html...\n"
     ]
    },
    {
     "name": "stderr",
     "output_type": "stream",
     "text": [
      " 82%|████████▏ | 552/670 [20:50<04:49,  2.45s/it]"
     ]
    },
    {
     "name": "stdout",
     "output_type": "stream",
     "text": [
      "Processing C:\\Users\\david\\Downloads\\THSHAREX-19c-1\\THSHAREX-19c-1\\20231023-20231029-inst2-dumpdir\\report_2_THSHAREX_77837_77838.html...\n"
     ]
    },
    {
     "name": "stderr",
     "output_type": "stream",
     "text": [
      " 83%|████████▎ | 553/670 [20:52<04:49,  2.47s/it]"
     ]
    },
    {
     "name": "stdout",
     "output_type": "stream",
     "text": [
      "Processing C:\\Users\\david\\Downloads\\THSHAREX-19c-1\\THSHAREX-19c-1\\20231023-20231029-inst2-dumpdir\\report_2_THSHAREX_77838_77839.html...\n"
     ]
    },
    {
     "name": "stderr",
     "output_type": "stream",
     "text": [
      " 83%|████████▎ | 554/670 [20:55<04:51,  2.51s/it]"
     ]
    },
    {
     "name": "stdout",
     "output_type": "stream",
     "text": [
      "Processing C:\\Users\\david\\Downloads\\THSHAREX-19c-1\\THSHAREX-19c-1\\20231023-20231029-inst2-dumpdir\\report_2_THSHAREX_77839_77840.html...\n"
     ]
    },
    {
     "name": "stderr",
     "output_type": "stream",
     "text": [
      " 83%|████████▎ | 555/670 [20:57<04:45,  2.48s/it]"
     ]
    },
    {
     "name": "stdout",
     "output_type": "stream",
     "text": [
      "Processing C:\\Users\\david\\Downloads\\THSHAREX-19c-1\\THSHAREX-19c-1\\20231023-20231029-inst2-dumpdir\\report_2_THSHAREX_77840_77841.html...\n"
     ]
    },
    {
     "name": "stderr",
     "output_type": "stream",
     "text": [
      " 83%|████████▎ | 556/670 [21:00<04:44,  2.50s/it]"
     ]
    },
    {
     "name": "stdout",
     "output_type": "stream",
     "text": [
      "Processing C:\\Users\\david\\Downloads\\THSHAREX-19c-1\\THSHAREX-19c-1\\20231023-20231029-inst2-dumpdir\\report_2_THSHAREX_77841_77842.html...\n"
     ]
    },
    {
     "name": "stderr",
     "output_type": "stream",
     "text": [
      " 83%|████████▎ | 557/670 [21:02<04:38,  2.46s/it]"
     ]
    },
    {
     "name": "stdout",
     "output_type": "stream",
     "text": [
      "Processing C:\\Users\\david\\Downloads\\THSHAREX-19c-1\\THSHAREX-19c-1\\20231023-20231029-inst2-dumpdir\\report_2_THSHAREX_77842_77843.html...\n"
     ]
    },
    {
     "name": "stderr",
     "output_type": "stream",
     "text": [
      " 83%|████████▎ | 558/670 [21:05<04:40,  2.50s/it]"
     ]
    },
    {
     "name": "stdout",
     "output_type": "stream",
     "text": [
      "Processing C:\\Users\\david\\Downloads\\THSHAREX-19c-1\\THSHAREX-19c-1\\20231023-20231029-inst2-dumpdir\\report_2_THSHAREX_77843_77844.html...\n"
     ]
    },
    {
     "name": "stderr",
     "output_type": "stream",
     "text": [
      " 83%|████████▎ | 559/670 [21:07<04:32,  2.46s/it]"
     ]
    },
    {
     "name": "stdout",
     "output_type": "stream",
     "text": [
      "Processing C:\\Users\\david\\Downloads\\THSHAREX-19c-1\\THSHAREX-19c-1\\20231023-20231029-inst2-dumpdir\\report_2_THSHAREX_77844_77845.html...\n"
     ]
    },
    {
     "name": "stderr",
     "output_type": "stream",
     "text": [
      " 84%|████████▎ | 560/670 [21:09<04:23,  2.39s/it]"
     ]
    },
    {
     "name": "stdout",
     "output_type": "stream",
     "text": [
      "Processing C:\\Users\\david\\Downloads\\THSHAREX-19c-1\\THSHAREX-19c-1\\20231023-20231029-inst2-dumpdir\\report_2_THSHAREX_77845_77846.html...\n"
     ]
    },
    {
     "name": "stderr",
     "output_type": "stream",
     "text": [
      " 84%|████████▎ | 561/670 [21:12<04:29,  2.47s/it]"
     ]
    },
    {
     "name": "stdout",
     "output_type": "stream",
     "text": [
      "Processing C:\\Users\\david\\Downloads\\THSHAREX-19c-1\\THSHAREX-19c-1\\20231023-20231029-inst2-dumpdir\\report_2_THSHAREX_77846_77847.html...\n"
     ]
    },
    {
     "name": "stderr",
     "output_type": "stream",
     "text": [
      " 84%|████████▍ | 562/670 [21:15<04:30,  2.51s/it]"
     ]
    },
    {
     "name": "stdout",
     "output_type": "stream",
     "text": [
      "Processing C:\\Users\\david\\Downloads\\THSHAREX-19c-1\\THSHAREX-19c-1\\20231023-20231029-inst2-dumpdir\\report_2_THSHAREX_77847_77848.html...\n"
     ]
    },
    {
     "name": "stderr",
     "output_type": "stream",
     "text": [
      " 84%|████████▍ | 563/670 [21:17<04:23,  2.46s/it]"
     ]
    },
    {
     "name": "stdout",
     "output_type": "stream",
     "text": [
      "Processing C:\\Users\\david\\Downloads\\THSHAREX-19c-1\\THSHAREX-19c-1\\20231023-20231029-inst2-dumpdir\\report_2_THSHAREX_77848_77849.html...\n"
     ]
    },
    {
     "name": "stderr",
     "output_type": "stream",
     "text": [
      " 84%|████████▍ | 564/670 [21:19<04:13,  2.39s/it]"
     ]
    },
    {
     "name": "stdout",
     "output_type": "stream",
     "text": [
      "Processing C:\\Users\\david\\Downloads\\THSHAREX-19c-1\\THSHAREX-19c-1\\20231023-20231029-inst2-dumpdir\\report_2_THSHAREX_77849_77850.html...\n"
     ]
    },
    {
     "name": "stderr",
     "output_type": "stream",
     "text": [
      " 84%|████████▍ | 565/670 [21:21<04:01,  2.30s/it]"
     ]
    },
    {
     "name": "stdout",
     "output_type": "stream",
     "text": [
      "Processing C:\\Users\\david\\Downloads\\THSHAREX-19c-1\\THSHAREX-19c-1\\20231023-20231029-inst2-dumpdir\\report_2_THSHAREX_77850_77851.html...\n"
     ]
    },
    {
     "name": "stderr",
     "output_type": "stream",
     "text": [
      " 84%|████████▍ | 566/670 [21:24<04:05,  2.36s/it]"
     ]
    },
    {
     "name": "stdout",
     "output_type": "stream",
     "text": [
      "Processing C:\\Users\\david\\Downloads\\THSHAREX-19c-1\\THSHAREX-19c-1\\20231023-20231029-inst2-dumpdir\\report_2_THSHAREX_77851_77852.html...\n"
     ]
    },
    {
     "name": "stderr",
     "output_type": "stream",
     "text": [
      " 85%|████████▍ | 567/670 [21:26<04:03,  2.36s/it]"
     ]
    },
    {
     "name": "stdout",
     "output_type": "stream",
     "text": [
      "Processing C:\\Users\\david\\Downloads\\THSHAREX-19c-1\\THSHAREX-19c-1\\20231023-20231029-inst2-dumpdir\\report_2_THSHAREX_77852_77853.html...\n"
     ]
    },
    {
     "name": "stderr",
     "output_type": "stream",
     "text": [
      " 85%|████████▍ | 568/670 [21:28<03:54,  2.30s/it]"
     ]
    },
    {
     "name": "stdout",
     "output_type": "stream",
     "text": [
      "Processing C:\\Users\\david\\Downloads\\THSHAREX-19c-1\\THSHAREX-19c-1\\20231023-20231029-inst2-dumpdir\\report_2_THSHAREX_77853_77854.html...\n"
     ]
    },
    {
     "name": "stderr",
     "output_type": "stream",
     "text": [
      " 85%|████████▍ | 569/670 [21:31<03:48,  2.26s/it]"
     ]
    },
    {
     "name": "stdout",
     "output_type": "stream",
     "text": [
      "Processing C:\\Users\\david\\Downloads\\THSHAREX-19c-1\\THSHAREX-19c-1\\20231023-20231029-inst2-dumpdir\\report_2_THSHAREX_77854_77855.html...\n"
     ]
    },
    {
     "name": "stderr",
     "output_type": "stream",
     "text": [
      " 85%|████████▌ | 570/670 [21:33<03:43,  2.24s/it]"
     ]
    },
    {
     "name": "stdout",
     "output_type": "stream",
     "text": [
      "Processing C:\\Users\\david\\Downloads\\THSHAREX-19c-1\\THSHAREX-19c-1\\20231023-20231029-inst2-dumpdir\\report_2_THSHAREX_77855_77856.html...\n"
     ]
    },
    {
     "name": "stderr",
     "output_type": "stream",
     "text": [
      " 85%|████████▌ | 571/670 [21:35<03:40,  2.22s/it]"
     ]
    },
    {
     "name": "stdout",
     "output_type": "stream",
     "text": [
      "Processing C:\\Users\\david\\Downloads\\THSHAREX-19c-1\\THSHAREX-19c-1\\20231023-20231029-inst2-dumpdir\\report_2_THSHAREX_77856_77857.html...\n"
     ]
    },
    {
     "name": "stderr",
     "output_type": "stream",
     "text": [
      " 85%|████████▌ | 572/670 [21:37<03:42,  2.27s/it]"
     ]
    },
    {
     "name": "stdout",
     "output_type": "stream",
     "text": [
      "Processing C:\\Users\\david\\Downloads\\THSHAREX-19c-1\\THSHAREX-19c-1\\20231023-20231029-inst2-dumpdir\\report_2_THSHAREX_77857_77858.html...\n"
     ]
    },
    {
     "name": "stderr",
     "output_type": "stream",
     "text": [
      " 86%|████████▌ | 573/670 [21:40<03:38,  2.25s/it]"
     ]
    },
    {
     "name": "stdout",
     "output_type": "stream",
     "text": [
      "Processing C:\\Users\\david\\Downloads\\THSHAREX-19c-1\\THSHAREX-19c-1\\20231023-20231029-inst2-dumpdir\\report_2_THSHAREX_77858_77859.html...\n"
     ]
    },
    {
     "name": "stderr",
     "output_type": "stream",
     "text": [
      " 86%|████████▌ | 574/670 [21:42<03:32,  2.21s/it]"
     ]
    },
    {
     "name": "stdout",
     "output_type": "stream",
     "text": [
      "Processing C:\\Users\\david\\Downloads\\THSHAREX-19c-1\\THSHAREX-19c-1\\20231023-20231029-inst2-dumpdir\\report_2_THSHAREX_77859_77860.html...\n"
     ]
    },
    {
     "name": "stderr",
     "output_type": "stream",
     "text": [
      " 86%|████████▌ | 575/670 [21:44<03:33,  2.25s/it]"
     ]
    },
    {
     "name": "stdout",
     "output_type": "stream",
     "text": [
      "Processing C:\\Users\\david\\Downloads\\THSHAREX-19c-1\\THSHAREX-19c-1\\20231023-20231029-inst2-dumpdir\\report_2_THSHAREX_77860_77861.html...\n"
     ]
    },
    {
     "name": "stderr",
     "output_type": "stream",
     "text": [
      " 86%|████████▌ | 576/670 [21:47<03:39,  2.34s/it]"
     ]
    },
    {
     "name": "stdout",
     "output_type": "stream",
     "text": [
      "Processing C:\\Users\\david\\Downloads\\THSHAREX-19c-1\\THSHAREX-19c-1\\20231023-20231029-inst2-dumpdir\\report_2_THSHAREX_77861_77862.html...\n"
     ]
    },
    {
     "name": "stderr",
     "output_type": "stream",
     "text": [
      " 86%|████████▌ | 577/670 [21:49<03:36,  2.33s/it]"
     ]
    },
    {
     "name": "stdout",
     "output_type": "stream",
     "text": [
      "Processing C:\\Users\\david\\Downloads\\THSHAREX-19c-1\\THSHAREX-19c-1\\20231023-20231029-inst2-dumpdir\\report_2_THSHAREX_77862_77863.html...\n"
     ]
    },
    {
     "name": "stderr",
     "output_type": "stream",
     "text": [
      " 86%|████████▋ | 578/670 [21:51<03:31,  2.30s/it]"
     ]
    },
    {
     "name": "stdout",
     "output_type": "stream",
     "text": [
      "Processing C:\\Users\\david\\Downloads\\THSHAREX-19c-1\\THSHAREX-19c-1\\20231023-20231029-inst2-dumpdir\\report_2_THSHAREX_77863_77864.html...\n"
     ]
    },
    {
     "name": "stderr",
     "output_type": "stream",
     "text": [
      " 86%|████████▋ | 579/670 [21:53<03:30,  2.31s/it]"
     ]
    },
    {
     "name": "stdout",
     "output_type": "stream",
     "text": [
      "Processing C:\\Users\\david\\Downloads\\THSHAREX-19c-1\\THSHAREX-19c-1\\20231023-20231029-inst2-dumpdir\\report_2_THSHAREX_77864_77865.html...\n"
     ]
    },
    {
     "name": "stderr",
     "output_type": "stream",
     "text": [
      " 87%|████████▋ | 580/670 [21:56<03:41,  2.46s/it]"
     ]
    },
    {
     "name": "stdout",
     "output_type": "stream",
     "text": [
      "Processing C:\\Users\\david\\Downloads\\THSHAREX-19c-1\\THSHAREX-19c-1\\20231023-20231029-inst2-dumpdir\\report_2_THSHAREX_77865_77866.html...\n"
     ]
    },
    {
     "name": "stderr",
     "output_type": "stream",
     "text": [
      " 87%|████████▋ | 581/670 [21:59<03:37,  2.45s/it]"
     ]
    },
    {
     "name": "stdout",
     "output_type": "stream",
     "text": [
      "Processing C:\\Users\\david\\Downloads\\THSHAREX-19c-1\\THSHAREX-19c-1\\20231023-20231029-inst2-dumpdir\\report_2_THSHAREX_77866_77867.html...\n"
     ]
    },
    {
     "name": "stderr",
     "output_type": "stream",
     "text": [
      " 87%|████████▋ | 582/670 [22:01<03:39,  2.50s/it]"
     ]
    },
    {
     "name": "stdout",
     "output_type": "stream",
     "text": [
      "Processing C:\\Users\\david\\Downloads\\THSHAREX-19c-1\\THSHAREX-19c-1\\20231023-20231029-inst2-dumpdir\\report_2_THSHAREX_77867_77868.html...\n"
     ]
    },
    {
     "name": "stderr",
     "output_type": "stream",
     "text": [
      " 87%|████████▋ | 583/670 [22:03<03:31,  2.43s/it]"
     ]
    },
    {
     "name": "stdout",
     "output_type": "stream",
     "text": [
      "Processing C:\\Users\\david\\Downloads\\THSHAREX-19c-1\\THSHAREX-19c-1\\20231023-20231029-inst2-dumpdir\\report_2_THSHAREX_77868_77869.html...\n"
     ]
    },
    {
     "name": "stderr",
     "output_type": "stream",
     "text": [
      " 87%|████████▋ | 584/670 [22:06<03:29,  2.44s/it]"
     ]
    },
    {
     "name": "stdout",
     "output_type": "stream",
     "text": [
      "Processing C:\\Users\\david\\Downloads\\THSHAREX-19c-1\\THSHAREX-19c-1\\20231023-20231029-inst2-dumpdir\\report_2_THSHAREX_77869_77870.html...\n"
     ]
    },
    {
     "name": "stderr",
     "output_type": "stream",
     "text": [
      " 87%|████████▋ | 585/670 [22:08<03:23,  2.39s/it]"
     ]
    },
    {
     "name": "stdout",
     "output_type": "stream",
     "text": [
      "Processing C:\\Users\\david\\Downloads\\THSHAREX-19c-1\\THSHAREX-19c-1\\20231023-20231029-inst2-dumpdir\\report_2_THSHAREX_77870_77871.html...\n"
     ]
    },
    {
     "name": "stderr",
     "output_type": "stream",
     "text": [
      " 87%|████████▋ | 586/670 [22:10<03:16,  2.34s/it]"
     ]
    },
    {
     "name": "stdout",
     "output_type": "stream",
     "text": [
      "Processing C:\\Users\\david\\Downloads\\THSHAREX-19c-1\\THSHAREX-19c-1\\20231023-20231029-inst2-dumpdir\\report_2_THSHAREX_77871_77872.html...\n"
     ]
    },
    {
     "name": "stderr",
     "output_type": "stream",
     "text": [
      " 88%|████████▊ | 587/670 [22:13<03:13,  2.33s/it]"
     ]
    },
    {
     "name": "stdout",
     "output_type": "stream",
     "text": [
      "Processing C:\\Users\\david\\Downloads\\THSHAREX-19c-1\\THSHAREX-19c-1\\20231023-20231029-inst2-dumpdir\\report_2_THSHAREX_77872_77873.html...\n"
     ]
    },
    {
     "name": "stderr",
     "output_type": "stream",
     "text": [
      " 88%|████████▊ | 588/670 [22:15<03:08,  2.30s/it]"
     ]
    },
    {
     "name": "stdout",
     "output_type": "stream",
     "text": [
      "Processing C:\\Users\\david\\Downloads\\THSHAREX-19c-1\\THSHAREX-19c-1\\20231023-20231029-inst2-dumpdir\\report_2_THSHAREX_77873_77874.html...\n"
     ]
    },
    {
     "name": "stderr",
     "output_type": "stream",
     "text": [
      " 88%|████████▊ | 589/670 [22:17<03:03,  2.26s/it]"
     ]
    },
    {
     "name": "stdout",
     "output_type": "stream",
     "text": [
      "Processing C:\\Users\\david\\Downloads\\THSHAREX-19c-1\\THSHAREX-19c-1\\20231023-20231029-inst2-dumpdir\\report_2_THSHAREX_77874_77875.html...\n"
     ]
    },
    {
     "name": "stderr",
     "output_type": "stream",
     "text": [
      " 88%|████████▊ | 590/670 [22:19<02:59,  2.24s/it]"
     ]
    },
    {
     "name": "stdout",
     "output_type": "stream",
     "text": [
      "Processing C:\\Users\\david\\Downloads\\THSHAREX-19c-1\\THSHAREX-19c-1\\20231023-20231029-inst2-dumpdir\\report_2_THSHAREX_77875_77876.html...\n"
     ]
    },
    {
     "name": "stderr",
     "output_type": "stream",
     "text": [
      " 88%|████████▊ | 591/670 [22:22<02:59,  2.27s/it]"
     ]
    },
    {
     "name": "stdout",
     "output_type": "stream",
     "text": [
      "Processing C:\\Users\\david\\Downloads\\THSHAREX-19c-1\\THSHAREX-19c-1\\20231023-20231029-inst2-dumpdir\\report_2_THSHAREX_77876_77877.html...\n"
     ]
    },
    {
     "name": "stderr",
     "output_type": "stream",
     "text": [
      " 88%|████████▊ | 592/670 [22:24<02:57,  2.28s/it]"
     ]
    },
    {
     "name": "stdout",
     "output_type": "stream",
     "text": [
      "Processing C:\\Users\\david\\Downloads\\THSHAREX-19c-1\\THSHAREX-19c-1\\20231023-20231029-inst2-dumpdir\\report_2_THSHAREX_77877_77878.html...\n"
     ]
    },
    {
     "name": "stderr",
     "output_type": "stream",
     "text": [
      " 89%|████████▊ | 593/670 [22:26<02:52,  2.24s/it]"
     ]
    },
    {
     "name": "stdout",
     "output_type": "stream",
     "text": [
      "Processing C:\\Users\\david\\Downloads\\THSHAREX-19c-1\\THSHAREX-19c-1\\20231023-20231029-inst2-dumpdir\\report_2_THSHAREX_77878_77879.html...\n"
     ]
    },
    {
     "name": "stderr",
     "output_type": "stream",
     "text": [
      " 89%|████████▊ | 594/670 [22:28<02:47,  2.21s/it]"
     ]
    },
    {
     "name": "stdout",
     "output_type": "stream",
     "text": [
      "Processing C:\\Users\\david\\Downloads\\THSHAREX-19c-1\\THSHAREX-19c-1\\20231023-20231029-inst2-dumpdir\\report_2_THSHAREX_77879_77880.html...\n"
     ]
    },
    {
     "name": "stderr",
     "output_type": "stream",
     "text": [
      " 89%|████████▉ | 595/670 [22:31<02:47,  2.23s/it]"
     ]
    },
    {
     "name": "stdout",
     "output_type": "stream",
     "text": [
      "Processing C:\\Users\\david\\Downloads\\THSHAREX-19c-1\\THSHAREX-19c-1\\20231023-20231029-inst2-dumpdir\\report_2_THSHAREX_77880_77881.html...\n"
     ]
    },
    {
     "name": "stderr",
     "output_type": "stream",
     "text": [
      " 89%|████████▉ | 596/670 [22:33<02:50,  2.30s/it]"
     ]
    },
    {
     "name": "stdout",
     "output_type": "stream",
     "text": [
      "Processing C:\\Users\\david\\Downloads\\THSHAREX-19c-1\\THSHAREX-19c-1\\20231023-20231029-inst2-dumpdir\\report_2_THSHAREX_77881_77882.html...\n"
     ]
    },
    {
     "name": "stderr",
     "output_type": "stream",
     "text": [
      " 89%|████████▉ | 597/670 [22:36<02:58,  2.44s/it]"
     ]
    },
    {
     "name": "stdout",
     "output_type": "stream",
     "text": [
      "Processing C:\\Users\\david\\Downloads\\THSHAREX-19c-1\\THSHAREX-19c-1\\20231023-20231029-inst2-dumpdir\\report_2_THSHAREX_77882_77883.html...\n"
     ]
    },
    {
     "name": "stderr",
     "output_type": "stream",
     "text": [
      " 89%|████████▉ | 598/670 [22:38<02:51,  2.38s/it]"
     ]
    },
    {
     "name": "stdout",
     "output_type": "stream",
     "text": [
      "Processing C:\\Users\\david\\Downloads\\THSHAREX-19c-1\\THSHAREX-19c-1\\20231023-20231029-inst2-dumpdir\\report_2_THSHAREX_77883_77884.html...\n"
     ]
    },
    {
     "name": "stderr",
     "output_type": "stream",
     "text": [
      " 89%|████████▉ | 599/670 [22:40<02:45,  2.33s/it]"
     ]
    },
    {
     "name": "stdout",
     "output_type": "stream",
     "text": [
      "Processing C:\\Users\\david\\Downloads\\THSHAREX-19c-1\\THSHAREX-19c-1\\20231023-20231029-inst2-dumpdir\\report_2_THSHAREX_77884_77885.html...\n"
     ]
    },
    {
     "name": "stderr",
     "output_type": "stream",
     "text": [
      " 90%|████████▉ | 600/670 [22:43<02:54,  2.50s/it]"
     ]
    },
    {
     "name": "stdout",
     "output_type": "stream",
     "text": [
      "Processing C:\\Users\\david\\Downloads\\THSHAREX-19c-1\\THSHAREX-19c-1\\20231023-20231029-inst2-dumpdir\\report_2_THSHAREX_77885_77886.html...\n"
     ]
    },
    {
     "name": "stderr",
     "output_type": "stream",
     "text": [
      " 90%|████████▉ | 601/670 [22:46<02:57,  2.58s/it]"
     ]
    },
    {
     "name": "stdout",
     "output_type": "stream",
     "text": [
      "Processing C:\\Users\\david\\Downloads\\THSHAREX-19c-1\\THSHAREX-19c-1\\20231023-20231029-inst2-dumpdir\\report_2_THSHAREX_77886_77887.html...\n"
     ]
    },
    {
     "name": "stderr",
     "output_type": "stream",
     "text": [
      " 90%|████████▉ | 602/670 [22:48<02:51,  2.52s/it]"
     ]
    },
    {
     "name": "stdout",
     "output_type": "stream",
     "text": [
      "Processing C:\\Users\\david\\Downloads\\THSHAREX-19c-1\\THSHAREX-19c-1\\20231023-20231029-inst2-dumpdir\\report_2_THSHAREX_77887_77888.html...\n"
     ]
    },
    {
     "name": "stderr",
     "output_type": "stream",
     "text": [
      " 90%|█████████ | 603/670 [22:51<02:47,  2.49s/it]"
     ]
    },
    {
     "name": "stdout",
     "output_type": "stream",
     "text": [
      "Processing C:\\Users\\david\\Downloads\\THSHAREX-19c-1\\THSHAREX-19c-1\\20231023-20231029-inst2-dumpdir\\report_2_THSHAREX_77888_77889.html...\n"
     ]
    },
    {
     "name": "stderr",
     "output_type": "stream",
     "text": [
      " 90%|█████████ | 604/670 [22:53<02:40,  2.44s/it]"
     ]
    },
    {
     "name": "stdout",
     "output_type": "stream",
     "text": [
      "Processing C:\\Users\\david\\Downloads\\THSHAREX-19c-1\\THSHAREX-19c-1\\20231023-20231029-inst2-dumpdir\\report_2_THSHAREX_77889_77890.html...\n"
     ]
    },
    {
     "name": "stderr",
     "output_type": "stream",
     "text": [
      " 90%|█████████ | 605/670 [22:56<02:52,  2.65s/it]"
     ]
    },
    {
     "name": "stdout",
     "output_type": "stream",
     "text": [
      "Processing C:\\Users\\david\\Downloads\\THSHAREX-19c-1\\THSHAREX-19c-1\\20231023-20231029-inst2-dumpdir\\report_2_THSHAREX_77890_77891.html...\n"
     ]
    },
    {
     "name": "stderr",
     "output_type": "stream",
     "text": [
      " 90%|█████████ | 606/670 [22:59<02:56,  2.75s/it]"
     ]
    },
    {
     "name": "stdout",
     "output_type": "stream",
     "text": [
      "Processing C:\\Users\\david\\Downloads\\THSHAREX-19c-1\\THSHAREX-19c-1\\20231023-20231029-inst2-dumpdir\\report_2_THSHAREX_77891_77892.html...\n"
     ]
    },
    {
     "name": "stderr",
     "output_type": "stream",
     "text": [
      " 91%|█████████ | 607/670 [23:02<02:46,  2.65s/it]"
     ]
    },
    {
     "name": "stdout",
     "output_type": "stream",
     "text": [
      "Processing C:\\Users\\david\\Downloads\\THSHAREX-19c-1\\THSHAREX-19c-1\\20231023-20231029-inst2-dumpdir\\report_2_THSHAREX_77892_77893.html...\n"
     ]
    },
    {
     "name": "stderr",
     "output_type": "stream",
     "text": [
      " 91%|█████████ | 608/670 [23:04<02:37,  2.54s/it]"
     ]
    },
    {
     "name": "stdout",
     "output_type": "stream",
     "text": [
      "Processing C:\\Users\\david\\Downloads\\THSHAREX-19c-1\\THSHAREX-19c-1\\20231023-20231029-inst2-dumpdir\\report_2_THSHAREX_77893_77894.html...\n"
     ]
    },
    {
     "name": "stderr",
     "output_type": "stream",
     "text": [
      " 91%|█████████ | 609/670 [23:06<02:36,  2.56s/it]"
     ]
    },
    {
     "name": "stdout",
     "output_type": "stream",
     "text": [
      "Processing C:\\Users\\david\\Downloads\\THSHAREX-19c-1\\THSHAREX-19c-1\\20231023-20231029-inst2-dumpdir\\report_2_THSHAREX_77894_77895.html...\n"
     ]
    },
    {
     "name": "stderr",
     "output_type": "stream",
     "text": [
      " 91%|█████████ | 610/670 [23:09<02:33,  2.55s/it]"
     ]
    },
    {
     "name": "stdout",
     "output_type": "stream",
     "text": [
      "Processing C:\\Users\\david\\Downloads\\THSHAREX-19c-1\\THSHAREX-19c-1\\20231023-20231029-inst2-dumpdir\\report_2_THSHAREX_77895_77896.html...\n"
     ]
    },
    {
     "name": "stderr",
     "output_type": "stream",
     "text": [
      " 91%|█████████ | 611/670 [23:12<02:32,  2.59s/it]"
     ]
    },
    {
     "name": "stdout",
     "output_type": "stream",
     "text": [
      "Processing C:\\Users\\david\\Downloads\\THSHAREX-19c-1\\THSHAREX-19c-1\\20231023-20231029-inst2-dumpdir\\report_2_THSHAREX_77896_77897.html...\n"
     ]
    },
    {
     "name": "stderr",
     "output_type": "stream",
     "text": [
      " 91%|█████████▏| 612/670 [23:15<02:36,  2.70s/it]"
     ]
    },
    {
     "name": "stdout",
     "output_type": "stream",
     "text": [
      "Processing C:\\Users\\david\\Downloads\\THSHAREX-19c-1\\THSHAREX-19c-1\\20231023-20231029-inst2-dumpdir\\report_2_THSHAREX_77897_77898.html...\n"
     ]
    },
    {
     "name": "stderr",
     "output_type": "stream",
     "text": [
      " 91%|█████████▏| 613/670 [23:18<02:40,  2.81s/it]"
     ]
    },
    {
     "name": "stdout",
     "output_type": "stream",
     "text": [
      "Processing C:\\Users\\david\\Downloads\\THSHAREX-19c-1\\THSHAREX-19c-1\\20231023-20231029-inst2-dumpdir\\report_2_THSHAREX_77898_77899.html...\n"
     ]
    },
    {
     "name": "stderr",
     "output_type": "stream",
     "text": [
      " 92%|█████████▏| 614/670 [23:21<02:39,  2.86s/it]"
     ]
    },
    {
     "name": "stdout",
     "output_type": "stream",
     "text": [
      "Processing C:\\Users\\david\\Downloads\\THSHAREX-19c-1\\THSHAREX-19c-1\\20231023-20231029-inst2-dumpdir\\report_2_THSHAREX_77899_77900.html...\n"
     ]
    },
    {
     "name": "stderr",
     "output_type": "stream",
     "text": [
      " 92%|█████████▏| 615/670 [23:24<02:37,  2.86s/it]"
     ]
    },
    {
     "name": "stdout",
     "output_type": "stream",
     "text": [
      "Processing C:\\Users\\david\\Downloads\\THSHAREX-19c-1\\THSHAREX-19c-1\\20231023-20231029-inst2-dumpdir\\report_2_THSHAREX_77900_77901.html...\n"
     ]
    },
    {
     "name": "stderr",
     "output_type": "stream",
     "text": [
      " 92%|█████████▏| 616/670 [23:26<02:30,  2.80s/it]"
     ]
    },
    {
     "name": "stdout",
     "output_type": "stream",
     "text": [
      "Processing C:\\Users\\david\\Downloads\\THSHAREX-19c-1\\THSHAREX-19c-1\\20231023-20231029-inst2-dumpdir\\report_2_THSHAREX_77901_77902.html...\n"
     ]
    },
    {
     "name": "stderr",
     "output_type": "stream",
     "text": [
      " 92%|█████████▏| 617/670 [23:29<02:20,  2.66s/it]"
     ]
    },
    {
     "name": "stdout",
     "output_type": "stream",
     "text": [
      "Processing C:\\Users\\david\\Downloads\\THSHAREX-19c-1\\THSHAREX-19c-1\\20231023-20231029-inst2-dumpdir\\report_2_THSHAREX_77902_77903.html...\n"
     ]
    },
    {
     "name": "stderr",
     "output_type": "stream",
     "text": [
      " 92%|█████████▏| 618/670 [23:31<02:11,  2.53s/it]"
     ]
    },
    {
     "name": "stdout",
     "output_type": "stream",
     "text": [
      "Processing C:\\Users\\david\\Downloads\\THSHAREX-19c-1\\THSHAREX-19c-1\\20231023-20231029-inst2-dumpdir\\report_2_THSHAREX_77903_77904.html...\n"
     ]
    },
    {
     "name": "stderr",
     "output_type": "stream",
     "text": [
      " 92%|█████████▏| 619/670 [23:33<02:03,  2.42s/it]"
     ]
    },
    {
     "name": "stdout",
     "output_type": "stream",
     "text": [
      "Processing C:\\Users\\david\\Downloads\\THSHAREX-19c-1\\THSHAREX-19c-1\\20231023-20231029-inst2-dumpdir\\report_2_THSHAREX_77904_77905.html...\n"
     ]
    },
    {
     "name": "stderr",
     "output_type": "stream",
     "text": [
      " 93%|█████████▎| 620/670 [23:35<01:55,  2.30s/it]"
     ]
    },
    {
     "name": "stdout",
     "output_type": "stream",
     "text": [
      "Processing C:\\Users\\david\\Downloads\\THSHAREX-19c-1\\THSHAREX-19c-1\\20231023-20231029-inst2-dumpdir\\report_2_THSHAREX_77905_77906.html...\n"
     ]
    },
    {
     "name": "stderr",
     "output_type": "stream",
     "text": [
      " 93%|█████████▎| 621/670 [23:37<01:56,  2.38s/it]"
     ]
    },
    {
     "name": "stdout",
     "output_type": "stream",
     "text": [
      "Processing C:\\Users\\david\\Downloads\\THSHAREX-19c-1\\THSHAREX-19c-1\\20231023-20231029-inst2-dumpdir\\report_2_THSHAREX_77906_77907.html...\n"
     ]
    },
    {
     "name": "stderr",
     "output_type": "stream",
     "text": [
      " 93%|█████████▎| 622/670 [23:40<01:51,  2.32s/it]"
     ]
    },
    {
     "name": "stdout",
     "output_type": "stream",
     "text": [
      "Processing C:\\Users\\david\\Downloads\\THSHAREX-19c-1\\THSHAREX-19c-1\\20231023-20231029-inst2-dumpdir\\report_2_THSHAREX_77907_77908.html...\n"
     ]
    },
    {
     "name": "stderr",
     "output_type": "stream",
     "text": [
      " 93%|█████████▎| 623/670 [23:42<01:55,  2.45s/it]"
     ]
    },
    {
     "name": "stdout",
     "output_type": "stream",
     "text": [
      "Processing C:\\Users\\david\\Downloads\\THSHAREX-19c-1\\THSHAREX-19c-1\\20231023-20231029-inst2-dumpdir\\report_2_THSHAREX_77908_77909.html...\n"
     ]
    },
    {
     "name": "stderr",
     "output_type": "stream",
     "text": [
      " 93%|█████████▎| 624/670 [23:45<01:49,  2.37s/it]"
     ]
    },
    {
     "name": "stdout",
     "output_type": "stream",
     "text": [
      "Processing C:\\Users\\david\\Downloads\\THSHAREX-19c-1\\THSHAREX-19c-1\\20231023-20231029-inst2-dumpdir\\report_2_THSHAREX_77909_77910.html...\n"
     ]
    },
    {
     "name": "stderr",
     "output_type": "stream",
     "text": [
      " 93%|█████████▎| 625/670 [23:47<01:49,  2.42s/it]"
     ]
    },
    {
     "name": "stdout",
     "output_type": "stream",
     "text": [
      "Processing C:\\Users\\david\\Downloads\\THSHAREX-19c-1\\THSHAREX-19c-1\\20231023-20231029-inst2-dumpdir\\report_2_THSHAREX_77910_77911.html...\n"
     ]
    },
    {
     "name": "stderr",
     "output_type": "stream",
     "text": [
      " 93%|█████████▎| 626/670 [23:50<01:58,  2.69s/it]"
     ]
    },
    {
     "name": "stdout",
     "output_type": "stream",
     "text": [
      "Processing C:\\Users\\david\\Downloads\\THSHAREX-19c-1\\THSHAREX-19c-1\\20231023-20231029-inst2-dumpdir\\report_2_THSHAREX_77911_77912.html...\n"
     ]
    },
    {
     "name": "stderr",
     "output_type": "stream",
     "text": [
      " 94%|█████████▎| 627/670 [23:53<01:50,  2.56s/it]"
     ]
    },
    {
     "name": "stdout",
     "output_type": "stream",
     "text": [
      "Processing C:\\Users\\david\\Downloads\\THSHAREX-19c-1\\THSHAREX-19c-1\\20231023-20231029-inst2-dumpdir\\report_2_THSHAREX_77913_77914.html...\n"
     ]
    },
    {
     "name": "stderr",
     "output_type": "stream",
     "text": [
      " 94%|█████████▎| 628/670 [23:55<01:44,  2.50s/it]"
     ]
    },
    {
     "name": "stdout",
     "output_type": "stream",
     "text": [
      "Processing C:\\Users\\david\\Downloads\\THSHAREX-19c-1\\THSHAREX-19c-1\\20231023-20231029-inst2-dumpdir\\report_2_THSHAREX_77914_77915.html...\n"
     ]
    },
    {
     "name": "stderr",
     "output_type": "stream",
     "text": [
      " 94%|█████████▍| 629/670 [23:57<01:39,  2.42s/it]"
     ]
    },
    {
     "name": "stdout",
     "output_type": "stream",
     "text": [
      "Processing C:\\Users\\david\\Downloads\\THSHAREX-19c-1\\THSHAREX-19c-1\\20231023-20231029-inst2-dumpdir\\report_2_THSHAREX_77915_77916.html...\n"
     ]
    },
    {
     "name": "stderr",
     "output_type": "stream",
     "text": [
      " 94%|█████████▍| 630/670 [24:00<01:39,  2.50s/it]"
     ]
    },
    {
     "name": "stdout",
     "output_type": "stream",
     "text": [
      "Processing C:\\Users\\david\\Downloads\\THSHAREX-19c-1\\THSHAREX-19c-1\\20231023-20231029-inst2-dumpdir\\report_2_THSHAREX_77916_77917.html...\n"
     ]
    },
    {
     "name": "stderr",
     "output_type": "stream",
     "text": [
      " 94%|█████████▍| 631/670 [24:03<01:39,  2.56s/it]"
     ]
    },
    {
     "name": "stdout",
     "output_type": "stream",
     "text": [
      "Processing C:\\Users\\david\\Downloads\\THSHAREX-19c-1\\THSHAREX-19c-1\\20231023-20231029-inst2-dumpdir\\report_2_THSHAREX_77917_77918.html...\n"
     ]
    },
    {
     "name": "stderr",
     "output_type": "stream",
     "text": [
      " 94%|█████████▍| 632/670 [24:05<01:34,  2.48s/it]"
     ]
    },
    {
     "name": "stdout",
     "output_type": "stream",
     "text": [
      "Processing C:\\Users\\david\\Downloads\\THSHAREX-19c-1\\THSHAREX-19c-1\\20231023-20231029-inst2-dumpdir\\report_2_THSHAREX_77918_77919.html...\n"
     ]
    },
    {
     "name": "stderr",
     "output_type": "stream",
     "text": [
      " 94%|█████████▍| 633/670 [24:10<01:59,  3.23s/it]"
     ]
    },
    {
     "name": "stdout",
     "output_type": "stream",
     "text": [
      "Processing C:\\Users\\david\\Downloads\\THSHAREX-19c-1\\THSHAREX-19c-1\\20231023-20231029-inst2-dumpdir\\report_2_THSHAREX_77919_77920.html...\n"
     ]
    },
    {
     "name": "stderr",
     "output_type": "stream",
     "text": [
      " 95%|█████████▍| 634/670 [24:14<02:08,  3.58s/it]"
     ]
    },
    {
     "name": "stdout",
     "output_type": "stream",
     "text": [
      "Processing C:\\Users\\david\\Downloads\\THSHAREX-19c-1\\THSHAREX-19c-1\\20231023-20231029-inst2-dumpdir\\report_2_THSHAREX_77920_77921.html...\n"
     ]
    },
    {
     "name": "stderr",
     "output_type": "stream",
     "text": [
      " 95%|█████████▍| 635/670 [24:20<02:22,  4.07s/it]"
     ]
    },
    {
     "name": "stdout",
     "output_type": "stream",
     "text": [
      "Processing C:\\Users\\david\\Downloads\\THSHAREX-19c-1\\THSHAREX-19c-1\\20231023-20231029-inst2-dumpdir\\report_2_THSHAREX_77921_77922.html...\n"
     ]
    },
    {
     "name": "stderr",
     "output_type": "stream",
     "text": [
      " 95%|█████████▍| 636/670 [24:22<02:03,  3.63s/it]"
     ]
    },
    {
     "name": "stdout",
     "output_type": "stream",
     "text": [
      "Processing C:\\Users\\david\\Downloads\\THSHAREX-19c-1\\THSHAREX-19c-1\\20231023-20231029-inst2-dumpdir\\report_2_THSHAREX_77922_77923.html...\n"
     ]
    },
    {
     "name": "stderr",
     "output_type": "stream",
     "text": [
      " 95%|█████████▌| 637/670 [24:25<01:48,  3.29s/it]"
     ]
    },
    {
     "name": "stdout",
     "output_type": "stream",
     "text": [
      "Processing C:\\Users\\david\\Downloads\\THSHAREX-19c-1\\THSHAREX-19c-1\\20231023-20231029-inst2-dumpdir\\report_2_THSHAREX_77923_77924.html...\n"
     ]
    },
    {
     "name": "stderr",
     "output_type": "stream",
     "text": [
      " 95%|█████████▌| 638/670 [24:27<01:35,  2.99s/it]"
     ]
    },
    {
     "name": "stdout",
     "output_type": "stream",
     "text": [
      "Processing C:\\Users\\david\\Downloads\\THSHAREX-19c-1\\THSHAREX-19c-1\\20231023-20231029-inst2-dumpdir\\report_2_THSHAREX_77924_77925.html...\n"
     ]
    },
    {
     "name": "stderr",
     "output_type": "stream",
     "text": [
      " 95%|█████████▌| 639/670 [24:30<01:28,  2.86s/it]"
     ]
    },
    {
     "name": "stdout",
     "output_type": "stream",
     "text": [
      "Processing C:\\Users\\david\\Downloads\\THSHAREX-19c-1\\THSHAREX-19c-1\\20231023-20231029-inst2-dumpdir\\report_2_THSHAREX_77925_77926.html...\n"
     ]
    },
    {
     "name": "stderr",
     "output_type": "stream",
     "text": [
      " 96%|█████████▌| 640/670 [24:32<01:20,  2.68s/it]"
     ]
    },
    {
     "name": "stdout",
     "output_type": "stream",
     "text": [
      "Processing C:\\Users\\david\\Downloads\\THSHAREX-19c-1\\THSHAREX-19c-1\\20231023-20231029-inst2-dumpdir\\report_2_THSHAREX_77926_77927.html...\n"
     ]
    },
    {
     "name": "stderr",
     "output_type": "stream",
     "text": [
      " 96%|█████████▌| 641/670 [24:35<01:20,  2.79s/it]"
     ]
    },
    {
     "name": "stdout",
     "output_type": "stream",
     "text": [
      "Processing C:\\Users\\david\\Downloads\\THSHAREX-19c-1\\THSHAREX-19c-1\\20231023-20231029-inst2-dumpdir\\report_2_THSHAREX_77927_77928.html...\n"
     ]
    },
    {
     "name": "stderr",
     "output_type": "stream",
     "text": [
      " 96%|█████████▌| 642/670 [24:37<01:14,  2.68s/it]"
     ]
    },
    {
     "name": "stdout",
     "output_type": "stream",
     "text": [
      "Processing C:\\Users\\david\\Downloads\\THSHAREX-19c-1\\THSHAREX-19c-1\\20231023-20231029-inst2-dumpdir\\report_2_THSHAREX_77928_77929.html...\n"
     ]
    },
    {
     "name": "stderr",
     "output_type": "stream",
     "text": [
      " 96%|█████████▌| 643/670 [24:39<01:08,  2.54s/it]"
     ]
    },
    {
     "name": "stdout",
     "output_type": "stream",
     "text": [
      "Processing C:\\Users\\david\\Downloads\\THSHAREX-19c-1\\THSHAREX-19c-1\\20231023-20231029-inst2-dumpdir\\report_2_THSHAREX_77929_77930.html...\n"
     ]
    },
    {
     "name": "stderr",
     "output_type": "stream",
     "text": [
      " 96%|█████████▌| 644/670 [24:42<01:06,  2.55s/it]"
     ]
    },
    {
     "name": "stdout",
     "output_type": "stream",
     "text": [
      "Processing C:\\Users\\david\\Downloads\\THSHAREX-19c-1\\THSHAREX-19c-1\\20231023-20231029-inst2-dumpdir\\report_2_THSHAREX_77930_77931.html...\n"
     ]
    },
    {
     "name": "stderr",
     "output_type": "stream",
     "text": [
      " 96%|█████████▋| 645/670 [24:44<01:02,  2.52s/it]"
     ]
    },
    {
     "name": "stdout",
     "output_type": "stream",
     "text": [
      "Processing C:\\Users\\david\\Downloads\\THSHAREX-19c-1\\THSHAREX-19c-1\\20231023-20231029-inst2-dumpdir\\report_2_THSHAREX_77931_77932.html...\n"
     ]
    },
    {
     "name": "stderr",
     "output_type": "stream",
     "text": [
      " 96%|█████████▋| 646/670 [24:47<01:01,  2.55s/it]"
     ]
    },
    {
     "name": "stdout",
     "output_type": "stream",
     "text": [
      "Processing C:\\Users\\david\\Downloads\\THSHAREX-19c-1\\THSHAREX-19c-1\\20231023-20231029-inst2-dumpdir\\report_2_THSHAREX_77932_77933.html...\n"
     ]
    },
    {
     "name": "stderr",
     "output_type": "stream",
     "text": [
      " 97%|█████████▋| 647/670 [24:49<00:57,  2.48s/it]"
     ]
    },
    {
     "name": "stdout",
     "output_type": "stream",
     "text": [
      "Processing C:\\Users\\david\\Downloads\\THSHAREX-19c-1\\THSHAREX-19c-1\\20231023-20231029-inst2-dumpdir\\report_2_THSHAREX_77933_77934.html...\n"
     ]
    },
    {
     "name": "stderr",
     "output_type": "stream",
     "text": [
      " 97%|█████████▋| 648/670 [24:52<00:54,  2.48s/it]"
     ]
    },
    {
     "name": "stdout",
     "output_type": "stream",
     "text": [
      "Processing C:\\Users\\david\\Downloads\\THSHAREX-19c-1\\THSHAREX-19c-1\\20231023-20231029-inst2-dumpdir\\report_2_THSHAREX_77934_77935.html...\n"
     ]
    },
    {
     "name": "stderr",
     "output_type": "stream",
     "text": [
      " 97%|█████████▋| 649/670 [24:54<00:51,  2.45s/it]"
     ]
    },
    {
     "name": "stdout",
     "output_type": "stream",
     "text": [
      "Processing C:\\Users\\david\\Downloads\\THSHAREX-19c-1\\THSHAREX-19c-1\\20231023-20231029-inst2-dumpdir\\report_2_THSHAREX_77935_77936.html...\n"
     ]
    },
    {
     "name": "stderr",
     "output_type": "stream",
     "text": [
      " 97%|█████████▋| 650/670 [24:57<00:48,  2.41s/it]"
     ]
    },
    {
     "name": "stdout",
     "output_type": "stream",
     "text": [
      "Processing C:\\Users\\david\\Downloads\\THSHAREX-19c-1\\THSHAREX-19c-1\\20231023-20231029-inst2-dumpdir\\report_2_THSHAREX_77936_77937.html...\n"
     ]
    },
    {
     "name": "stderr",
     "output_type": "stream",
     "text": [
      " 97%|█████████▋| 651/670 [24:59<00:45,  2.38s/it]"
     ]
    },
    {
     "name": "stdout",
     "output_type": "stream",
     "text": [
      "Processing C:\\Users\\david\\Downloads\\THSHAREX-19c-1\\THSHAREX-19c-1\\20231023-20231029-inst2-dumpdir\\report_2_THSHAREX_77937_77938.html...\n"
     ]
    },
    {
     "name": "stderr",
     "output_type": "stream",
     "text": [
      " 97%|█████████▋| 652/670 [25:01<00:42,  2.36s/it]"
     ]
    },
    {
     "name": "stdout",
     "output_type": "stream",
     "text": [
      "Processing C:\\Users\\david\\Downloads\\THSHAREX-19c-1\\THSHAREX-19c-1\\20231023-20231029-inst2-dumpdir\\report_2_THSHAREX_77938_77939.html...\n"
     ]
    },
    {
     "name": "stderr",
     "output_type": "stream",
     "text": [
      " 97%|█████████▋| 653/670 [25:04<00:43,  2.57s/it]"
     ]
    },
    {
     "name": "stdout",
     "output_type": "stream",
     "text": [
      "Processing C:\\Users\\david\\Downloads\\THSHAREX-19c-1\\THSHAREX-19c-1\\20231023-20231029-inst2-dumpdir\\report_2_THSHAREX_77939_77940.html...\n"
     ]
    },
    {
     "name": "stderr",
     "output_type": "stream",
     "text": [
      " 98%|█████████▊| 654/670 [25:07<00:40,  2.56s/it]"
     ]
    },
    {
     "name": "stdout",
     "output_type": "stream",
     "text": [
      "Processing C:\\Users\\david\\Downloads\\THSHAREX-19c-1\\THSHAREX-19c-1\\20231023-20231029-inst2-dumpdir\\report_2_THSHAREX_77940_77941.html...\n"
     ]
    },
    {
     "name": "stderr",
     "output_type": "stream",
     "text": [
      " 98%|█████████▊| 655/670 [25:09<00:36,  2.44s/it]"
     ]
    },
    {
     "name": "stdout",
     "output_type": "stream",
     "text": [
      "Processing C:\\Users\\david\\Downloads\\THSHAREX-19c-1\\THSHAREX-19c-1\\20231023-20231029-inst2-dumpdir\\report_2_THSHAREX_77941_77942.html...\n"
     ]
    },
    {
     "name": "stderr",
     "output_type": "stream",
     "text": [
      " 98%|█████████▊| 656/670 [25:11<00:34,  2.46s/it]"
     ]
    },
    {
     "name": "stdout",
     "output_type": "stream",
     "text": [
      "Processing C:\\Users\\david\\Downloads\\THSHAREX-19c-1\\THSHAREX-19c-1\\20231023-20231029-inst2-dumpdir\\report_2_THSHAREX_77942_77943.html...\n"
     ]
    },
    {
     "name": "stderr",
     "output_type": "stream",
     "text": [
      " 98%|█████████▊| 657/670 [25:14<00:30,  2.36s/it]"
     ]
    },
    {
     "name": "stdout",
     "output_type": "stream",
     "text": [
      "Processing C:\\Users\\david\\Downloads\\THSHAREX-19c-1\\THSHAREX-19c-1\\20231023-20231029-inst2-dumpdir\\report_2_THSHAREX_77943_77944.html...\n"
     ]
    },
    {
     "name": "stderr",
     "output_type": "stream",
     "text": [
      " 98%|█████████▊| 658/670 [25:16<00:28,  2.35s/it]"
     ]
    },
    {
     "name": "stdout",
     "output_type": "stream",
     "text": [
      "Processing C:\\Users\\david\\Downloads\\THSHAREX-19c-1\\THSHAREX-19c-1\\20231023-20231029-inst2-dumpdir\\report_2_THSHAREX_77944_77945.html...\n"
     ]
    },
    {
     "name": "stderr",
     "output_type": "stream",
     "text": [
      " 98%|█████████▊| 659/670 [25:18<00:25,  2.30s/it]"
     ]
    },
    {
     "name": "stdout",
     "output_type": "stream",
     "text": [
      "Processing C:\\Users\\david\\Downloads\\THSHAREX-19c-1\\THSHAREX-19c-1\\20231023-20231029-inst2-dumpdir\\report_2_THSHAREX_77945_77946.html...\n"
     ]
    },
    {
     "name": "stderr",
     "output_type": "stream",
     "text": [
      " 99%|█████████▊| 660/670 [25:20<00:23,  2.31s/it]"
     ]
    },
    {
     "name": "stdout",
     "output_type": "stream",
     "text": [
      "Processing C:\\Users\\david\\Downloads\\THSHAREX-19c-1\\THSHAREX-19c-1\\20231023-20231029-inst2-dumpdir\\report_2_THSHAREX_77946_77947.html...\n"
     ]
    },
    {
     "name": "stderr",
     "output_type": "stream",
     "text": [
      " 99%|█████████▊| 661/670 [25:23<00:20,  2.25s/it]"
     ]
    },
    {
     "name": "stdout",
     "output_type": "stream",
     "text": [
      "Processing C:\\Users\\david\\Downloads\\THSHAREX-19c-1\\THSHAREX-19c-1\\20231023-20231029-inst2-dumpdir\\report_2_THSHAREX_77947_77948.html...\n"
     ]
    },
    {
     "name": "stderr",
     "output_type": "stream",
     "text": [
      " 99%|█████████▉| 662/670 [25:25<00:18,  2.26s/it]"
     ]
    },
    {
     "name": "stdout",
     "output_type": "stream",
     "text": [
      "Processing C:\\Users\\david\\Downloads\\THSHAREX-19c-1\\THSHAREX-19c-1\\20231023-20231029-inst2-dumpdir\\report_2_THSHAREX_77948_77949.html...\n"
     ]
    },
    {
     "name": "stderr",
     "output_type": "stream",
     "text": [
      " 99%|█████████▉| 663/670 [25:27<00:16,  2.29s/it]"
     ]
    },
    {
     "name": "stdout",
     "output_type": "stream",
     "text": [
      "Processing C:\\Users\\david\\Downloads\\THSHAREX-19c-1\\THSHAREX-19c-1\\20231023-20231029-inst2-dumpdir\\report_2_THSHAREX_77949_77950.html...\n"
     ]
    },
    {
     "name": "stderr",
     "output_type": "stream",
     "text": [
      " 99%|█████████▉| 664/670 [25:29<00:13,  2.26s/it]"
     ]
    },
    {
     "name": "stdout",
     "output_type": "stream",
     "text": [
      "Processing C:\\Users\\david\\Downloads\\THSHAREX-19c-1\\THSHAREX-19c-1\\20231023-20231029-inst2-dumpdir\\report_2_THSHAREX_77950_77951.html...\n"
     ]
    },
    {
     "name": "stderr",
     "output_type": "stream",
     "text": [
      " 99%|█████████▉| 665/670 [25:31<00:11,  2.20s/it]"
     ]
    },
    {
     "name": "stdout",
     "output_type": "stream",
     "text": [
      "Processing C:\\Users\\david\\Downloads\\THSHAREX-19c-1\\THSHAREX-19c-1\\20231023-20231029-inst2-dumpdir\\report_2_THSHAREX_77951_77952.html...\n"
     ]
    },
    {
     "name": "stderr",
     "output_type": "stream",
     "text": [
      " 99%|█████████▉| 666/670 [25:34<00:08,  2.22s/it]"
     ]
    },
    {
     "name": "stdout",
     "output_type": "stream",
     "text": [
      "Processing C:\\Users\\david\\Downloads\\THSHAREX-19c-1\\THSHAREX-19c-1\\20231023-20231029-inst2-dumpdir\\report_2_THSHAREX_77952_77953.html...\n"
     ]
    },
    {
     "name": "stderr",
     "output_type": "stream",
     "text": [
      "100%|█████████▉| 667/670 [25:36<00:06,  2.21s/it]"
     ]
    },
    {
     "name": "stdout",
     "output_type": "stream",
     "text": [
      "Processing C:\\Users\\david\\Downloads\\THSHAREX-19c-1\\THSHAREX-19c-1\\20231023-20231029-inst2-dumpdir\\report_2_THSHAREX_77953_77954.html...\n"
     ]
    },
    {
     "name": "stderr",
     "output_type": "stream",
     "text": [
      "100%|█████████▉| 668/670 [25:38<00:04,  2.17s/it]"
     ]
    },
    {
     "name": "stdout",
     "output_type": "stream",
     "text": [
      "Processing C:\\Users\\david\\Downloads\\THSHAREX-19c-1\\THSHAREX-19c-1\\20231023-20231029-inst2-dumpdir\\report_2_THSHAREX_77954_77955.html...\n"
     ]
    },
    {
     "name": "stderr",
     "output_type": "stream",
     "text": [
      "100%|█████████▉| 669/670 [25:40<00:02,  2.18s/it]"
     ]
    },
    {
     "name": "stdout",
     "output_type": "stream",
     "text": [
      "Processing C:\\Users\\david\\Downloads\\THSHAREX-19c-1\\THSHAREX-19c-1\\20231023-20231029-inst2-dumpdir\\report_2_THSHAREX_77955_77956.html...\n"
     ]
    },
    {
     "name": "stderr",
     "output_type": "stream",
     "text": [
      "100%|██████████| 670/670 [25:42<00:00,  2.30s/it]\n"
     ]
    },
    {
     "name": "stdout",
     "output_type": "stream",
     "text": [
      "Writing csv files...\n"
     ]
    },
    {
     "name": "stderr",
     "output_type": "stream",
     "text": [
      " 78%|███████▊  | 7/9 [00:00<00:00, 44.46it/s]"
     ]
    },
    {
     "name": "stdout",
     "output_type": "stream",
     "text": [
      "  Created: load_profile.csv\n",
      "  Created: foreground_events_wait.csv\n",
      "  Created: wait_classes.csv\n",
      "  Created: sql_elapsed.csv\n",
      "  Created: sql_cpu.csv\n",
      "  Created: sql_user_io.csv\n",
      "  Created: tablespace_io.csv\n",
      "  Created: blocking_sessions.csv\n",
      "  Created: host_info.csv\n"
     ]
    },
    {
     "name": "stderr",
     "output_type": "stream",
     "text": [
      "100%|██████████| 9/9 [00:00<00:00, 48.07it/s]\n"
     ]
    }
   ],
   "source": [
    "data = get_tables_from_json('tables.json')\n",
    "p = AWRParser(data)\n",
    "output = p.make_csv(mode='new', input_dir='C:/Users/david/Downloads/THSHAREX-19c-1/THSHAREX-19c-1', \n",
    "                        output_dir='C:/Users/david/Downloads/THSHAREX-19c-1/THSHAREX-19c-1/parsed', \n",
    "                        recursive=True, verbose=True)"
   ]
  }
 ],
 "metadata": {
  "kernelspec": {
   "display_name": "Python 3",
   "language": "python",
   "name": "python3"
  },
  "language_info": {
   "codemirror_mode": {
    "name": "ipython",
    "version": 3
   },
   "file_extension": ".py",
   "mimetype": "text/x-python",
   "name": "python",
   "nbconvert_exporter": "python",
   "pygments_lexer": "ipython3",
   "version": "3.9.13"
  }
 },
 "nbformat": 4,
 "nbformat_minor": 0
}
